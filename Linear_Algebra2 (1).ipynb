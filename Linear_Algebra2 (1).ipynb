{
  "nbformat": 4,
  "nbformat_minor": 0,
  "metadata": {
    "colab": {
      "provenance": []
    },
    "kernelspec": {
      "name": "python3",
      "display_name": "Python 3"
    },
    "language_info": {
      "name": "python"
    }
  },
  "cells": [
    {
      "cell_type": "code",
      "execution_count": 1,
      "metadata": {
        "id": "9-xXVsRwmjJZ"
      },
      "outputs": [],
      "source": [
        "import numpy as np"
      ]
    },
    {
      "cell_type": "markdown",
      "source": [
        "##Matrix"
      ],
      "metadata": {
        "id": "tf3fDbcnxuCY"
      }
    },
    {
      "cell_type": "code",
      "source": [
        "# create a random matrix of order order 5 x 5\n",
        "np.random.seed(24)\n",
        "A = np.random.randint(0,10,(5,5))\n",
        "A"
      ],
      "metadata": {
        "id": "2V0Hjb1CxwR_",
        "colab": {
          "base_uri": "https://localhost:8080/"
        },
        "outputId": "19c48ae3-ac29-43a4-91ee-4097d2169f8f"
      },
      "execution_count": 2,
      "outputs": [
        {
          "output_type": "execute_result",
          "data": {
            "text/plain": [
              "array([[2, 3, 0, 7, 1],\n",
              "       [1, 1, 4, 4, 3],\n",
              "       [2, 3, 3, 7, 9],\n",
              "       [2, 7, 7, 9, 3],\n",
              "       [0, 1, 1, 7, 6]])"
            ]
          },
          "metadata": {},
          "execution_count": 2
        }
      ]
    },
    {
      "cell_type": "code",
      "source": [
        "A[2:5,1:5] # Slice of a matrix"
      ],
      "metadata": {
        "id": "7WNOWy9tyWhp",
        "colab": {
          "base_uri": "https://localhost:8080/"
        },
        "outputId": "9d8da33c-7818-4851-e218-f9627b0a66ab"
      },
      "execution_count": 3,
      "outputs": [
        {
          "output_type": "execute_result",
          "data": {
            "text/plain": [
              "array([[3, 3, 7, 9],\n",
              "       [7, 7, 9, 3],\n",
              "       [1, 1, 7, 6]])"
            ]
          },
          "metadata": {},
          "execution_count": 3
        }
      ]
    },
    {
      "cell_type": "code",
      "source": [
        "A[2:,1:]"
      ],
      "metadata": {
        "id": "5dBRAi9Byn4u",
        "colab": {
          "base_uri": "https://localhost:8080/"
        },
        "outputId": "b0c90baa-035d-4851-e483-7c7c9cc4775e"
      },
      "execution_count": 4,
      "outputs": [
        {
          "output_type": "execute_result",
          "data": {
            "text/plain": [
              "array([[3, 3, 7, 9],\n",
              "       [7, 7, 9, 3],\n",
              "       [1, 1, 7, 6]])"
            ]
          },
          "metadata": {},
          "execution_count": 4
        }
      ]
    },
    {
      "cell_type": "code",
      "source": [
        "# element of position 2,3\n",
        "A[2,3]"
      ],
      "metadata": {
        "id": "Mpo8bX-EyuKP",
        "colab": {
          "base_uri": "https://localhost:8080/"
        },
        "outputId": "78f4b95c-4078-444a-8e4b-ee65d7d57c25"
      },
      "execution_count": 5,
      "outputs": [
        {
          "output_type": "execute_result",
          "data": {
            "text/plain": [
              "7"
            ]
          },
          "metadata": {},
          "execution_count": 5
        }
      ]
    },
    {
      "cell_type": "markdown",
      "source": [
        "### Using sympy library"
      ],
      "metadata": {
        "id": "xt2Xo-JIzDAO"
      }
    },
    {
      "cell_type": "code",
      "source": [
        "import sympy as sp\n",
        "B = sp.Matrix(A)\n",
        "B"
      ],
      "metadata": {
        "id": "80X7TC_JzHa3",
        "colab": {
          "base_uri": "https://localhost:8080/",
          "height": 119
        },
        "outputId": "d5b47cfe-d6db-495a-856a-809b5d92d345"
      },
      "execution_count": 6,
      "outputs": [
        {
          "output_type": "execute_result",
          "data": {
            "text/plain": [
              "Matrix([\n",
              "[2, 3, 0, 7, 1],\n",
              "[1, 1, 4, 4, 3],\n",
              "[2, 3, 3, 7, 9],\n",
              "[2, 7, 7, 9, 3],\n",
              "[0, 1, 1, 7, 6]])"
            ],
            "text/latex": "$\\displaystyle \\left[\\begin{matrix}2 & 3 & 0 & 7 & 1\\\\1 & 1 & 4 & 4 & 3\\\\2 & 3 & 3 & 7 & 9\\\\2 & 7 & 7 & 9 & 3\\\\0 & 1 & 1 & 7 & 6\\end{matrix}\\right]$"
          },
          "metadata": {},
          "execution_count": 6
        }
      ]
    },
    {
      "cell_type": "markdown",
      "source": [
        "##QR Decomposition"
      ],
      "metadata": {
        "id": "Ui3pMUW2pqxN"
      }
    },
    {
      "cell_type": "code",
      "source": [
        "np.random.seed(2)\n",
        "A = np.random.randint(0,10,(5,5))\n",
        "sp.Matrix(A)"
      ],
      "metadata": {
        "id": "Ck2-55w2pPQb",
        "colab": {
          "base_uri": "https://localhost:8080/",
          "height": 119
        },
        "outputId": "768e2412-b856-41e2-ac21-09780f42a2b5"
      },
      "execution_count": 7,
      "outputs": [
        {
          "output_type": "execute_result",
          "data": {
            "text/plain": [
              "Matrix([\n",
              "[8, 8, 6, 2, 8],\n",
              "[7, 2, 1, 5, 4],\n",
              "[4, 5, 7, 3, 6],\n",
              "[4, 3, 7, 6, 1],\n",
              "[3, 5, 8, 4, 6]])"
            ],
            "text/latex": "$\\displaystyle \\left[\\begin{matrix}8 & 8 & 6 & 2 & 8\\\\7 & 2 & 1 & 5 & 4\\\\4 & 5 & 7 & 3 & 6\\\\4 & 3 & 7 & 6 & 1\\\\3 & 5 & 8 & 4 & 6\\end{matrix}\\right]$"
          },
          "metadata": {},
          "execution_count": 7
        }
      ]
    },
    {
      "cell_type": "code",
      "source": [
        "np.linalg.qr(A,'complete')"
      ],
      "metadata": {
        "id": "CxAJJy8DzwHr",
        "colab": {
          "base_uri": "https://localhost:8080/"
        },
        "outputId": "1e937718-e4fa-4c3a-f55e-e97d4a6faf46"
      },
      "execution_count": 8,
      "outputs": [
        {
          "output_type": "execute_result",
          "data": {
            "text/plain": [
              "QRResult(Q=array([[-0.64465837,  0.29810252,  0.58999465,  0.09380244, -0.37236795],\n",
              "       [-0.56407607, -0.72855229, -0.02135255, -0.25047151,  0.29637449],\n",
              "       [-0.32232919,  0.34692966, -0.18534012,  0.53287385,  0.67634178],\n",
              "       [-0.32232919, -0.04882714, -0.71763544,  0.28167869, -0.5471529 ],\n",
              "       [-0.24174689,  0.50754524, -0.31952903, -0.75177636,  0.12918888]]), R=array([[-12.40967365, -10.07278705, -10.87861001,  -7.97764734,\n",
              "        -11.1203569 ],\n",
              "       [  0.        ,   5.05360871,   7.20714246,  -0.26854926,\n",
              "          4.54863332],\n",
              "       [  0.        ,   0.        ,  -5.35844584,  -5.06672257,\n",
              "          0.88769663],\n",
              "       [  0.        ,   0.        ,   0.        ,  -0.78316445,\n",
              "         -1.28320292],\n",
              "       [  0.        ,   0.        ,   0.        ,   0.        ,\n",
              "          2.49258545]]))"
            ]
          },
          "metadata": {},
          "execution_count": 8
        }
      ]
    },
    {
      "cell_type": "code",
      "source": [
        "Q,R = np.linalg.qr(A,'complete')"
      ],
      "metadata": {
        "id": "W_nSrsDR0inP"
      },
      "execution_count": 9,
      "outputs": []
    },
    {
      "cell_type": "code",
      "source": [
        "sp.Matrix(Q)"
      ],
      "metadata": {
        "id": "06J5uuu_pQgT",
        "colab": {
          "base_uri": "https://localhost:8080/",
          "height": 119
        },
        "outputId": "d834bf94-c160-4f5f-ef83-77608a13df28"
      },
      "execution_count": 10,
      "outputs": [
        {
          "output_type": "execute_result",
          "data": {
            "text/plain": [
              "Matrix([\n",
              "[-0.644658371220304,   0.298102522694355,    0.58999464722465, 0.0938024411580939, -0.372367947946502],\n",
              "[-0.564076074817766,  -0.728552286067671, -0.0213525487575272, -0.250471513564862,  0.296374489181909],\n",
              "[-0.322329185610152,   0.346929660032224,  -0.185340123215336,  0.532873848468977,  0.676341783004871],\n",
              "[-0.322329185610152, -0.0488271373378686,  -0.717635438686313,  0.281678690227872, -0.547152903105064],\n",
              "[-0.241746889207614,   0.507545243380476,  -0.319529029629306, -0.751776363032706,  0.129188879899806]])"
            ],
            "text/latex": "$\\displaystyle \\left[\\begin{matrix}-0.644658371220304 & 0.298102522694355 & 0.58999464722465 & 0.0938024411580939 & -0.372367947946502\\\\-0.564076074817766 & -0.728552286067671 & -0.0213525487575272 & -0.250471513564862 & 0.296374489181909\\\\-0.322329185610152 & 0.346929660032224 & -0.185340123215336 & 0.532873848468977 & 0.676341783004871\\\\-0.322329185610152 & -0.0488271373378686 & -0.717635438686313 & 0.281678690227872 & -0.547152903105064\\\\-0.241746889207614 & 0.507545243380476 & -0.319529029629306 & -0.751776363032706 & 0.129188879899806\\end{matrix}\\right]$"
          },
          "metadata": {},
          "execution_count": 10
        }
      ]
    },
    {
      "cell_type": "code",
      "source": [
        "sp.Matrix(np.linalg.inv(Q))"
      ],
      "metadata": {
        "id": "hk01TNY4p2tY",
        "colab": {
          "base_uri": "https://localhost:8080/",
          "height": 119
        },
        "outputId": "a64747e4-4664-4d4f-a813-ffc2271c212d"
      },
      "execution_count": 11,
      "outputs": [
        {
          "output_type": "execute_result",
          "data": {
            "text/plain": [
              "Matrix([\n",
              "[-0.644658371220304,  -0.564076074817766, -0.322329185610152,  -0.322329185610152, -0.241746889207614],\n",
              "[ 0.298102522694355,   -0.72855228606767,  0.346929660032224, -0.0488271373378685,  0.507545243380476],\n",
              "[  0.58999464722465, -0.0213525487575272, -0.185340123215336,  -0.717635438686312, -0.319529029629306],\n",
              "[ 0.093802441158094,  -0.250471513564862,  0.532873848468976,   0.281678690227872, -0.751776363032706],\n",
              "[-0.372367947946502,    0.29637448918191,  0.676341783004871,  -0.547152903105064,  0.129188879899806]])"
            ],
            "text/latex": "$\\displaystyle \\left[\\begin{matrix}-0.644658371220304 & -0.564076074817766 & -0.322329185610152 & -0.322329185610152 & -0.241746889207614\\\\0.298102522694355 & -0.72855228606767 & 0.346929660032224 & -0.0488271373378685 & 0.507545243380476\\\\0.58999464722465 & -0.0213525487575272 & -0.185340123215336 & -0.717635438686312 & -0.319529029629306\\\\0.093802441158094 & -0.250471513564862 & 0.532873848468976 & 0.281678690227872 & -0.751776363032706\\\\-0.372367947946502 & 0.29637448918191 & 0.676341783004871 & -0.547152903105064 & 0.129188879899806\\end{matrix}\\right]$"
          },
          "metadata": {},
          "execution_count": 11
        }
      ]
    },
    {
      "cell_type": "code",
      "source": [
        "sp.Matrix(R)"
      ],
      "metadata": {
        "id": "vH2w_PuYpdqW",
        "colab": {
          "base_uri": "https://localhost:8080/",
          "height": 119
        },
        "outputId": "38eca832-5685-4792-f4ab-6143a4f4cf01"
      },
      "execution_count": 12,
      "outputs": [
        {
          "output_type": "execute_result",
          "data": {
            "text/plain": [
              "Matrix([\n",
              "[-12.4096736459909, -10.0727870503173, -10.8786100143426,  -7.97764734385126, -11.1203569035502],\n",
              "[                0,   5.0536087144694,  7.20714245600276, -0.268549255358276,  4.54863332042249],\n",
              "[                0,                 0, -5.35844583575561,  -5.06672256961944, 0.887696627012929],\n",
              "[                0,                 0,                 0, -0.783164450864778,  -1.2832029221492],\n",
              "[                0,                 0,                 0,                  0,  2.49258544747862]])"
            ],
            "text/latex": "$\\displaystyle \\left[\\begin{matrix}-12.4096736459909 & -10.0727870503173 & -10.8786100143426 & -7.97764734385126 & -11.1203569035502\\\\0 & 5.0536087144694 & 7.20714245600276 & -0.268549255358276 & 4.54863332042249\\\\0 & 0 & -5.35844583575561 & -5.06672256961944 & 0.887696627012929\\\\0 & 0 & 0 & -0.783164450864778 & -1.2832029221492\\\\0 & 0 & 0 & 0 & 2.49258544747862\\end{matrix}\\right]$"
          },
          "metadata": {},
          "execution_count": 12
        }
      ]
    },
    {
      "cell_type": "code",
      "source": [
        "sp.Matrix(np.round(R,3)) #round upto 3rd decimal place"
      ],
      "metadata": {
        "id": "NPzV9Xe104_N",
        "colab": {
          "base_uri": "https://localhost:8080/",
          "height": 119
        },
        "outputId": "6568ac5a-c95a-40f6-d6e1-1f8bee94941e"
      },
      "execution_count": 13,
      "outputs": [
        {
          "output_type": "execute_result",
          "data": {
            "text/plain": [
              "Matrix([\n",
              "[-12.41, -10.073, -10.879, -7.978, -11.12],\n",
              "[     0,   5.054,   7.207, -0.269,  4.549],\n",
              "[     0,       0,  -5.358, -5.067,  0.888],\n",
              "[     0,       0,       0, -0.783, -1.283],\n",
              "[     0,       0,       0,      0,  2.493]])"
            ],
            "text/latex": "$\\displaystyle \\left[\\begin{matrix}-12.41 & -10.073 & -10.879 & -7.978 & -11.12\\\\0 & 5.054 & 7.207 & -0.269 & 4.549\\\\0 & 0 & -5.358 & -5.067 & 0.888\\\\0 & 0 & 0 & -0.783 & -1.283\\\\0 & 0 & 0 & 0 & 2.493\\end{matrix}\\right]$"
          },
          "metadata": {},
          "execution_count": 13
        }
      ]
    },
    {
      "cell_type": "code",
      "source": [
        "sp.Matrix(np.linalg.inv(R))"
      ],
      "metadata": {
        "id": "SOj7chJOqGqc",
        "colab": {
          "base_uri": "https://localhost:8080/",
          "height": 119
        },
        "outputId": "e56a61f8-2ddc-402e-ecb0-5d95967fa679"
      },
      "execution_count": 14,
      "outputs": [
        {
          "output_type": "execute_result",
          "data": {
            "text/plain": [
              "Matrix([\n",
              "[-0.080582296402538, -0.160615583348252, -0.0524323697268167,  1.21513509479002,   0.57782831146004],\n",
              "[                 0,  0.197878398685046,   0.266147657735488, -1.78970896772754,  -1.37724242768367],\n",
              "[                 0,                  0,  -0.186621276140787,   1.2073559145204,  0.688018826668699],\n",
              "[                 0,                  0,                   0, -1.27687103123206, -0.657343418313723],\n",
              "[                 0,                  0,                   0,                 0,  0.401189857307219]])"
            ],
            "text/latex": "$\\displaystyle \\left[\\begin{matrix}-0.080582296402538 & -0.160615583348252 & -0.0524323697268167 & 1.21513509479002 & 0.57782831146004\\\\0 & 0.197878398685046 & 0.266147657735488 & -1.78970896772754 & -1.37724242768367\\\\0 & 0 & -0.186621276140787 & 1.2073559145204 & 0.688018826668699\\\\0 & 0 & 0 & -1.27687103123206 & -0.657343418313723\\\\0 & 0 & 0 & 0 & 0.401189857307219\\end{matrix}\\right]$"
          },
          "metadata": {},
          "execution_count": 14
        }
      ]
    },
    {
      "cell_type": "code",
      "source": [
        "Q@R"
      ],
      "metadata": {
        "id": "xBttbHh-pl6D",
        "colab": {
          "base_uri": "https://localhost:8080/"
        },
        "outputId": "78144017-6bba-48b3-b244-f9189b762966"
      },
      "execution_count": 15,
      "outputs": [
        {
          "output_type": "execute_result",
          "data": {
            "text/plain": [
              "array([[8., 8., 6., 2., 8.],\n",
              "       [7., 2., 1., 5., 4.],\n",
              "       [4., 5., 7., 3., 6.],\n",
              "       [4., 3., 7., 6., 1.],\n",
              "       [3., 5., 8., 4., 6.]])"
            ]
          },
          "metadata": {},
          "execution_count": 15
        }
      ]
    },
    {
      "cell_type": "markdown",
      "source": [
        "###LU Decomposition"
      ],
      "metadata": {
        "id": "FvX0S_X8pvJW"
      }
    },
    {
      "cell_type": "code",
      "source": [
        "import scipy.linalg # LU in scipy library\n",
        "A = np.array([ [1,2,3], [4,5,6], [7,8,9] ])\n",
        "scipy.linalg.lu(A)"
      ],
      "metadata": {
        "id": "kRzK8O7LqdoR",
        "colab": {
          "base_uri": "https://localhost:8080/"
        },
        "outputId": "8ca82ef6-859e-402b-8843-18a024fbbd1c"
      },
      "execution_count": 16,
      "outputs": [
        {
          "output_type": "execute_result",
          "data": {
            "text/plain": [
              "(array([[0., 1., 0.],\n",
              "        [0., 0., 1.],\n",
              "        [1., 0., 0.]]),\n",
              " array([[1.        , 0.        , 0.        ],\n",
              "        [0.14285714, 1.        , 0.        ],\n",
              "        [0.57142857, 0.5       , 1.        ]]),\n",
              " array([[7.        , 8.        , 9.        ],\n",
              "        [0.        , 0.85714286, 1.71428571],\n",
              "        [0.        , 0.        , 0.        ]]))"
            ]
          },
          "metadata": {},
          "execution_count": 16
        }
      ]
    },
    {
      "cell_type": "code",
      "source": [
        "P = scipy.linalg.lu(A)[0]\n",
        "sp.Matrix(P)"
      ],
      "metadata": {
        "id": "6WxiSA6XrG4w",
        "colab": {
          "base_uri": "https://localhost:8080/",
          "height": 78
        },
        "outputId": "1329543b-5e54-46c3-d111-88edd270b1d1"
      },
      "execution_count": 17,
      "outputs": [
        {
          "output_type": "execute_result",
          "data": {
            "text/plain": [
              "Matrix([\n",
              "[  0, 1.0,   0],\n",
              "[  0,   0, 1.0],\n",
              "[1.0,   0,   0]])"
            ],
            "text/latex": "$\\displaystyle \\left[\\begin{matrix}0 & 1.0 & 0\\\\0 & 0 & 1.0\\\\1.0 & 0 & 0\\end{matrix}\\right]$"
          },
          "metadata": {},
          "execution_count": 17
        }
      ]
    },
    {
      "cell_type": "code",
      "source": [
        "L = scipy.linalg.lu(A)[1]\n",
        "sp.Matrix(L)"
      ],
      "metadata": {
        "id": "BXC1WUJrq7qn",
        "colab": {
          "base_uri": "https://localhost:8080/",
          "height": 78
        },
        "outputId": "7cc9daca-8900-4fb9-f549-44006f6825b7"
      },
      "execution_count": 18,
      "outputs": [
        {
          "output_type": "execute_result",
          "data": {
            "text/plain": [
              "Matrix([\n",
              "[              1.0,   0,   0],\n",
              "[0.142857142857143, 1.0,   0],\n",
              "[0.571428571428571, 0.5, 1.0]])"
            ],
            "text/latex": "$\\displaystyle \\left[\\begin{matrix}1.0 & 0 & 0\\\\0.142857142857143 & 1.0 & 0\\\\0.571428571428571 & 0.5 & 1.0\\end{matrix}\\right]$"
          },
          "metadata": {},
          "execution_count": 18
        }
      ]
    },
    {
      "cell_type": "code",
      "source": [
        "U= scipy.linalg.lu(A)[2]\n",
        "sp.Matrix(U)"
      ],
      "metadata": {
        "id": "lkB5oiXRq_3b",
        "colab": {
          "base_uri": "https://localhost:8080/",
          "height": 78
        },
        "outputId": "7883c6a2-8d00-4c47-c0de-a8ad151d8f3f"
      },
      "execution_count": 19,
      "outputs": [
        {
          "output_type": "execute_result",
          "data": {
            "text/plain": [
              "Matrix([\n",
              "[7.0,               8.0,              9.0],\n",
              "[  0, 0.857142857142857, 1.71428571428571],\n",
              "[  0,                 0,                0]])"
            ],
            "text/latex": "$\\displaystyle \\left[\\begin{matrix}7.0 & 8.0 & 9.0\\\\0 & 0.857142857142857 & 1.71428571428571\\\\0 & 0 & 0\\end{matrix}\\right]$"
          },
          "metadata": {},
          "execution_count": 19
        }
      ]
    },
    {
      "cell_type": "code",
      "source": [
        "P@L@U"
      ],
      "metadata": {
        "id": "SYGZ2uzXrJ8R",
        "colab": {
          "base_uri": "https://localhost:8080/"
        },
        "outputId": "1b869571-9110-4f05-9b76-07ac5ba53fdc"
      },
      "execution_count": 20,
      "outputs": [
        {
          "output_type": "execute_result",
          "data": {
            "text/plain": [
              "array([[1., 2., 3.],\n",
              "       [4., 5., 6.],\n",
              "       [7., 8., 9.]])"
            ]
          },
          "metadata": {},
          "execution_count": 20
        }
      ]
    },
    {
      "cell_type": "markdown",
      "source": [
        "##Eigenvalues and Eigenvectors"
      ],
      "metadata": {
        "id": "Luepi3b4rXIi"
      }
    },
    {
      "cell_type": "code",
      "source": [
        "A = np.array([[4,6,6],[1,3,2],[-1,-4,-3]])"
      ],
      "metadata": {
        "id": "04dLuhFgr7xC"
      },
      "execution_count": 21,
      "outputs": []
    },
    {
      "cell_type": "code",
      "source": [
        "np.linalg.eig(A)"
      ],
      "metadata": {
        "id": "gzFHUdjYrW0h",
        "colab": {
          "base_uri": "https://localhost:8080/"
        },
        "outputId": "92907d7d-abc3-4506-9050-b237edd2776b"
      },
      "execution_count": 22,
      "outputs": [
        {
          "output_type": "execute_result",
          "data": {
            "text/plain": [
              "EigResult(eigenvalues=array([ 4.,  1., -1.]), eigenvectors=array([[-9.04534034e-01,  7.53175883e-16, -6.35998728e-01],\n",
              "       [-3.01511345e-01,  7.07106781e-01, -2.11999576e-01],\n",
              "       [ 3.01511345e-01, -7.07106781e-01,  7.41998516e-01]]))"
            ]
          },
          "metadata": {},
          "execution_count": 22
        }
      ]
    },
    {
      "cell_type": "code",
      "source": [
        "evals, evecs = np.linalg.eig(A)"
      ],
      "metadata": {
        "id": "sBkgb_T6rRSX"
      },
      "execution_count": 23,
      "outputs": []
    },
    {
      "cell_type": "code",
      "source": [
        "evals"
      ],
      "metadata": {
        "id": "5mLhahuBr5ca",
        "colab": {
          "base_uri": "https://localhost:8080/"
        },
        "outputId": "133e088b-b509-4a94-a0fd-471509e916a3"
      },
      "execution_count": 24,
      "outputs": [
        {
          "output_type": "execute_result",
          "data": {
            "text/plain": [
              "array([ 4.,  1., -1.])"
            ]
          },
          "metadata": {},
          "execution_count": 24
        }
      ]
    },
    {
      "cell_type": "code",
      "source": [
        "evecs # eigenvectors are columns"
      ],
      "metadata": {
        "id": "zF77cFNGsD2Z",
        "colab": {
          "base_uri": "https://localhost:8080/"
        },
        "outputId": "38c03b0d-a704-4fa1-cac8-924877d9c0f7"
      },
      "execution_count": 25,
      "outputs": [
        {
          "output_type": "execute_result",
          "data": {
            "text/plain": [
              "array([[-9.04534034e-01,  7.53175883e-16, -6.35998728e-01],\n",
              "       [-3.01511345e-01,  7.07106781e-01, -2.11999576e-01],\n",
              "       [ 3.01511345e-01, -7.07106781e-01,  7.41998516e-01]])"
            ]
          },
          "metadata": {},
          "execution_count": 25
        }
      ]
    },
    {
      "cell_type": "code",
      "source": [
        "v1 = evecs[:,0:1]\n",
        "v1"
      ],
      "metadata": {
        "id": "99gZJqnrtiPH",
        "colab": {
          "base_uri": "https://localhost:8080/"
        },
        "outputId": "1f3fec3b-ebee-4c0e-bb4b-bc1b29c7bba4"
      },
      "execution_count": 26,
      "outputs": [
        {
          "output_type": "execute_result",
          "data": {
            "text/plain": [
              "array([[-0.90453403],\n",
              "       [-0.30151134],\n",
              "       [ 0.30151134]])"
            ]
          },
          "metadata": {},
          "execution_count": 26
        }
      ]
    },
    {
      "cell_type": "code",
      "source": [
        "A@v1"
      ],
      "metadata": {
        "id": "m04_FXsmt0gt",
        "colab": {
          "base_uri": "https://localhost:8080/"
        },
        "outputId": "25c286ce-c449-4a89-b929-7aecbb24ab95"
      },
      "execution_count": 27,
      "outputs": [
        {
          "output_type": "execute_result",
          "data": {
            "text/plain": [
              "array([[-3.61813613],\n",
              "       [-1.20604538],\n",
              "       [ 1.20604538]])"
            ]
          },
          "metadata": {},
          "execution_count": 27
        }
      ]
    },
    {
      "cell_type": "code",
      "source": [
        "evals[0]*v1"
      ],
      "metadata": {
        "id": "hZ5TTmnot3-J",
        "colab": {
          "base_uri": "https://localhost:8080/"
        },
        "outputId": "b586eb78-6ce9-4774-e01a-9bb30e13397d"
      },
      "execution_count": 28,
      "outputs": [
        {
          "output_type": "execute_result",
          "data": {
            "text/plain": [
              "array([[-3.61813613],\n",
              "       [-1.20604538],\n",
              "       [ 1.20604538]])"
            ]
          },
          "metadata": {},
          "execution_count": 28
        }
      ]
    },
    {
      "cell_type": "markdown",
      "source": [
        "###Take transpose of eigenvector matrix"
      ],
      "metadata": {
        "id": "Ev6uK4v9vpgQ"
      }
    },
    {
      "cell_type": "code",
      "source": [
        "evecsT = np.transpose(evecs)\n",
        "evecsT"
      ],
      "metadata": {
        "id": "YFfzKauTvoMb",
        "colab": {
          "base_uri": "https://localhost:8080/"
        },
        "outputId": "739717f4-871a-427b-cdcc-d8f5c67c9eec"
      },
      "execution_count": 29,
      "outputs": [
        {
          "output_type": "execute_result",
          "data": {
            "text/plain": [
              "array([[-9.04534034e-01, -3.01511345e-01,  3.01511345e-01],\n",
              "       [ 7.53175883e-16,  7.07106781e-01, -7.07106781e-01],\n",
              "       [-6.35998728e-01, -2.11999576e-01,  7.41998516e-01]])"
            ]
          },
          "metadata": {},
          "execution_count": 29
        }
      ]
    },
    {
      "cell_type": "code",
      "source": [
        "evecsT[0]"
      ],
      "metadata": {
        "id": "Z4iZyIISwP_H",
        "colab": {
          "base_uri": "https://localhost:8080/"
        },
        "outputId": "40e26889-a538-4299-e95a-ee8a48105950"
      },
      "execution_count": 30,
      "outputs": [
        {
          "output_type": "execute_result",
          "data": {
            "text/plain": [
              "array([-0.90453403, -0.30151134,  0.30151134])"
            ]
          },
          "metadata": {},
          "execution_count": 30
        }
      ]
    },
    {
      "cell_type": "code",
      "source": [
        "evecsT[0].reshape(3,1) # reshape a matrix or vector"
      ],
      "metadata": {
        "id": "ocmIzIhZwUwn",
        "colab": {
          "base_uri": "https://localhost:8080/"
        },
        "outputId": "bef4265d-aecc-4ee2-bcce-28870b79b12f"
      },
      "execution_count": 31,
      "outputs": [
        {
          "output_type": "execute_result",
          "data": {
            "text/plain": [
              "array([[-0.90453403],\n",
              "       [-0.30151134],\n",
              "       [ 0.30151134]])"
            ]
          },
          "metadata": {},
          "execution_count": 31
        }
      ]
    },
    {
      "cell_type": "code",
      "source": [
        "evecsT[0].reshape(-1,1)"
      ],
      "metadata": {
        "id": "y3-PbSu8wdjH",
        "colab": {
          "base_uri": "https://localhost:8080/"
        },
        "outputId": "cfb1a362-3a21-4181-86e6-20414ee7bd1c"
      },
      "execution_count": 32,
      "outputs": [
        {
          "output_type": "execute_result",
          "data": {
            "text/plain": [
              "array([[-0.90453403],\n",
              "       [-0.30151134],\n",
              "       [ 0.30151134]])"
            ]
          },
          "metadata": {},
          "execution_count": 32
        }
      ]
    },
    {
      "cell_type": "code",
      "source": [
        "B = np.array([[-2,2,-3],[2,1,-6],[-1,-2,0]])\n",
        "B"
      ],
      "metadata": {
        "id": "ntq8xVNfuZ00",
        "colab": {
          "base_uri": "https://localhost:8080/"
        },
        "outputId": "1fee9923-ab4d-4a32-d6a7-bcb7d08cf1d2"
      },
      "execution_count": 33,
      "outputs": [
        {
          "output_type": "execute_result",
          "data": {
            "text/plain": [
              "array([[-2,  2, -3],\n",
              "       [ 2,  1, -6],\n",
              "       [-1, -2,  0]])"
            ]
          },
          "metadata": {},
          "execution_count": 33
        }
      ]
    },
    {
      "cell_type": "code",
      "source": [
        "evals, evecs = np.linalg.eig(B)"
      ],
      "metadata": {
        "id": "gzsIvipNuouo"
      },
      "execution_count": 34,
      "outputs": []
    },
    {
      "cell_type": "code",
      "source": [
        "evals"
      ],
      "metadata": {
        "id": "WlC-y5OSurKY",
        "colab": {
          "base_uri": "https://localhost:8080/"
        },
        "outputId": "9a2d665b-aa47-4599-bc27-5c6d64f8500d"
      },
      "execution_count": 35,
      "outputs": [
        {
          "output_type": "execute_result",
          "data": {
            "text/plain": [
              "array([-3.,  5., -3.])"
            ]
          },
          "metadata": {},
          "execution_count": 35
        }
      ]
    },
    {
      "cell_type": "code",
      "source": [
        "evecs"
      ],
      "metadata": {
        "id": "37Xtv5j8uuBt",
        "colab": {
          "base_uri": "https://localhost:8080/"
        },
        "outputId": "093d9bb4-73e4-48e8-eefb-92cbab6b5a65"
      },
      "execution_count": 36,
      "outputs": [
        {
          "output_type": "execute_result",
          "data": {
            "text/plain": [
              "array([[-0.95257934,  0.40824829,  0.06498304],\n",
              "       [ 0.27216553,  0.81649658,  0.82015882],\n",
              "       [-0.13608276, -0.40824829,  0.56843356]])"
            ]
          },
          "metadata": {},
          "execution_count": 36
        }
      ]
    },
    {
      "cell_type": "markdown",
      "source": [
        "##Singular Value Decomposition (SVD)"
      ],
      "metadata": {
        "id": "1TSCfH9OxKPc"
      }
    },
    {
      "cell_type": "code",
      "source": [
        "A = np.array([[1,2,3,4],[5,6,7,8],[9,10,11,12],[1,-1,1,-1],[2,1,-5,1]])\n",
        "sp.Matrix(A)"
      ],
      "metadata": {
        "id": "YJ9qNPvEDo57",
        "colab": {
          "base_uri": "https://localhost:8080/",
          "height": 119
        },
        "outputId": "cb8b2417-4f7b-4085-f52d-cc57ce514ed1"
      },
      "execution_count": 37,
      "outputs": [
        {
          "output_type": "execute_result",
          "data": {
            "text/plain": [
              "Matrix([\n",
              "[1,  2,  3,  4],\n",
              "[5,  6,  7,  8],\n",
              "[9, 10, 11, 12],\n",
              "[1, -1,  1, -1],\n",
              "[2,  1, -5,  1]])"
            ],
            "text/latex": "$\\displaystyle \\left[\\begin{matrix}1 & 2 & 3 & 4\\\\5 & 6 & 7 & 8\\\\9 & 10 & 11 & 12\\\\1 & -1 & 1 & -1\\\\2 & 1 & -5 & 1\\end{matrix}\\right]$"
          },
          "metadata": {},
          "execution_count": 37
        }
      ]
    },
    {
      "cell_type": "code",
      "source": [
        "# Singular-value decomposition\n",
        "U,s,Vt = np.linalg.svd(A)"
      ],
      "metadata": {
        "id": "HcQhr_qpxJYp"
      },
      "execution_count": 38,
      "outputs": []
    },
    {
      "cell_type": "code",
      "source": [
        "sp.Matrix(np.round(U))"
      ],
      "metadata": {
        "id": "pC-ekU1f-x3F",
        "colab": {
          "base_uri": "https://localhost:8080/",
          "height": 119
        },
        "outputId": "d426c729-8656-4329-d4e6-84fb7a61b4de"
      },
      "execution_count": 39,
      "outputs": [
        {
          "output_type": "execute_result",
          "data": {
            "text/plain": [
              "Matrix([\n",
              "[   0,   0,  1.0, -1.0,   0],\n",
              "[-1.0,   0,    0,    0, 1.0],\n",
              "[-1.0,   0,    0,    0,   0],\n",
              "[   0,   0, -1.0, -1.0,   0],\n",
              "[   0, 1.0,    0,    0,   0]])"
            ],
            "text/latex": "$\\displaystyle \\left[\\begin{matrix}0 & 0 & 1.0 & -1.0 & 0\\\\-1.0 & 0 & 0 & 0 & 1.0\\\\-1.0 & 0 & 0 & 0 & 0\\\\0 & 0 & -1.0 & -1.0 & 0\\\\0 & 1.0 & 0 & 0 & 0\\end{matrix}\\right]$"
          },
          "metadata": {},
          "execution_count": 39
        }
      ]
    },
    {
      "cell_type": "code",
      "source": [
        "s"
      ],
      "metadata": {
        "id": "AJLkoRlKAD2L",
        "colab": {
          "base_uri": "https://localhost:8080/"
        },
        "outputId": "d4e717ea-e0f8-49b0-db8f-add8b0f0c29c"
      },
      "execution_count": 40,
      "outputs": [
        {
          "output_type": "execute_result",
          "data": {
            "text/plain": [
              "array([25.44933905,  5.62480349,  2.2250472 ,  0.86133195])"
            ]
          },
          "metadata": {},
          "execution_count": 40
        }
      ]
    },
    {
      "cell_type": "code",
      "source": [
        "# create m x n Sigma matrix\n",
        "Sigma = np.zeros((A.shape[0], A.shape[1]))\n",
        "sp.Matrix(Sigma)"
      ],
      "metadata": {
        "id": "85U2n-qF-zNR",
        "colab": {
          "base_uri": "https://localhost:8080/",
          "height": 119
        },
        "outputId": "30f99303-f756-407e-91a4-757a39d5569b"
      },
      "execution_count": 41,
      "outputs": [
        {
          "output_type": "execute_result",
          "data": {
            "text/plain": [
              "Matrix([\n",
              "[0, 0, 0, 0],\n",
              "[0, 0, 0, 0],\n",
              "[0, 0, 0, 0],\n",
              "[0, 0, 0, 0],\n",
              "[0, 0, 0, 0]])"
            ],
            "text/latex": "$\\displaystyle \\left[\\begin{matrix}0 & 0 & 0 & 0\\\\0 & 0 & 0 & 0\\\\0 & 0 & 0 & 0\\\\0 & 0 & 0 & 0\\\\0 & 0 & 0 & 0\\end{matrix}\\right]$"
          },
          "metadata": {},
          "execution_count": 41
        }
      ]
    },
    {
      "cell_type": "code",
      "source": [
        "# populate Sigma with n x n diagonal matrix\n",
        "Sigma[:A.shape[1], :A.shape[0]] = np.diag(s)\n",
        "sp.Matrix(Sigma)"
      ],
      "metadata": {
        "id": "SIKmY1g4DUjL",
        "colab": {
          "base_uri": "https://localhost:8080/",
          "height": 119
        },
        "outputId": "9f0be2d9-318d-493d-f0e8-869192b0ab8d"
      },
      "execution_count": 42,
      "outputs": [
        {
          "output_type": "execute_result",
          "data": {
            "text/plain": [
              "Matrix([\n",
              "[25.4493390475816,                0,                0,                 0],\n",
              "[               0, 5.62480348800967,                0,                 0],\n",
              "[               0,                0, 2.22504719724239,                 0],\n",
              "[               0,                0,                0, 0.861331952591945],\n",
              "[               0,                0,                0,                 0]])"
            ],
            "text/latex": "$\\displaystyle \\left[\\begin{matrix}25.4493390475816 & 0 & 0 & 0\\\\0 & 5.62480348800967 & 0 & 0\\\\0 & 0 & 2.22504719724239 & 0\\\\0 & 0 & 0 & 0.861331952591945\\\\0 & 0 & 0 & 0\\end{matrix}\\right]$"
          },
          "metadata": {},
          "execution_count": 42
        }
      ]
    },
    {
      "cell_type": "code",
      "source": [
        "sp.Matrix(Vt)"
      ],
      "metadata": {
        "id": "__NyfjHH_TCk",
        "colab": {
          "base_uri": "https://localhost:8080/",
          "height": 98
        },
        "outputId": "f482fd18-2bfe-4687-d49f-8f163a73fe13"
      },
      "execution_count": 43,
      "outputs": [
        {
          "output_type": "execute_result",
          "data": {
            "text/plain": [
              "Matrix([\n",
              "[-0.400530105792676, -0.463207179517009,  -0.531396842311895, -0.585347878768304],\n",
              "[ 0.395505741231602,  0.277913448419175,  -0.833869369497979,  0.266460500738191],\n",
              "[-0.792323819441682,  0.125754391548074,  -0.149170612594286,  0.578063081756623],\n",
              "[-0.235316400091225,  0.832099187019212, 0.00523439893748728, -0.502204874406687]])"
            ],
            "text/latex": "$\\displaystyle \\left[\\begin{matrix}-0.400530105792676 & -0.463207179517009 & -0.531396842311895 & -0.585347878768304\\\\0.395505741231602 & 0.277913448419175 & -0.833869369497979 & 0.266460500738191\\\\-0.792323819441682 & 0.125754391548074 & -0.149170612594286 & 0.578063081756623\\\\-0.235316400091225 & 0.832099187019212 & 0.00523439893748728 & -0.502204874406687\\end{matrix}\\right]$"
          },
          "metadata": {},
          "execution_count": 43
        }
      ]
    },
    {
      "cell_type": "code",
      "source": [
        "#Verification of SVD\n",
        "U@Sigma@Vt"
      ],
      "metadata": {
        "id": "IAEvFTvR_Uap",
        "colab": {
          "base_uri": "https://localhost:8080/"
        },
        "outputId": "295a8fc5-c438-4183-a2be-00f9c335b0f2"
      },
      "execution_count": 44,
      "outputs": [
        {
          "output_type": "execute_result",
          "data": {
            "text/plain": [
              "array([[ 1.,  2.,  3.,  4.],\n",
              "       [ 5.,  6.,  7.,  8.],\n",
              "       [ 9., 10., 11., 12.],\n",
              "       [ 1., -1.,  1., -1.],\n",
              "       [ 2.,  1., -5.,  1.]])"
            ]
          },
          "metadata": {},
          "execution_count": 44
        }
      ]
    },
    {
      "cell_type": "markdown",
      "source": [
        "##Principal Component Analysis (PCA)\n",
        "### Low Rank Approximation"
      ],
      "metadata": {
        "id": "KnIZNsEMLvxK"
      }
    },
    {
      "cell_type": "markdown",
      "source": [
        "###Rank two approximation"
      ],
      "metadata": {
        "id": "ubLYpZEJNB_l"
      }
    },
    {
      "cell_type": "code",
      "source": [
        "np.linalg.matrix_rank(A)"
      ],
      "metadata": {
        "id": "3j379gL2QatW",
        "colab": {
          "base_uri": "https://localhost:8080/"
        },
        "outputId": "63771e50-ce7d-4752-a174-2cb14d5dc05d"
      },
      "execution_count": 45,
      "outputs": [
        {
          "output_type": "execute_result",
          "data": {
            "text/plain": [
              "4"
            ]
          },
          "metadata": {},
          "execution_count": 45
        }
      ]
    },
    {
      "cell_type": "code",
      "source": [
        "U1 = U[:,:3] # Choose all rows and first k columns\n",
        "U1"
      ],
      "metadata": {
        "id": "wEiLiCi7JGuC",
        "colab": {
          "base_uri": "https://localhost:8080/"
        },
        "outputId": "0f6212e5-3a95-4e83-e020-34c9d72833fb"
      },
      "execution_count": 46,
      "outputs": [
        {
          "output_type": "execute_result",
          "data": {
            "text/plain": [
              "array([[-0.20678441, -0.08612451,  0.59501005],\n",
              "       [-0.51806668, -0.01073676,  0.1677347 ],\n",
              "       [-0.82934895,  0.06465099, -0.25954066],\n",
              "       [ 0.00458276, -0.17471501, -0.73945034],\n",
              "       [ 0.03172455,  0.97865326, -0.06066258]])"
            ]
          },
          "metadata": {},
          "execution_count": 46
        }
      ]
    },
    {
      "cell_type": "code",
      "source": [
        "Sigma1 = Sigma[:3,:3] # Choose first k rows and k columns\n",
        "Sigma1"
      ],
      "metadata": {
        "id": "AZ0GT36WNLKN",
        "colab": {
          "base_uri": "https://localhost:8080/"
        },
        "outputId": "73ce1364-85f2-4a75-8634-7d9274318530"
      },
      "execution_count": 47,
      "outputs": [
        {
          "output_type": "execute_result",
          "data": {
            "text/plain": [
              "array([[25.44933905,  0.        ,  0.        ],\n",
              "       [ 0.        ,  5.62480349,  0.        ],\n",
              "       [ 0.        ,  0.        ,  2.2250472 ]])"
            ]
          },
          "metadata": {},
          "execution_count": 47
        }
      ]
    },
    {
      "cell_type": "code",
      "source": [
        "Vt1 = Vt[:3,:] # Choose first k rows and all columns"
      ],
      "metadata": {
        "id": "r4SGRj_aNvCY"
      },
      "execution_count": 48,
      "outputs": []
    },
    {
      "cell_type": "code",
      "source": [
        "A1 = U1@Sigma1@Vt1\n",
        "sp.Matrix(A1)"
      ],
      "metadata": {
        "id": "NNkU8q5ZP-mj",
        "colab": {
          "base_uri": "https://localhost:8080/",
          "height": 119
        },
        "outputId": "718e2c0e-55f9-4764-e6b4-142bdca39fb0"
      },
      "execution_count": 49,
      "outputs": [
        {
          "output_type": "execute_result",
          "data": {
            "text/plain": [
              "Matrix([\n",
              "[0.867226409393741,   2.46949892467444,  3.00295342756105,  3.71663877073978],\n",
              "[ 4.96117630466281,   6.13728395179698,  7.00086359773286,  7.91714368810138],\n",
              "[ 9.05512619993187,   9.80506897891951,  10.9987737679047,   12.117648605463],\n",
              "[0.868228389708168, -0.534044164565078,   1.0029311394218, -1.28122283432571],\n",
              "[ 1.96072322617771,   1.13888607659133, -4.99912632394902, 0.916176742220781]])"
            ],
            "text/latex": "$\\displaystyle \\left[\\begin{matrix}0.867226409393741 & 2.46949892467444 & 3.00295342756105 & 3.71663877073978\\\\4.96117630466281 & 6.13728395179698 & 7.00086359773286 & 7.91714368810138\\\\9.05512619993187 & 9.80506897891951 & 10.9987737679047 & 12.117648605463\\\\0.868228389708168 & -0.534044164565078 & 1.0029311394218 & -1.28122283432571\\\\1.96072322617771 & 1.13888607659133 & -4.99912632394902 & 0.916176742220781\\end{matrix}\\right]$"
          },
          "metadata": {},
          "execution_count": 49
        }
      ]
    },
    {
      "cell_type": "code",
      "source": [
        "sp.Matrix(A)"
      ],
      "metadata": {
        "id": "0kmmR3LDQx90",
        "colab": {
          "base_uri": "https://localhost:8080/",
          "height": 119
        },
        "outputId": "1848ae41-60b6-4e78-e169-276b7a2c2f6e"
      },
      "execution_count": 50,
      "outputs": [
        {
          "output_type": "execute_result",
          "data": {
            "text/plain": [
              "Matrix([\n",
              "[1,  2,  3,  4],\n",
              "[5,  6,  7,  8],\n",
              "[9, 10, 11, 12],\n",
              "[1, -1,  1, -1],\n",
              "[2,  1, -5,  1]])"
            ],
            "text/latex": "$\\displaystyle \\left[\\begin{matrix}1 & 2 & 3 & 4\\\\5 & 6 & 7 & 8\\\\9 & 10 & 11 & 12\\\\1 & -1 & 1 & -1\\\\2 & 1 & -5 & 1\\end{matrix}\\right]$"
          },
          "metadata": {},
          "execution_count": 50
        }
      ]
    },
    {
      "cell_type": "code",
      "source": [
        "np.linalg.norm(A-A1)"
      ],
      "metadata": {
        "id": "-KN6TPKa21qJ",
        "colab": {
          "base_uri": "https://localhost:8080/"
        },
        "outputId": "d843dca6-f553-417d-ae0f-1defa2b4dab4"
      },
      "execution_count": 51,
      "outputs": [
        {
          "output_type": "execute_result",
          "data": {
            "text/plain": [
              "0.8613319525919458"
            ]
          },
          "metadata": {},
          "execution_count": 51
        }
      ]
    },
    {
      "cell_type": "markdown",
      "source": [
        "Find rank 2 approximation"
      ],
      "metadata": {
        "id": "JBmfo-tf3RXL"
      }
    },
    {
      "cell_type": "code",
      "source": [
        "k = 1\n",
        "\n",
        "Uk = U[:,:k] # Choose all rows and first k columns\n",
        "Sigmak = Sigma[:k,:k] # Choose first k rows and k columns\n",
        "Vtk = Vt[:k,:] # Choose first k rows and all columns\n",
        "Ak = Uk@Sigmak@Vtk\n",
        "sp.Matrix(Ak)"
      ],
      "metadata": {
        "id": "4pssWAUp3P3Z",
        "colab": {
          "base_uri": "https://localhost:8080/",
          "height": 119
        },
        "outputId": "5d2c53dc-c9d2-4955-8a66-0ee74d2da5db"
      },
      "execution_count": 52,
      "outputs": [
        {
          "output_type": "execute_result",
          "data": {
            "text/plain": [
              "Matrix([\n",
              "[   2.10780029851962,    2.43764006036481,   2.79648996831508,    3.08040872773819],\n",
              "[   5.28077096867895,    6.10713399742099,   7.00617750611952,    7.71749249325464],\n",
              "[   8.45374163883828,    9.77662793447717,    11.215865043924,    12.3545762587711],\n",
              "[-0.0467130693090933, -0.0540229779692213, -0.061975809474851, -0.0682680168990545],\n",
              "[ -0.323375567628341,  -0.373979090309307, -0.429033306194131,  -0.472591697400957]])"
            ],
            "text/latex": "$\\displaystyle \\left[\\begin{matrix}2.10780029851962 & 2.43764006036481 & 2.79648996831508 & 3.08040872773819\\\\5.28077096867895 & 6.10713399742099 & 7.00617750611952 & 7.71749249325464\\\\8.45374163883828 & 9.77662793447717 & 11.215865043924 & 12.3545762587711\\\\-0.0467130693090933 & -0.0540229779692213 & -0.061975809474851 & -0.0682680168990545\\\\-0.323375567628341 & -0.373979090309307 & -0.429033306194131 & -0.472591697400957\\end{matrix}\\right]$"
          },
          "metadata": {},
          "execution_count": 52
        }
      ]
    },
    {
      "cell_type": "code",
      "source": [
        "np.linalg.norm(A-Ak)"
      ],
      "metadata": {
        "id": "23rVwO3v3uD4",
        "colab": {
          "base_uri": "https://localhost:8080/"
        },
        "outputId": "79bbfb37-30b2-4541-c353-e489c503e123"
      },
      "execution_count": 53,
      "outputs": [
        {
          "output_type": "execute_result",
          "data": {
            "text/plain": [
              "6.1099216067997"
            ]
          },
          "metadata": {},
          "execution_count": 53
        }
      ]
    }
  ]
}