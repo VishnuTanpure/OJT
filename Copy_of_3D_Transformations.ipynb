{
  "nbformat": 4,
  "nbformat_minor": 0,
  "metadata": {
    "colab": {
      "provenance": []
    },
    "kernelspec": {
      "name": "python3",
      "display_name": "Python 3"
    },
    "language_info": {
      "name": "python"
    }
  },
  "cells": [
    {
      "cell_type": "code",
      "execution_count": null,
      "metadata": {
        "id": "xoMu-618u9R9",
        "cellView": "form"
      },
      "outputs": [],
      "source": [
        "# @title $Start$\n",
        "from IPython.display import HTML, Math, display\n",
        "import numpy as np\n",
        "import sympy as sp\n",
        "import plotly.express as px\n",
        "import pandas as pd\n",
        "\n",
        "\n",
        "# Functions\n",
        "\n",
        "def plot(A,n):\n",
        "    X = np.zeros((3, 4*n+2))\n",
        "    for i in range(3):\n",
        "        for j in range(n):\n",
        "            X[i,j] = A[i,j]\n",
        "\n",
        "        X[i,j+1] = A[i,0]\n",
        "\n",
        "        for j in range(n,2*n):\n",
        "            X[i,j+1] = A[i,j]\n",
        "\n",
        "        X[i,j+2] = A[i,n]\n",
        "\n",
        "    for i in range(3):\n",
        "        for j in range(n):\n",
        "            X[i,2*n+2+2*j] = A[i,j]\n",
        "            X[i,2*n+2+2*j+1] = A[i,n+j]\n",
        "\n",
        "    G=[]\n",
        "    for i in range(2):\n",
        "        G = G + ['G'+str(i)]*(n+1)\n",
        "\n",
        "    for i in range(2,n+2):\n",
        "        G = G + ['G'+str(i)]*2\n",
        "\n",
        "    df = pd.DataFrame({'X': X[0],\n",
        "                    'Y': X[1],\n",
        "                    'Z': X[2],\n",
        "                    'G': G})\n",
        "\n",
        "    fig = px.line_3d(df, x='X', y='Y', z='Z', line_group = 'G',width=800, height=800, line_color='blue')\n",
        "    #fig.update_scenes(aspectmode='data')\n",
        "    fig.show()\n",
        "\n",
        "\n",
        "def plot3D(A1,n):\n",
        "    A = A1[:3,:]\n",
        "    X = np.zeros((3, 4*n+2))\n",
        "    for i in range(3):\n",
        "        for j in range(n):\n",
        "            X[i,j] = A[i,j]\n",
        "\n",
        "        X[i,j+1] = A[i,0]\n",
        "\n",
        "        for j in range(n,2*n):\n",
        "            X[i,j+1] = A[i,j]\n",
        "\n",
        "        X[i,j+2] = A[i,n]\n",
        "\n",
        "    for i in range(3):\n",
        "        for j in range(n):\n",
        "            X[i,2*n+2+2*j] = A[i,j]\n",
        "            X[i,2*n+2+2*j+1] = A[i,n+j]\n",
        "\n",
        "    G=[]\n",
        "    for i in range(2):\n",
        "        G = G + ['G'+str(i)]*(n+1)\n",
        "\n",
        "    for i in range(2,n+2):\n",
        "        G = G + ['G'+str(i)]*2\n",
        "\n",
        "    df = pd.DataFrame({'X': X[0],\n",
        "                    'Y': X[1],\n",
        "                    'Z': X[2],\n",
        "                    'G': G})\n",
        "\n",
        "    #fig = px.line_3d(df, x='X', y='Y', z='Z', line_group = 'G',width=800, height=800)\n",
        "    #fig.add_trace(px.line_3d(df, x='X', y='Y', z='Z', line_group = 'G',width=800, height=800))\n",
        "\n",
        "    #fig.show()\n",
        "    #return(px.line_3d(df, x='X', y='Y', z='Z', line_group = 'G',width=800, height=800))\n",
        "    return(df)\n",
        "\n",
        "def plot0(A1,n):\n",
        "    A = A1[:3,:]\n",
        "    X = np.zeros((3, 4*n+2))\n",
        "    for i in range(3):\n",
        "        for j in range(n):\n",
        "            X[i,j] = A[i,j]\n",
        "\n",
        "        X[i,j+1] = A[i,0]\n",
        "\n",
        "        for j in range(n,2*n):\n",
        "            X[i,j+1] = A[i,j]\n",
        "\n",
        "        X[i,j+2] = A[i,n]\n",
        "\n",
        "    for i in range(3):\n",
        "        for j in range(n):\n",
        "            X[i,2*n+2+2*j] = A[i,j]\n",
        "            X[i,2*n+2+2*j+1] = A[i,n+j]\n",
        "\n",
        "    G=[]\n",
        "    for i in range(2):\n",
        "        G = G + ['G'+str(i)]*(n+1)\n",
        "\n",
        "    for i in range(2,n+2):\n",
        "        G = G + ['G'+str(i)]*2\n",
        "\n",
        "    df = pd.DataFrame({'X': X[0],\n",
        "                    'Y': X[1],\n",
        "                    'Z': X[2],\n",
        "                    'G': G})\n",
        "\n",
        "    #fig = px.line_3d(df, x='X', y='Y', z='Z', line_group = 'G',width=800, height=800)\n",
        "    return(df)\n",
        "    #fig.show()"
      ]
    },
    {
      "cell_type": "code",
      "source": [
        "# @title $Enter \\ \\ Coordinates \\ \\ of \\ \\ Points $\n",
        "n = 4 # @param {type:\"integer\"}\n",
        "\n",
        "points = []\n",
        "for i in range(2*n):\n",
        "    print('Coordinates of P',i,sep='')\n",
        "    temp=[int(i) for i in input().split(',')]\n",
        "    points.append(temp)\n",
        "\n",
        "A = np.array(points).T\n",
        "display(Math(r'A='+sp.latex(sp.Matrix(A))))\n",
        "print()\n",
        "A1 = np.append(np.append(A,[[(1) for i in range(2*n)]], axis=0), [[0],[0],[0],[1]], axis=1)\n",
        "display(Math(r'{\\hat{A}='+sp.latex(sp.Matrix(A1)) +r'}'))\n",
        "\n",
        "#Plot Original Image\n",
        "df1 = plot3D(A1,n)\n",
        "fig = px.line_3d(df1, x='X', y='Y', z='Z', line_group = 'G',width=800, height=800)\n",
        "#fig.update_scenes(aspectmode='data')\n",
        "fig.show()"
      ],
      "metadata": {
        "colab": {
          "base_uri": "https://localhost:8080/",
          "height": 1000
        },
        "cellView": "form",
        "id": "D0qShdK_cyKU",
        "outputId": "805401a6-551b-468a-c495-7d8af0b05646"
      },
      "execution_count": null,
      "outputs": [
        {
          "name": "stdout",
          "output_type": "stream",
          "text": [
            "Coordinates of P0\n",
            "0,0,0\n",
            "Coordinates of P1\n",
            "0,0,1\n",
            "Coordinates of P2\n",
            "0,1,1\n",
            "Coordinates of P3\n",
            "0,1,0\n",
            "Coordinates of P4\n",
            "1,0,0\n",
            "Coordinates of P5\n",
            "1,0,1\n",
            "Coordinates of P6\n",
            "1,1,1\n",
            "Coordinates of P7\n",
            "1,1,0\n"
          ]
        },
        {
          "output_type": "display_data",
          "data": {
            "text/plain": [
              "<IPython.core.display.Math object>"
            ],
            "text/latex": "$\\displaystyle A=\\left[\\begin{matrix}0 & 0 & 0 & 0 & 1 & 1 & 1 & 1\\\\0 & 0 & 1 & 1 & 0 & 0 & 1 & 1\\\\0 & 1 & 1 & 0 & 0 & 1 & 1 & 0\\end{matrix}\\right]$"
          },
          "metadata": {}
        },
        {
          "output_type": "stream",
          "name": "stdout",
          "text": [
            "\n"
          ]
        },
        {
          "output_type": "display_data",
          "data": {
            "text/plain": [
              "<IPython.core.display.Math object>"
            ],
            "text/latex": "$\\displaystyle {\\hat{A}=\\left[\\begin{matrix}0 & 0 & 0 & 0 & 1 & 1 & 1 & 1 & 0\\\\0 & 0 & 1 & 1 & 0 & 0 & 1 & 1 & 0\\\\0 & 1 & 1 & 0 & 0 & 1 & 1 & 0 & 0\\\\1 & 1 & 1 & 1 & 1 & 1 & 1 & 1 & 1\\end{matrix}\\right]}$"
          },
          "metadata": {}
        },
        {
          "output_type": "display_data",
          "data": {
            "text/html": [
              "<html>\n",
              "<head><meta charset=\"utf-8\" /></head>\n",
              "<body>\n",
              "    <div>            <script src=\"https://cdnjs.cloudflare.com/ajax/libs/mathjax/2.7.5/MathJax.js?config=TeX-AMS-MML_SVG\"></script><script type=\"text/javascript\">if (window.MathJax && window.MathJax.Hub && window.MathJax.Hub.Config) {window.MathJax.Hub.Config({SVG: {font: \"STIX-Web\"}});}</script>                <script type=\"text/javascript\">window.PlotlyConfig = {MathJaxConfig: 'local'};</script>\n",
              "        <script charset=\"utf-8\" src=\"https://cdn.plot.ly/plotly-2.24.1.min.js\"></script>                <div id=\"f18329e5-2c30-4692-b76d-0a42a64c56c3\" class=\"plotly-graph-div\" style=\"height:800px; width:800px;\"></div>            <script type=\"text/javascript\">                                    window.PLOTLYENV=window.PLOTLYENV || {};                                    if (document.getElementById(\"f18329e5-2c30-4692-b76d-0a42a64c56c3\")) {                    Plotly.newPlot(                        \"f18329e5-2c30-4692-b76d-0a42a64c56c3\",                        [{\"hovertemplate\":\"G=G0\\u003cbr\\u003eX=%{x}\\u003cbr\\u003eY=%{y}\\u003cbr\\u003eZ=%{z}\\u003cextra\\u003e\\u003c\\u002fextra\\u003e\",\"legendgroup\":\"\",\"line\":{\"color\":\"#636efa\",\"dash\":\"solid\"},\"marker\":{\"symbol\":\"circle\"},\"mode\":\"lines\",\"name\":\"\",\"scene\":\"scene\",\"showlegend\":false,\"x\":[0.0,0.0,0.0,0.0,0.0],\"y\":[0.0,0.0,1.0,1.0,0.0],\"z\":[0.0,1.0,1.0,0.0,0.0],\"type\":\"scatter3d\"},{\"hovertemplate\":\"G=G1\\u003cbr\\u003eX=%{x}\\u003cbr\\u003eY=%{y}\\u003cbr\\u003eZ=%{z}\\u003cextra\\u003e\\u003c\\u002fextra\\u003e\",\"legendgroup\":\"\",\"line\":{\"color\":\"#636efa\",\"dash\":\"solid\"},\"marker\":{\"symbol\":\"circle\"},\"mode\":\"lines\",\"name\":\"\",\"scene\":\"scene\",\"showlegend\":false,\"x\":[1.0,1.0,1.0,1.0,1.0],\"y\":[0.0,0.0,1.0,1.0,0.0],\"z\":[0.0,1.0,1.0,0.0,0.0],\"type\":\"scatter3d\"},{\"hovertemplate\":\"G=G2\\u003cbr\\u003eX=%{x}\\u003cbr\\u003eY=%{y}\\u003cbr\\u003eZ=%{z}\\u003cextra\\u003e\\u003c\\u002fextra\\u003e\",\"legendgroup\":\"\",\"line\":{\"color\":\"#636efa\",\"dash\":\"solid\"},\"marker\":{\"symbol\":\"circle\"},\"mode\":\"lines\",\"name\":\"\",\"scene\":\"scene\",\"showlegend\":false,\"x\":[0.0,1.0],\"y\":[0.0,0.0],\"z\":[0.0,0.0],\"type\":\"scatter3d\"},{\"hovertemplate\":\"G=G3\\u003cbr\\u003eX=%{x}\\u003cbr\\u003eY=%{y}\\u003cbr\\u003eZ=%{z}\\u003cextra\\u003e\\u003c\\u002fextra\\u003e\",\"legendgroup\":\"\",\"line\":{\"color\":\"#636efa\",\"dash\":\"solid\"},\"marker\":{\"symbol\":\"circle\"},\"mode\":\"lines\",\"name\":\"\",\"scene\":\"scene\",\"showlegend\":false,\"x\":[0.0,1.0],\"y\":[0.0,0.0],\"z\":[1.0,1.0],\"type\":\"scatter3d\"},{\"hovertemplate\":\"G=G4\\u003cbr\\u003eX=%{x}\\u003cbr\\u003eY=%{y}\\u003cbr\\u003eZ=%{z}\\u003cextra\\u003e\\u003c\\u002fextra\\u003e\",\"legendgroup\":\"\",\"line\":{\"color\":\"#636efa\",\"dash\":\"solid\"},\"marker\":{\"symbol\":\"circle\"},\"mode\":\"lines\",\"name\":\"\",\"scene\":\"scene\",\"showlegend\":false,\"x\":[0.0,1.0],\"y\":[1.0,1.0],\"z\":[1.0,1.0],\"type\":\"scatter3d\"},{\"hovertemplate\":\"G=G5\\u003cbr\\u003eX=%{x}\\u003cbr\\u003eY=%{y}\\u003cbr\\u003eZ=%{z}\\u003cextra\\u003e\\u003c\\u002fextra\\u003e\",\"legendgroup\":\"\",\"line\":{\"color\":\"#636efa\",\"dash\":\"solid\"},\"marker\":{\"symbol\":\"circle\"},\"mode\":\"lines\",\"name\":\"\",\"scene\":\"scene\",\"showlegend\":false,\"x\":[0.0,1.0],\"y\":[1.0,1.0],\"z\":[0.0,0.0],\"type\":\"scatter3d\"}],                        {\"template\":{\"data\":{\"histogram2dcontour\":[{\"type\":\"histogram2dcontour\",\"colorbar\":{\"outlinewidth\":0,\"ticks\":\"\"},\"colorscale\":[[0.0,\"#0d0887\"],[0.1111111111111111,\"#46039f\"],[0.2222222222222222,\"#7201a8\"],[0.3333333333333333,\"#9c179e\"],[0.4444444444444444,\"#bd3786\"],[0.5555555555555556,\"#d8576b\"],[0.6666666666666666,\"#ed7953\"],[0.7777777777777778,\"#fb9f3a\"],[0.8888888888888888,\"#fdca26\"],[1.0,\"#f0f921\"]]}],\"choropleth\":[{\"type\":\"choropleth\",\"colorbar\":{\"outlinewidth\":0,\"ticks\":\"\"}}],\"histogram2d\":[{\"type\":\"histogram2d\",\"colorbar\":{\"outlinewidth\":0,\"ticks\":\"\"},\"colorscale\":[[0.0,\"#0d0887\"],[0.1111111111111111,\"#46039f\"],[0.2222222222222222,\"#7201a8\"],[0.3333333333333333,\"#9c179e\"],[0.4444444444444444,\"#bd3786\"],[0.5555555555555556,\"#d8576b\"],[0.6666666666666666,\"#ed7953\"],[0.7777777777777778,\"#fb9f3a\"],[0.8888888888888888,\"#fdca26\"],[1.0,\"#f0f921\"]]}],\"heatmap\":[{\"type\":\"heatmap\",\"colorbar\":{\"outlinewidth\":0,\"ticks\":\"\"},\"colorscale\":[[0.0,\"#0d0887\"],[0.1111111111111111,\"#46039f\"],[0.2222222222222222,\"#7201a8\"],[0.3333333333333333,\"#9c179e\"],[0.4444444444444444,\"#bd3786\"],[0.5555555555555556,\"#d8576b\"],[0.6666666666666666,\"#ed7953\"],[0.7777777777777778,\"#fb9f3a\"],[0.8888888888888888,\"#fdca26\"],[1.0,\"#f0f921\"]]}],\"heatmapgl\":[{\"type\":\"heatmapgl\",\"colorbar\":{\"outlinewidth\":0,\"ticks\":\"\"},\"colorscale\":[[0.0,\"#0d0887\"],[0.1111111111111111,\"#46039f\"],[0.2222222222222222,\"#7201a8\"],[0.3333333333333333,\"#9c179e\"],[0.4444444444444444,\"#bd3786\"],[0.5555555555555556,\"#d8576b\"],[0.6666666666666666,\"#ed7953\"],[0.7777777777777778,\"#fb9f3a\"],[0.8888888888888888,\"#fdca26\"],[1.0,\"#f0f921\"]]}],\"contourcarpet\":[{\"type\":\"contourcarpet\",\"colorbar\":{\"outlinewidth\":0,\"ticks\":\"\"}}],\"contour\":[{\"type\":\"contour\",\"colorbar\":{\"outlinewidth\":0,\"ticks\":\"\"},\"colorscale\":[[0.0,\"#0d0887\"],[0.1111111111111111,\"#46039f\"],[0.2222222222222222,\"#7201a8\"],[0.3333333333333333,\"#9c179e\"],[0.4444444444444444,\"#bd3786\"],[0.5555555555555556,\"#d8576b\"],[0.6666666666666666,\"#ed7953\"],[0.7777777777777778,\"#fb9f3a\"],[0.8888888888888888,\"#fdca26\"],[1.0,\"#f0f921\"]]}],\"surface\":[{\"type\":\"surface\",\"colorbar\":{\"outlinewidth\":0,\"ticks\":\"\"},\"colorscale\":[[0.0,\"#0d0887\"],[0.1111111111111111,\"#46039f\"],[0.2222222222222222,\"#7201a8\"],[0.3333333333333333,\"#9c179e\"],[0.4444444444444444,\"#bd3786\"],[0.5555555555555556,\"#d8576b\"],[0.6666666666666666,\"#ed7953\"],[0.7777777777777778,\"#fb9f3a\"],[0.8888888888888888,\"#fdca26\"],[1.0,\"#f0f921\"]]}],\"mesh3d\":[{\"type\":\"mesh3d\",\"colorbar\":{\"outlinewidth\":0,\"ticks\":\"\"}}],\"scatter\":[{\"fillpattern\":{\"fillmode\":\"overlay\",\"size\":10,\"solidity\":0.2},\"type\":\"scatter\"}],\"parcoords\":[{\"type\":\"parcoords\",\"line\":{\"colorbar\":{\"outlinewidth\":0,\"ticks\":\"\"}}}],\"scatterpolargl\":[{\"type\":\"scatterpolargl\",\"marker\":{\"colorbar\":{\"outlinewidth\":0,\"ticks\":\"\"}}}],\"bar\":[{\"error_x\":{\"color\":\"#2a3f5f\"},\"error_y\":{\"color\":\"#2a3f5f\"},\"marker\":{\"line\":{\"color\":\"#E5ECF6\",\"width\":0.5},\"pattern\":{\"fillmode\":\"overlay\",\"size\":10,\"solidity\":0.2}},\"type\":\"bar\"}],\"scattergeo\":[{\"type\":\"scattergeo\",\"marker\":{\"colorbar\":{\"outlinewidth\":0,\"ticks\":\"\"}}}],\"scatterpolar\":[{\"type\":\"scatterpolar\",\"marker\":{\"colorbar\":{\"outlinewidth\":0,\"ticks\":\"\"}}}],\"histogram\":[{\"marker\":{\"pattern\":{\"fillmode\":\"overlay\",\"size\":10,\"solidity\":0.2}},\"type\":\"histogram\"}],\"scattergl\":[{\"type\":\"scattergl\",\"marker\":{\"colorbar\":{\"outlinewidth\":0,\"ticks\":\"\"}}}],\"scatter3d\":[{\"type\":\"scatter3d\",\"line\":{\"colorbar\":{\"outlinewidth\":0,\"ticks\":\"\"}},\"marker\":{\"colorbar\":{\"outlinewidth\":0,\"ticks\":\"\"}}}],\"scattermapbox\":[{\"type\":\"scattermapbox\",\"marker\":{\"colorbar\":{\"outlinewidth\":0,\"ticks\":\"\"}}}],\"scatterternary\":[{\"type\":\"scatterternary\",\"marker\":{\"colorbar\":{\"outlinewidth\":0,\"ticks\":\"\"}}}],\"scattercarpet\":[{\"type\":\"scattercarpet\",\"marker\":{\"colorbar\":{\"outlinewidth\":0,\"ticks\":\"\"}}}],\"carpet\":[{\"aaxis\":{\"endlinecolor\":\"#2a3f5f\",\"gridcolor\":\"white\",\"linecolor\":\"white\",\"minorgridcolor\":\"white\",\"startlinecolor\":\"#2a3f5f\"},\"baxis\":{\"endlinecolor\":\"#2a3f5f\",\"gridcolor\":\"white\",\"linecolor\":\"white\",\"minorgridcolor\":\"white\",\"startlinecolor\":\"#2a3f5f\"},\"type\":\"carpet\"}],\"table\":[{\"cells\":{\"fill\":{\"color\":\"#EBF0F8\"},\"line\":{\"color\":\"white\"}},\"header\":{\"fill\":{\"color\":\"#C8D4E3\"},\"line\":{\"color\":\"white\"}},\"type\":\"table\"}],\"barpolar\":[{\"marker\":{\"line\":{\"color\":\"#E5ECF6\",\"width\":0.5},\"pattern\":{\"fillmode\":\"overlay\",\"size\":10,\"solidity\":0.2}},\"type\":\"barpolar\"}],\"pie\":[{\"automargin\":true,\"type\":\"pie\"}]},\"layout\":{\"autotypenumbers\":\"strict\",\"colorway\":[\"#636efa\",\"#EF553B\",\"#00cc96\",\"#ab63fa\",\"#FFA15A\",\"#19d3f3\",\"#FF6692\",\"#B6E880\",\"#FF97FF\",\"#FECB52\"],\"font\":{\"color\":\"#2a3f5f\"},\"hovermode\":\"closest\",\"hoverlabel\":{\"align\":\"left\"},\"paper_bgcolor\":\"white\",\"plot_bgcolor\":\"#E5ECF6\",\"polar\":{\"bgcolor\":\"#E5ECF6\",\"angularaxis\":{\"gridcolor\":\"white\",\"linecolor\":\"white\",\"ticks\":\"\"},\"radialaxis\":{\"gridcolor\":\"white\",\"linecolor\":\"white\",\"ticks\":\"\"}},\"ternary\":{\"bgcolor\":\"#E5ECF6\",\"aaxis\":{\"gridcolor\":\"white\",\"linecolor\":\"white\",\"ticks\":\"\"},\"baxis\":{\"gridcolor\":\"white\",\"linecolor\":\"white\",\"ticks\":\"\"},\"caxis\":{\"gridcolor\":\"white\",\"linecolor\":\"white\",\"ticks\":\"\"}},\"coloraxis\":{\"colorbar\":{\"outlinewidth\":0,\"ticks\":\"\"}},\"colorscale\":{\"sequential\":[[0.0,\"#0d0887\"],[0.1111111111111111,\"#46039f\"],[0.2222222222222222,\"#7201a8\"],[0.3333333333333333,\"#9c179e\"],[0.4444444444444444,\"#bd3786\"],[0.5555555555555556,\"#d8576b\"],[0.6666666666666666,\"#ed7953\"],[0.7777777777777778,\"#fb9f3a\"],[0.8888888888888888,\"#fdca26\"],[1.0,\"#f0f921\"]],\"sequentialminus\":[[0.0,\"#0d0887\"],[0.1111111111111111,\"#46039f\"],[0.2222222222222222,\"#7201a8\"],[0.3333333333333333,\"#9c179e\"],[0.4444444444444444,\"#bd3786\"],[0.5555555555555556,\"#d8576b\"],[0.6666666666666666,\"#ed7953\"],[0.7777777777777778,\"#fb9f3a\"],[0.8888888888888888,\"#fdca26\"],[1.0,\"#f0f921\"]],\"diverging\":[[0,\"#8e0152\"],[0.1,\"#c51b7d\"],[0.2,\"#de77ae\"],[0.3,\"#f1b6da\"],[0.4,\"#fde0ef\"],[0.5,\"#f7f7f7\"],[0.6,\"#e6f5d0\"],[0.7,\"#b8e186\"],[0.8,\"#7fbc41\"],[0.9,\"#4d9221\"],[1,\"#276419\"]]},\"xaxis\":{\"gridcolor\":\"white\",\"linecolor\":\"white\",\"ticks\":\"\",\"title\":{\"standoff\":15},\"zerolinecolor\":\"white\",\"automargin\":true,\"zerolinewidth\":2},\"yaxis\":{\"gridcolor\":\"white\",\"linecolor\":\"white\",\"ticks\":\"\",\"title\":{\"standoff\":15},\"zerolinecolor\":\"white\",\"automargin\":true,\"zerolinewidth\":2},\"scene\":{\"xaxis\":{\"backgroundcolor\":\"#E5ECF6\",\"gridcolor\":\"white\",\"linecolor\":\"white\",\"showbackground\":true,\"ticks\":\"\",\"zerolinecolor\":\"white\",\"gridwidth\":2},\"yaxis\":{\"backgroundcolor\":\"#E5ECF6\",\"gridcolor\":\"white\",\"linecolor\":\"white\",\"showbackground\":true,\"ticks\":\"\",\"zerolinecolor\":\"white\",\"gridwidth\":2},\"zaxis\":{\"backgroundcolor\":\"#E5ECF6\",\"gridcolor\":\"white\",\"linecolor\":\"white\",\"showbackground\":true,\"ticks\":\"\",\"zerolinecolor\":\"white\",\"gridwidth\":2}},\"shapedefaults\":{\"line\":{\"color\":\"#2a3f5f\"}},\"annotationdefaults\":{\"arrowcolor\":\"#2a3f5f\",\"arrowhead\":0,\"arrowwidth\":1},\"geo\":{\"bgcolor\":\"white\",\"landcolor\":\"#E5ECF6\",\"subunitcolor\":\"white\",\"showland\":true,\"showlakes\":true,\"lakecolor\":\"white\"},\"title\":{\"x\":0.05},\"mapbox\":{\"style\":\"light\"}}},\"scene\":{\"domain\":{\"x\":[0.0,1.0],\"y\":[0.0,1.0]},\"xaxis\":{\"title\":{\"text\":\"X\"}},\"yaxis\":{\"title\":{\"text\":\"Y\"}},\"zaxis\":{\"title\":{\"text\":\"Z\"}}},\"legend\":{\"tracegroupgap\":0},\"margin\":{\"t\":60},\"height\":800,\"width\":800},                        {\"responsive\": true}                    ).then(function(){\n",
              "                            \n",
              "var gd = document.getElementById('f18329e5-2c30-4692-b76d-0a42a64c56c3');\n",
              "var x = new MutationObserver(function (mutations, observer) {{\n",
              "        var display = window.getComputedStyle(gd).display;\n",
              "        if (!display || display === 'none') {{\n",
              "            console.log([gd, 'removed!']);\n",
              "            Plotly.purge(gd);\n",
              "            observer.disconnect();\n",
              "        }}\n",
              "}});\n",
              "\n",
              "// Listen for the removal of the full notebook cells\n",
              "var notebookContainer = gd.closest('#notebook-container');\n",
              "if (notebookContainer) {{\n",
              "    x.observe(notebookContainer, {childList: true});\n",
              "}}\n",
              "\n",
              "// Listen for the clearing of the current output cell\n",
              "var outputEl = gd.closest('.output');\n",
              "if (outputEl) {{\n",
              "    x.observe(outputEl, {childList: true});\n",
              "}}\n",
              "\n",
              "                        })                };                            </script>        </div>\n",
              "</body>\n",
              "</html>"
            ]
          },
          "metadata": {}
        }
      ]
    },
    {
      "cell_type": "code",
      "source": [
        "# @title $Rotation$ { form-width: \"20%\" }\n",
        "alpha = 30 # @param {type:\"number\"}\n",
        "beta = 45 # @param {type:\"number\"}\n",
        "gamma = 60 # @param {type:\"number\"}\n",
        "\n",
        "alpha = alpha*np.pi/180\n",
        "beta = beta*np.pi/180\n",
        "gamma = gamma*np.pi/180\n",
        "\n",
        "Rx = np.array([[1,0,0,0], [0, np.cos(alpha), -1*np.sin(alpha),0], [0, np.sin(alpha), np.cos(alpha),0],[0,0,0,1]])\n",
        "Ry = np.array([[np.cos(beta), 0, np.sin(beta),0], [0,1,0,0], [-1*np.sin(beta), 0, np.cos(beta),0],[0,0,0,1]])\n",
        "Rz = np.array([[np.cos(gamma), -1*np.sin(gamma), 0,0], [np.sin(gamma), np.cos(gamma), 0,0], [0,0,1,0],[0,0,0,1]])\n",
        "\n",
        "R = Rx@Ry@Rz\n",
        "\n",
        "display(Math(r'{R='+sp.latex(sp.Matrix(np.round(R,4))) + r' \\ \\ , \\ \\ \\hat{A}='+sp.latex(sp.Matrix(A1)) +r'}'))\n",
        "print()\n",
        "\n",
        "#Plot Original Image\n",
        "df1 = plot3D(A1,n)\n",
        "fig = px.line_3d(df1, x='X', y='Y', z='Z', line_group = 'G',width=800, height=800)\n",
        "\n",
        "#Plot Transformed Image\n",
        "RA1 = R@A1\n",
        "display(Math(r'{R \\hat{A}='+sp.latex(sp.Matrix(np.round(RA1,4)))+r'}'))\n",
        "df2 = plot0(RA1,n)\n",
        "fig.add_scatter3d(x=df2['X'][0:n+1], y=df2['Y'][0:n+1], z=df2['Z'][0:n+1], mode='lines', line_width=6, line_color='red',showlegend=False)\n",
        "fig.add_scatter3d(x=df2['X'][n+1:2*n+2], y=df2['Y'][n+1:2*n+2], z=df2['Z'][n+1:2*n+2], mode='lines', line_width=6, line_color='red',showlegend=False)\n",
        "for i in range(n):\n",
        "    fig.add_scatter3d(x=df2['X'][2*(n+i)+2:2*(n+i)+4], y=df2['Y'][2*(n+i)+2:2*(n+i)+4], z=df2['Z'][2*(n+i)+2:2*(n+i)+4], mode='lines', line_width=6, line_color='red',showlegend=False)\n",
        "\n",
        "#fig.update_scenes(aspectmode='data')\n",
        "fig.show()"
      ],
      "metadata": {
        "colab": {
          "base_uri": "https://localhost:8080/",
          "height": 997
        },
        "cellView": "form",
        "id": "TQ49l1MUtuV7",
        "outputId": "ddbfd2ea-3cd5-4681-eb24-eca9cf3e87b1"
      },
      "execution_count": null,
      "outputs": [
        {
          "output_type": "display_data",
          "data": {
            "text/plain": [
              "<IPython.core.display.Math object>"
            ],
            "text/latex": "$\\displaystyle {R=\\left[\\begin{matrix}0.3536 & -0.6124 & 0.7071 & 0\\\\0.9268 & 0.1268 & -0.3536 & 0\\\\0.1268 & 0.7803 & 0.6124 & 0\\\\0 & 0 & 0 & 1.0\\end{matrix}\\right] \\ \\ , \\ \\ \\hat{A}=\\left[\\begin{matrix}0 & 0 & 0 & 0 & 1 & 1 & 1 & 1 & 0\\\\0 & 0 & 1 & 1 & 0 & 0 & 1 & 1 & 0\\\\0 & 1 & 1 & 0 & 0 & 1 & 1 & 0 & 0\\\\1 & 1 & 1 & 1 & 1 & 1 & 1 & 1 & 1\\end{matrix}\\right]}$"
          },
          "metadata": {}
        },
        {
          "output_type": "stream",
          "name": "stdout",
          "text": [
            "\n"
          ]
        },
        {
          "output_type": "display_data",
          "data": {
            "text/plain": [
              "<IPython.core.display.Math object>"
            ],
            "text/latex": "$\\displaystyle {R \\hat{A}=\\left[\\begin{matrix}0 & 0.7071 & 0.0947 & -0.6124 & 0.3536 & 1.0607 & 0.4483 & -0.2588 & 0\\\\0 & -0.3536 & -0.2267 & 0.1268 & 0.9268 & 0.5732 & 0.7 & 1.0536 & 0\\\\0 & 0.6124 & 1.3927 & 0.7803 & 0.1268 & 0.7392 & 1.5195 & 0.9072 & 0\\\\1.0 & 1.0 & 1.0 & 1.0 & 1.0 & 1.0 & 1.0 & 1.0 & 1.0\\end{matrix}\\right]}$"
          },
          "metadata": {}
        },
        {
          "output_type": "display_data",
          "data": {
            "text/html": [
              "<html>\n",
              "<head><meta charset=\"utf-8\" /></head>\n",
              "<body>\n",
              "    <div>            <script src=\"https://cdnjs.cloudflare.com/ajax/libs/mathjax/2.7.5/MathJax.js?config=TeX-AMS-MML_SVG\"></script><script type=\"text/javascript\">if (window.MathJax && window.MathJax.Hub && window.MathJax.Hub.Config) {window.MathJax.Hub.Config({SVG: {font: \"STIX-Web\"}});}</script>                <script type=\"text/javascript\">window.PlotlyConfig = {MathJaxConfig: 'local'};</script>\n",
              "        <script charset=\"utf-8\" src=\"https://cdn.plot.ly/plotly-2.24.1.min.js\"></script>                <div id=\"9a7fb912-6e17-4b5a-b08e-aa0f217c756a\" class=\"plotly-graph-div\" style=\"height:800px; width:800px;\"></div>            <script type=\"text/javascript\">                                    window.PLOTLYENV=window.PLOTLYENV || {};                                    if (document.getElementById(\"9a7fb912-6e17-4b5a-b08e-aa0f217c756a\")) {                    Plotly.newPlot(                        \"9a7fb912-6e17-4b5a-b08e-aa0f217c756a\",                        [{\"hovertemplate\":\"G=G0\\u003cbr\\u003eX=%{x}\\u003cbr\\u003eY=%{y}\\u003cbr\\u003eZ=%{z}\\u003cextra\\u003e\\u003c\\u002fextra\\u003e\",\"legendgroup\":\"\",\"line\":{\"color\":\"#636efa\",\"dash\":\"solid\"},\"marker\":{\"symbol\":\"circle\"},\"mode\":\"lines\",\"name\":\"\",\"scene\":\"scene\",\"showlegend\":false,\"x\":[0.0,0.0,0.0,0.0,0.0],\"y\":[0.0,0.0,1.0,1.0,0.0],\"z\":[0.0,1.0,1.0,0.0,0.0],\"type\":\"scatter3d\"},{\"hovertemplate\":\"G=G1\\u003cbr\\u003eX=%{x}\\u003cbr\\u003eY=%{y}\\u003cbr\\u003eZ=%{z}\\u003cextra\\u003e\\u003c\\u002fextra\\u003e\",\"legendgroup\":\"\",\"line\":{\"color\":\"#636efa\",\"dash\":\"solid\"},\"marker\":{\"symbol\":\"circle\"},\"mode\":\"lines\",\"name\":\"\",\"scene\":\"scene\",\"showlegend\":false,\"x\":[1.0,1.0,1.0,1.0,1.0],\"y\":[0.0,0.0,1.0,1.0,0.0],\"z\":[0.0,1.0,1.0,0.0,0.0],\"type\":\"scatter3d\"},{\"hovertemplate\":\"G=G2\\u003cbr\\u003eX=%{x}\\u003cbr\\u003eY=%{y}\\u003cbr\\u003eZ=%{z}\\u003cextra\\u003e\\u003c\\u002fextra\\u003e\",\"legendgroup\":\"\",\"line\":{\"color\":\"#636efa\",\"dash\":\"solid\"},\"marker\":{\"symbol\":\"circle\"},\"mode\":\"lines\",\"name\":\"\",\"scene\":\"scene\",\"showlegend\":false,\"x\":[0.0,1.0],\"y\":[0.0,0.0],\"z\":[0.0,0.0],\"type\":\"scatter3d\"},{\"hovertemplate\":\"G=G3\\u003cbr\\u003eX=%{x}\\u003cbr\\u003eY=%{y}\\u003cbr\\u003eZ=%{z}\\u003cextra\\u003e\\u003c\\u002fextra\\u003e\",\"legendgroup\":\"\",\"line\":{\"color\":\"#636efa\",\"dash\":\"solid\"},\"marker\":{\"symbol\":\"circle\"},\"mode\":\"lines\",\"name\":\"\",\"scene\":\"scene\",\"showlegend\":false,\"x\":[0.0,1.0],\"y\":[0.0,0.0],\"z\":[1.0,1.0],\"type\":\"scatter3d\"},{\"hovertemplate\":\"G=G4\\u003cbr\\u003eX=%{x}\\u003cbr\\u003eY=%{y}\\u003cbr\\u003eZ=%{z}\\u003cextra\\u003e\\u003c\\u002fextra\\u003e\",\"legendgroup\":\"\",\"line\":{\"color\":\"#636efa\",\"dash\":\"solid\"},\"marker\":{\"symbol\":\"circle\"},\"mode\":\"lines\",\"name\":\"\",\"scene\":\"scene\",\"showlegend\":false,\"x\":[0.0,1.0],\"y\":[1.0,1.0],\"z\":[1.0,1.0],\"type\":\"scatter3d\"},{\"hovertemplate\":\"G=G5\\u003cbr\\u003eX=%{x}\\u003cbr\\u003eY=%{y}\\u003cbr\\u003eZ=%{z}\\u003cextra\\u003e\\u003c\\u002fextra\\u003e\",\"legendgroup\":\"\",\"line\":{\"color\":\"#636efa\",\"dash\":\"solid\"},\"marker\":{\"symbol\":\"circle\"},\"mode\":\"lines\",\"name\":\"\",\"scene\":\"scene\",\"showlegend\":false,\"x\":[0.0,1.0],\"y\":[1.0,1.0],\"z\":[0.0,0.0],\"type\":\"scatter3d\"},{\"line\":{\"color\":\"red\",\"width\":6},\"mode\":\"lines\",\"showlegend\":false,\"x\":[0.0,0.7071067811865475,0.09473434549075288,-0.6123724356957946,0.0],\"y\":[0.0,-0.35355339059327373,-0.22672690654895147,0.12682648404432226,0.0],\"z\":[0.0,0.6123724356957946,1.3927025215857052,0.7803300858899106,0.0],\"type\":\"scatter3d\"},{\"line\":{\"color\":\"red\",\"width\":6},\"mode\":\"lines\",\"showlegend\":false,\"x\":[0.35355339059327384,1.0606601717798214,0.4482877360840267,-0.25881904510252074,0.35355339059327384],\"y\":[0.9267766952966369,0.5732233047033631,0.7000497887476853,1.053603179340959,0.9267766952966369],\"z\":[0.12682648404432195,0.7391989197401165,1.519529005630027,0.9071565699342325,0.12682648404432195],\"type\":\"scatter3d\"},{\"line\":{\"color\":\"red\",\"width\":6},\"mode\":\"lines\",\"showlegend\":false,\"x\":[0.0,0.35355339059327384],\"y\":[0.0,0.9267766952966369],\"z\":[0.0,0.12682648404432195],\"type\":\"scatter3d\"},{\"line\":{\"color\":\"red\",\"width\":6},\"mode\":\"lines\",\"showlegend\":false,\"x\":[0.7071067811865475,1.0606601717798214],\"y\":[-0.35355339059327373,0.5732233047033631],\"z\":[0.6123724356957946,0.7391989197401165],\"type\":\"scatter3d\"},{\"line\":{\"color\":\"red\",\"width\":6},\"mode\":\"lines\",\"showlegend\":false,\"x\":[0.09473434549075288,0.4482877360840267],\"y\":[-0.22672690654895147,0.7000497887476853],\"z\":[1.3927025215857052,1.519529005630027],\"type\":\"scatter3d\"},{\"line\":{\"color\":\"red\",\"width\":6},\"mode\":\"lines\",\"showlegend\":false,\"x\":[-0.6123724356957946,-0.25881904510252074],\"y\":[0.12682648404432226,1.053603179340959],\"z\":[0.7803300858899106,0.9071565699342325],\"type\":\"scatter3d\"}],                        {\"template\":{\"data\":{\"histogram2dcontour\":[{\"type\":\"histogram2dcontour\",\"colorbar\":{\"outlinewidth\":0,\"ticks\":\"\"},\"colorscale\":[[0.0,\"#0d0887\"],[0.1111111111111111,\"#46039f\"],[0.2222222222222222,\"#7201a8\"],[0.3333333333333333,\"#9c179e\"],[0.4444444444444444,\"#bd3786\"],[0.5555555555555556,\"#d8576b\"],[0.6666666666666666,\"#ed7953\"],[0.7777777777777778,\"#fb9f3a\"],[0.8888888888888888,\"#fdca26\"],[1.0,\"#f0f921\"]]}],\"choropleth\":[{\"type\":\"choropleth\",\"colorbar\":{\"outlinewidth\":0,\"ticks\":\"\"}}],\"histogram2d\":[{\"type\":\"histogram2d\",\"colorbar\":{\"outlinewidth\":0,\"ticks\":\"\"},\"colorscale\":[[0.0,\"#0d0887\"],[0.1111111111111111,\"#46039f\"],[0.2222222222222222,\"#7201a8\"],[0.3333333333333333,\"#9c179e\"],[0.4444444444444444,\"#bd3786\"],[0.5555555555555556,\"#d8576b\"],[0.6666666666666666,\"#ed7953\"],[0.7777777777777778,\"#fb9f3a\"],[0.8888888888888888,\"#fdca26\"],[1.0,\"#f0f921\"]]}],\"heatmap\":[{\"type\":\"heatmap\",\"colorbar\":{\"outlinewidth\":0,\"ticks\":\"\"},\"colorscale\":[[0.0,\"#0d0887\"],[0.1111111111111111,\"#46039f\"],[0.2222222222222222,\"#7201a8\"],[0.3333333333333333,\"#9c179e\"],[0.4444444444444444,\"#bd3786\"],[0.5555555555555556,\"#d8576b\"],[0.6666666666666666,\"#ed7953\"],[0.7777777777777778,\"#fb9f3a\"],[0.8888888888888888,\"#fdca26\"],[1.0,\"#f0f921\"]]}],\"heatmapgl\":[{\"type\":\"heatmapgl\",\"colorbar\":{\"outlinewidth\":0,\"ticks\":\"\"},\"colorscale\":[[0.0,\"#0d0887\"],[0.1111111111111111,\"#46039f\"],[0.2222222222222222,\"#7201a8\"],[0.3333333333333333,\"#9c179e\"],[0.4444444444444444,\"#bd3786\"],[0.5555555555555556,\"#d8576b\"],[0.6666666666666666,\"#ed7953\"],[0.7777777777777778,\"#fb9f3a\"],[0.8888888888888888,\"#fdca26\"],[1.0,\"#f0f921\"]]}],\"contourcarpet\":[{\"type\":\"contourcarpet\",\"colorbar\":{\"outlinewidth\":0,\"ticks\":\"\"}}],\"contour\":[{\"type\":\"contour\",\"colorbar\":{\"outlinewidth\":0,\"ticks\":\"\"},\"colorscale\":[[0.0,\"#0d0887\"],[0.1111111111111111,\"#46039f\"],[0.2222222222222222,\"#7201a8\"],[0.3333333333333333,\"#9c179e\"],[0.4444444444444444,\"#bd3786\"],[0.5555555555555556,\"#d8576b\"],[0.6666666666666666,\"#ed7953\"],[0.7777777777777778,\"#fb9f3a\"],[0.8888888888888888,\"#fdca26\"],[1.0,\"#f0f921\"]]}],\"surface\":[{\"type\":\"surface\",\"colorbar\":{\"outlinewidth\":0,\"ticks\":\"\"},\"colorscale\":[[0.0,\"#0d0887\"],[0.1111111111111111,\"#46039f\"],[0.2222222222222222,\"#7201a8\"],[0.3333333333333333,\"#9c179e\"],[0.4444444444444444,\"#bd3786\"],[0.5555555555555556,\"#d8576b\"],[0.6666666666666666,\"#ed7953\"],[0.7777777777777778,\"#fb9f3a\"],[0.8888888888888888,\"#fdca26\"],[1.0,\"#f0f921\"]]}],\"mesh3d\":[{\"type\":\"mesh3d\",\"colorbar\":{\"outlinewidth\":0,\"ticks\":\"\"}}],\"scatter\":[{\"fillpattern\":{\"fillmode\":\"overlay\",\"size\":10,\"solidity\":0.2},\"type\":\"scatter\"}],\"parcoords\":[{\"type\":\"parcoords\",\"line\":{\"colorbar\":{\"outlinewidth\":0,\"ticks\":\"\"}}}],\"scatterpolargl\":[{\"type\":\"scatterpolargl\",\"marker\":{\"colorbar\":{\"outlinewidth\":0,\"ticks\":\"\"}}}],\"bar\":[{\"error_x\":{\"color\":\"#2a3f5f\"},\"error_y\":{\"color\":\"#2a3f5f\"},\"marker\":{\"line\":{\"color\":\"#E5ECF6\",\"width\":0.5},\"pattern\":{\"fillmode\":\"overlay\",\"size\":10,\"solidity\":0.2}},\"type\":\"bar\"}],\"scattergeo\":[{\"type\":\"scattergeo\",\"marker\":{\"colorbar\":{\"outlinewidth\":0,\"ticks\":\"\"}}}],\"scatterpolar\":[{\"type\":\"scatterpolar\",\"marker\":{\"colorbar\":{\"outlinewidth\":0,\"ticks\":\"\"}}}],\"histogram\":[{\"marker\":{\"pattern\":{\"fillmode\":\"overlay\",\"size\":10,\"solidity\":0.2}},\"type\":\"histogram\"}],\"scattergl\":[{\"type\":\"scattergl\",\"marker\":{\"colorbar\":{\"outlinewidth\":0,\"ticks\":\"\"}}}],\"scatter3d\":[{\"type\":\"scatter3d\",\"line\":{\"colorbar\":{\"outlinewidth\":0,\"ticks\":\"\"}},\"marker\":{\"colorbar\":{\"outlinewidth\":0,\"ticks\":\"\"}}}],\"scattermapbox\":[{\"type\":\"scattermapbox\",\"marker\":{\"colorbar\":{\"outlinewidth\":0,\"ticks\":\"\"}}}],\"scatterternary\":[{\"type\":\"scatterternary\",\"marker\":{\"colorbar\":{\"outlinewidth\":0,\"ticks\":\"\"}}}],\"scattercarpet\":[{\"type\":\"scattercarpet\",\"marker\":{\"colorbar\":{\"outlinewidth\":0,\"ticks\":\"\"}}}],\"carpet\":[{\"aaxis\":{\"endlinecolor\":\"#2a3f5f\",\"gridcolor\":\"white\",\"linecolor\":\"white\",\"minorgridcolor\":\"white\",\"startlinecolor\":\"#2a3f5f\"},\"baxis\":{\"endlinecolor\":\"#2a3f5f\",\"gridcolor\":\"white\",\"linecolor\":\"white\",\"minorgridcolor\":\"white\",\"startlinecolor\":\"#2a3f5f\"},\"type\":\"carpet\"}],\"table\":[{\"cells\":{\"fill\":{\"color\":\"#EBF0F8\"},\"line\":{\"color\":\"white\"}},\"header\":{\"fill\":{\"color\":\"#C8D4E3\"},\"line\":{\"color\":\"white\"}},\"type\":\"table\"}],\"barpolar\":[{\"marker\":{\"line\":{\"color\":\"#E5ECF6\",\"width\":0.5},\"pattern\":{\"fillmode\":\"overlay\",\"size\":10,\"solidity\":0.2}},\"type\":\"barpolar\"}],\"pie\":[{\"automargin\":true,\"type\":\"pie\"}]},\"layout\":{\"autotypenumbers\":\"strict\",\"colorway\":[\"#636efa\",\"#EF553B\",\"#00cc96\",\"#ab63fa\",\"#FFA15A\",\"#19d3f3\",\"#FF6692\",\"#B6E880\",\"#FF97FF\",\"#FECB52\"],\"font\":{\"color\":\"#2a3f5f\"},\"hovermode\":\"closest\",\"hoverlabel\":{\"align\":\"left\"},\"paper_bgcolor\":\"white\",\"plot_bgcolor\":\"#E5ECF6\",\"polar\":{\"bgcolor\":\"#E5ECF6\",\"angularaxis\":{\"gridcolor\":\"white\",\"linecolor\":\"white\",\"ticks\":\"\"},\"radialaxis\":{\"gridcolor\":\"white\",\"linecolor\":\"white\",\"ticks\":\"\"}},\"ternary\":{\"bgcolor\":\"#E5ECF6\",\"aaxis\":{\"gridcolor\":\"white\",\"linecolor\":\"white\",\"ticks\":\"\"},\"baxis\":{\"gridcolor\":\"white\",\"linecolor\":\"white\",\"ticks\":\"\"},\"caxis\":{\"gridcolor\":\"white\",\"linecolor\":\"white\",\"ticks\":\"\"}},\"coloraxis\":{\"colorbar\":{\"outlinewidth\":0,\"ticks\":\"\"}},\"colorscale\":{\"sequential\":[[0.0,\"#0d0887\"],[0.1111111111111111,\"#46039f\"],[0.2222222222222222,\"#7201a8\"],[0.3333333333333333,\"#9c179e\"],[0.4444444444444444,\"#bd3786\"],[0.5555555555555556,\"#d8576b\"],[0.6666666666666666,\"#ed7953\"],[0.7777777777777778,\"#fb9f3a\"],[0.8888888888888888,\"#fdca26\"],[1.0,\"#f0f921\"]],\"sequentialminus\":[[0.0,\"#0d0887\"],[0.1111111111111111,\"#46039f\"],[0.2222222222222222,\"#7201a8\"],[0.3333333333333333,\"#9c179e\"],[0.4444444444444444,\"#bd3786\"],[0.5555555555555556,\"#d8576b\"],[0.6666666666666666,\"#ed7953\"],[0.7777777777777778,\"#fb9f3a\"],[0.8888888888888888,\"#fdca26\"],[1.0,\"#f0f921\"]],\"diverging\":[[0,\"#8e0152\"],[0.1,\"#c51b7d\"],[0.2,\"#de77ae\"],[0.3,\"#f1b6da\"],[0.4,\"#fde0ef\"],[0.5,\"#f7f7f7\"],[0.6,\"#e6f5d0\"],[0.7,\"#b8e186\"],[0.8,\"#7fbc41\"],[0.9,\"#4d9221\"],[1,\"#276419\"]]},\"xaxis\":{\"gridcolor\":\"white\",\"linecolor\":\"white\",\"ticks\":\"\",\"title\":{\"standoff\":15},\"zerolinecolor\":\"white\",\"automargin\":true,\"zerolinewidth\":2},\"yaxis\":{\"gridcolor\":\"white\",\"linecolor\":\"white\",\"ticks\":\"\",\"title\":{\"standoff\":15},\"zerolinecolor\":\"white\",\"automargin\":true,\"zerolinewidth\":2},\"scene\":{\"xaxis\":{\"backgroundcolor\":\"#E5ECF6\",\"gridcolor\":\"white\",\"linecolor\":\"white\",\"showbackground\":true,\"ticks\":\"\",\"zerolinecolor\":\"white\",\"gridwidth\":2},\"yaxis\":{\"backgroundcolor\":\"#E5ECF6\",\"gridcolor\":\"white\",\"linecolor\":\"white\",\"showbackground\":true,\"ticks\":\"\",\"zerolinecolor\":\"white\",\"gridwidth\":2},\"zaxis\":{\"backgroundcolor\":\"#E5ECF6\",\"gridcolor\":\"white\",\"linecolor\":\"white\",\"showbackground\":true,\"ticks\":\"\",\"zerolinecolor\":\"white\",\"gridwidth\":2}},\"shapedefaults\":{\"line\":{\"color\":\"#2a3f5f\"}},\"annotationdefaults\":{\"arrowcolor\":\"#2a3f5f\",\"arrowhead\":0,\"arrowwidth\":1},\"geo\":{\"bgcolor\":\"white\",\"landcolor\":\"#E5ECF6\",\"subunitcolor\":\"white\",\"showland\":true,\"showlakes\":true,\"lakecolor\":\"white\"},\"title\":{\"x\":0.05},\"mapbox\":{\"style\":\"light\"}}},\"scene\":{\"domain\":{\"x\":[0.0,1.0],\"y\":[0.0,1.0]},\"xaxis\":{\"title\":{\"text\":\"X\"}},\"yaxis\":{\"title\":{\"text\":\"Y\"}},\"zaxis\":{\"title\":{\"text\":\"Z\"}}},\"legend\":{\"tracegroupgap\":0},\"margin\":{\"t\":60},\"height\":800,\"width\":800},                        {\"responsive\": true}                    ).then(function(){\n",
              "                            \n",
              "var gd = document.getElementById('9a7fb912-6e17-4b5a-b08e-aa0f217c756a');\n",
              "var x = new MutationObserver(function (mutations, observer) {{\n",
              "        var display = window.getComputedStyle(gd).display;\n",
              "        if (!display || display === 'none') {{\n",
              "            console.log([gd, 'removed!']);\n",
              "            Plotly.purge(gd);\n",
              "            observer.disconnect();\n",
              "        }}\n",
              "}});\n",
              "\n",
              "// Listen for the removal of the full notebook cells\n",
              "var notebookContainer = gd.closest('#notebook-container');\n",
              "if (notebookContainer) {{\n",
              "    x.observe(notebookContainer, {childList: true});\n",
              "}}\n",
              "\n",
              "// Listen for the clearing of the current output cell\n",
              "var outputEl = gd.closest('.output');\n",
              "if (outputEl) {{\n",
              "    x.observe(outputEl, {childList: true});\n",
              "}}\n",
              "\n",
              "                        })                };                            </script>        </div>\n",
              "</body>\n",
              "</html>"
            ]
          },
          "metadata": {}
        }
      ]
    },
    {
      "cell_type": "code",
      "source": [
        "# @title $Scaling$ { form-width: \"20%\" }\n",
        "v = \"2,3,4\" # @param {type:\"string\"}\n",
        "\n",
        "v = v.split(',')\n",
        "v = [float(v[i]) for i in range(len(v))]\n",
        "v.append(1)\n",
        "S = np.diag(v)\n",
        "display(Math(r'{S='+sp.latex(sp.Matrix(np.round(S,4))) + r' \\ \\ , \\ \\ \\hat{A}='+sp.latex(sp.Matrix(A1)) +r'}'))\n",
        "print()\n",
        "\n",
        "#Plot Original Image\n",
        "df1 = plot3D(A1,n)\n",
        "fig = px.line_3d(df1, x='X', y='Y', z='Z', line_group = 'G',width=800, height=800)\n",
        "\n",
        "#Plot Transformed Image\n",
        "SA1 = S@A1\n",
        "display(Math(r'{S \\hat{A}='+sp.latex(sp.Matrix(np.round(SA1,4)))+r'}'))\n",
        "df2 = plot3D(SA1,n)\n",
        "fig.add_scatter3d(x=df2['X'][0:n+1], y=df2['Y'][0:n+1], z=df2['Z'][0:n+1], mode='lines', line_width=6, line_color='red',showlegend=False)\n",
        "fig.add_scatter3d(x=df2['X'][n+1:2*n+2], y=df2['Y'][n+1:2*n+2], z=df2['Z'][n+1:2*n+2], mode='lines', line_width=6, line_color='red',showlegend=False)\n",
        "for i in range(n):\n",
        "    fig.add_scatter3d(x=df2['X'][2*(n+i)+2:2*(n+i)+4], y=df2['Y'][2*(n+i)+2:2*(n+i)+4], z=df2['Z'][2*(n+i)+2:2*(n+i)+4], mode='lines', line_width=6, line_color='red',showlegend=False)\n",
        "\n",
        "#fig.update_scenes(aspectmode='data')\n",
        "fig.show()"
      ],
      "metadata": {
        "colab": {
          "base_uri": "https://localhost:8080/",
          "height": 997
        },
        "id": "vJNoxSXPs3KC",
        "outputId": "3a535721-e519-41f7-d7c1-18da2598e32a",
        "cellView": "form"
      },
      "execution_count": null,
      "outputs": [
        {
          "output_type": "display_data",
          "data": {
            "text/plain": [
              "<IPython.core.display.Math object>"
            ],
            "text/latex": "$\\displaystyle {S=\\left[\\begin{matrix}2.0 & 0 & 0 & 0\\\\0 & 3.0 & 0 & 0\\\\0 & 0 & 4.0 & 0\\\\0 & 0 & 0 & 1.0\\end{matrix}\\right] \\ \\ , \\ \\ \\hat{A}=\\left[\\begin{matrix}0 & 0 & 0 & 0 & 1 & 1 & 1 & 1 & 0\\\\0 & 0 & 1 & 1 & 0 & 0 & 1 & 1 & 0\\\\0 & 1 & 1 & 0 & 0 & 1 & 1 & 0 & 0\\\\1 & 1 & 1 & 1 & 1 & 1 & 1 & 1 & 1\\end{matrix}\\right]}$"
          },
          "metadata": {}
        },
        {
          "output_type": "stream",
          "name": "stdout",
          "text": [
            "\n"
          ]
        },
        {
          "output_type": "display_data",
          "data": {
            "text/plain": [
              "<IPython.core.display.Math object>"
            ],
            "text/latex": "$\\displaystyle {S \\hat{A}=\\left[\\begin{matrix}0 & 0 & 0 & 0 & 2.0 & 2.0 & 2.0 & 2.0 & 0\\\\0 & 0 & 3.0 & 3.0 & 0 & 0 & 3.0 & 3.0 & 0\\\\0 & 4.0 & 4.0 & 0 & 0 & 4.0 & 4.0 & 0 & 0\\\\1.0 & 1.0 & 1.0 & 1.0 & 1.0 & 1.0 & 1.0 & 1.0 & 1.0\\end{matrix}\\right]}$"
          },
          "metadata": {}
        },
        {
          "output_type": "display_data",
          "data": {
            "text/html": [
              "<html>\n",
              "<head><meta charset=\"utf-8\" /></head>\n",
              "<body>\n",
              "    <div>            <script src=\"https://cdnjs.cloudflare.com/ajax/libs/mathjax/2.7.5/MathJax.js?config=TeX-AMS-MML_SVG\"></script><script type=\"text/javascript\">if (window.MathJax && window.MathJax.Hub && window.MathJax.Hub.Config) {window.MathJax.Hub.Config({SVG: {font: \"STIX-Web\"}});}</script>                <script type=\"text/javascript\">window.PlotlyConfig = {MathJaxConfig: 'local'};</script>\n",
              "        <script charset=\"utf-8\" src=\"https://cdn.plot.ly/plotly-2.24.1.min.js\"></script>                <div id=\"07b364b4-06ee-460f-88aa-64e6bf00d910\" class=\"plotly-graph-div\" style=\"height:800px; width:800px;\"></div>            <script type=\"text/javascript\">                                    window.PLOTLYENV=window.PLOTLYENV || {};                                    if (document.getElementById(\"07b364b4-06ee-460f-88aa-64e6bf00d910\")) {                    Plotly.newPlot(                        \"07b364b4-06ee-460f-88aa-64e6bf00d910\",                        [{\"hovertemplate\":\"G=G0\\u003cbr\\u003eX=%{x}\\u003cbr\\u003eY=%{y}\\u003cbr\\u003eZ=%{z}\\u003cextra\\u003e\\u003c\\u002fextra\\u003e\",\"legendgroup\":\"\",\"line\":{\"color\":\"#636efa\",\"dash\":\"solid\"},\"marker\":{\"symbol\":\"circle\"},\"mode\":\"lines\",\"name\":\"\",\"scene\":\"scene\",\"showlegend\":false,\"x\":[0.0,0.0,0.0,0.0,0.0],\"y\":[0.0,0.0,1.0,1.0,0.0],\"z\":[0.0,1.0,1.0,0.0,0.0],\"type\":\"scatter3d\"},{\"hovertemplate\":\"G=G1\\u003cbr\\u003eX=%{x}\\u003cbr\\u003eY=%{y}\\u003cbr\\u003eZ=%{z}\\u003cextra\\u003e\\u003c\\u002fextra\\u003e\",\"legendgroup\":\"\",\"line\":{\"color\":\"#636efa\",\"dash\":\"solid\"},\"marker\":{\"symbol\":\"circle\"},\"mode\":\"lines\",\"name\":\"\",\"scene\":\"scene\",\"showlegend\":false,\"x\":[1.0,1.0,1.0,1.0,1.0],\"y\":[0.0,0.0,1.0,1.0,0.0],\"z\":[0.0,1.0,1.0,0.0,0.0],\"type\":\"scatter3d\"},{\"hovertemplate\":\"G=G2\\u003cbr\\u003eX=%{x}\\u003cbr\\u003eY=%{y}\\u003cbr\\u003eZ=%{z}\\u003cextra\\u003e\\u003c\\u002fextra\\u003e\",\"legendgroup\":\"\",\"line\":{\"color\":\"#636efa\",\"dash\":\"solid\"},\"marker\":{\"symbol\":\"circle\"},\"mode\":\"lines\",\"name\":\"\",\"scene\":\"scene\",\"showlegend\":false,\"x\":[0.0,1.0],\"y\":[0.0,0.0],\"z\":[0.0,0.0],\"type\":\"scatter3d\"},{\"hovertemplate\":\"G=G3\\u003cbr\\u003eX=%{x}\\u003cbr\\u003eY=%{y}\\u003cbr\\u003eZ=%{z}\\u003cextra\\u003e\\u003c\\u002fextra\\u003e\",\"legendgroup\":\"\",\"line\":{\"color\":\"#636efa\",\"dash\":\"solid\"},\"marker\":{\"symbol\":\"circle\"},\"mode\":\"lines\",\"name\":\"\",\"scene\":\"scene\",\"showlegend\":false,\"x\":[0.0,1.0],\"y\":[0.0,0.0],\"z\":[1.0,1.0],\"type\":\"scatter3d\"},{\"hovertemplate\":\"G=G4\\u003cbr\\u003eX=%{x}\\u003cbr\\u003eY=%{y}\\u003cbr\\u003eZ=%{z}\\u003cextra\\u003e\\u003c\\u002fextra\\u003e\",\"legendgroup\":\"\",\"line\":{\"color\":\"#636efa\",\"dash\":\"solid\"},\"marker\":{\"symbol\":\"circle\"},\"mode\":\"lines\",\"name\":\"\",\"scene\":\"scene\",\"showlegend\":false,\"x\":[0.0,1.0],\"y\":[1.0,1.0],\"z\":[1.0,1.0],\"type\":\"scatter3d\"},{\"hovertemplate\":\"G=G5\\u003cbr\\u003eX=%{x}\\u003cbr\\u003eY=%{y}\\u003cbr\\u003eZ=%{z}\\u003cextra\\u003e\\u003c\\u002fextra\\u003e\",\"legendgroup\":\"\",\"line\":{\"color\":\"#636efa\",\"dash\":\"solid\"},\"marker\":{\"symbol\":\"circle\"},\"mode\":\"lines\",\"name\":\"\",\"scene\":\"scene\",\"showlegend\":false,\"x\":[0.0,1.0],\"y\":[1.0,1.0],\"z\":[0.0,0.0],\"type\":\"scatter3d\"},{\"line\":{\"color\":\"red\",\"width\":6},\"mode\":\"lines\",\"showlegend\":false,\"x\":[0.0,0.0,0.0,0.0,0.0],\"y\":[0.0,0.0,3.0,3.0,0.0],\"z\":[0.0,4.0,4.0,0.0,0.0],\"type\":\"scatter3d\"},{\"line\":{\"color\":\"red\",\"width\":6},\"mode\":\"lines\",\"showlegend\":false,\"x\":[2.0,2.0,2.0,2.0,2.0],\"y\":[0.0,0.0,3.0,3.0,0.0],\"z\":[0.0,4.0,4.0,0.0,0.0],\"type\":\"scatter3d\"},{\"line\":{\"color\":\"red\",\"width\":6},\"mode\":\"lines\",\"showlegend\":false,\"x\":[0.0,2.0],\"y\":[0.0,0.0],\"z\":[0.0,0.0],\"type\":\"scatter3d\"},{\"line\":{\"color\":\"red\",\"width\":6},\"mode\":\"lines\",\"showlegend\":false,\"x\":[0.0,2.0],\"y\":[0.0,0.0],\"z\":[4.0,4.0],\"type\":\"scatter3d\"},{\"line\":{\"color\":\"red\",\"width\":6},\"mode\":\"lines\",\"showlegend\":false,\"x\":[0.0,2.0],\"y\":[3.0,3.0],\"z\":[4.0,4.0],\"type\":\"scatter3d\"},{\"line\":{\"color\":\"red\",\"width\":6},\"mode\":\"lines\",\"showlegend\":false,\"x\":[0.0,2.0],\"y\":[3.0,3.0],\"z\":[0.0,0.0],\"type\":\"scatter3d\"}],                        {\"template\":{\"data\":{\"histogram2dcontour\":[{\"type\":\"histogram2dcontour\",\"colorbar\":{\"outlinewidth\":0,\"ticks\":\"\"},\"colorscale\":[[0.0,\"#0d0887\"],[0.1111111111111111,\"#46039f\"],[0.2222222222222222,\"#7201a8\"],[0.3333333333333333,\"#9c179e\"],[0.4444444444444444,\"#bd3786\"],[0.5555555555555556,\"#d8576b\"],[0.6666666666666666,\"#ed7953\"],[0.7777777777777778,\"#fb9f3a\"],[0.8888888888888888,\"#fdca26\"],[1.0,\"#f0f921\"]]}],\"choropleth\":[{\"type\":\"choropleth\",\"colorbar\":{\"outlinewidth\":0,\"ticks\":\"\"}}],\"histogram2d\":[{\"type\":\"histogram2d\",\"colorbar\":{\"outlinewidth\":0,\"ticks\":\"\"},\"colorscale\":[[0.0,\"#0d0887\"],[0.1111111111111111,\"#46039f\"],[0.2222222222222222,\"#7201a8\"],[0.3333333333333333,\"#9c179e\"],[0.4444444444444444,\"#bd3786\"],[0.5555555555555556,\"#d8576b\"],[0.6666666666666666,\"#ed7953\"],[0.7777777777777778,\"#fb9f3a\"],[0.8888888888888888,\"#fdca26\"],[1.0,\"#f0f921\"]]}],\"heatmap\":[{\"type\":\"heatmap\",\"colorbar\":{\"outlinewidth\":0,\"ticks\":\"\"},\"colorscale\":[[0.0,\"#0d0887\"],[0.1111111111111111,\"#46039f\"],[0.2222222222222222,\"#7201a8\"],[0.3333333333333333,\"#9c179e\"],[0.4444444444444444,\"#bd3786\"],[0.5555555555555556,\"#d8576b\"],[0.6666666666666666,\"#ed7953\"],[0.7777777777777778,\"#fb9f3a\"],[0.8888888888888888,\"#fdca26\"],[1.0,\"#f0f921\"]]}],\"heatmapgl\":[{\"type\":\"heatmapgl\",\"colorbar\":{\"outlinewidth\":0,\"ticks\":\"\"},\"colorscale\":[[0.0,\"#0d0887\"],[0.1111111111111111,\"#46039f\"],[0.2222222222222222,\"#7201a8\"],[0.3333333333333333,\"#9c179e\"],[0.4444444444444444,\"#bd3786\"],[0.5555555555555556,\"#d8576b\"],[0.6666666666666666,\"#ed7953\"],[0.7777777777777778,\"#fb9f3a\"],[0.8888888888888888,\"#fdca26\"],[1.0,\"#f0f921\"]]}],\"contourcarpet\":[{\"type\":\"contourcarpet\",\"colorbar\":{\"outlinewidth\":0,\"ticks\":\"\"}}],\"contour\":[{\"type\":\"contour\",\"colorbar\":{\"outlinewidth\":0,\"ticks\":\"\"},\"colorscale\":[[0.0,\"#0d0887\"],[0.1111111111111111,\"#46039f\"],[0.2222222222222222,\"#7201a8\"],[0.3333333333333333,\"#9c179e\"],[0.4444444444444444,\"#bd3786\"],[0.5555555555555556,\"#d8576b\"],[0.6666666666666666,\"#ed7953\"],[0.7777777777777778,\"#fb9f3a\"],[0.8888888888888888,\"#fdca26\"],[1.0,\"#f0f921\"]]}],\"surface\":[{\"type\":\"surface\",\"colorbar\":{\"outlinewidth\":0,\"ticks\":\"\"},\"colorscale\":[[0.0,\"#0d0887\"],[0.1111111111111111,\"#46039f\"],[0.2222222222222222,\"#7201a8\"],[0.3333333333333333,\"#9c179e\"],[0.4444444444444444,\"#bd3786\"],[0.5555555555555556,\"#d8576b\"],[0.6666666666666666,\"#ed7953\"],[0.7777777777777778,\"#fb9f3a\"],[0.8888888888888888,\"#fdca26\"],[1.0,\"#f0f921\"]]}],\"mesh3d\":[{\"type\":\"mesh3d\",\"colorbar\":{\"outlinewidth\":0,\"ticks\":\"\"}}],\"scatter\":[{\"fillpattern\":{\"fillmode\":\"overlay\",\"size\":10,\"solidity\":0.2},\"type\":\"scatter\"}],\"parcoords\":[{\"type\":\"parcoords\",\"line\":{\"colorbar\":{\"outlinewidth\":0,\"ticks\":\"\"}}}],\"scatterpolargl\":[{\"type\":\"scatterpolargl\",\"marker\":{\"colorbar\":{\"outlinewidth\":0,\"ticks\":\"\"}}}],\"bar\":[{\"error_x\":{\"color\":\"#2a3f5f\"},\"error_y\":{\"color\":\"#2a3f5f\"},\"marker\":{\"line\":{\"color\":\"#E5ECF6\",\"width\":0.5},\"pattern\":{\"fillmode\":\"overlay\",\"size\":10,\"solidity\":0.2}},\"type\":\"bar\"}],\"scattergeo\":[{\"type\":\"scattergeo\",\"marker\":{\"colorbar\":{\"outlinewidth\":0,\"ticks\":\"\"}}}],\"scatterpolar\":[{\"type\":\"scatterpolar\",\"marker\":{\"colorbar\":{\"outlinewidth\":0,\"ticks\":\"\"}}}],\"histogram\":[{\"marker\":{\"pattern\":{\"fillmode\":\"overlay\",\"size\":10,\"solidity\":0.2}},\"type\":\"histogram\"}],\"scattergl\":[{\"type\":\"scattergl\",\"marker\":{\"colorbar\":{\"outlinewidth\":0,\"ticks\":\"\"}}}],\"scatter3d\":[{\"type\":\"scatter3d\",\"line\":{\"colorbar\":{\"outlinewidth\":0,\"ticks\":\"\"}},\"marker\":{\"colorbar\":{\"outlinewidth\":0,\"ticks\":\"\"}}}],\"scattermapbox\":[{\"type\":\"scattermapbox\",\"marker\":{\"colorbar\":{\"outlinewidth\":0,\"ticks\":\"\"}}}],\"scatterternary\":[{\"type\":\"scatterternary\",\"marker\":{\"colorbar\":{\"outlinewidth\":0,\"ticks\":\"\"}}}],\"scattercarpet\":[{\"type\":\"scattercarpet\",\"marker\":{\"colorbar\":{\"outlinewidth\":0,\"ticks\":\"\"}}}],\"carpet\":[{\"aaxis\":{\"endlinecolor\":\"#2a3f5f\",\"gridcolor\":\"white\",\"linecolor\":\"white\",\"minorgridcolor\":\"white\",\"startlinecolor\":\"#2a3f5f\"},\"baxis\":{\"endlinecolor\":\"#2a3f5f\",\"gridcolor\":\"white\",\"linecolor\":\"white\",\"minorgridcolor\":\"white\",\"startlinecolor\":\"#2a3f5f\"},\"type\":\"carpet\"}],\"table\":[{\"cells\":{\"fill\":{\"color\":\"#EBF0F8\"},\"line\":{\"color\":\"white\"}},\"header\":{\"fill\":{\"color\":\"#C8D4E3\"},\"line\":{\"color\":\"white\"}},\"type\":\"table\"}],\"barpolar\":[{\"marker\":{\"line\":{\"color\":\"#E5ECF6\",\"width\":0.5},\"pattern\":{\"fillmode\":\"overlay\",\"size\":10,\"solidity\":0.2}},\"type\":\"barpolar\"}],\"pie\":[{\"automargin\":true,\"type\":\"pie\"}]},\"layout\":{\"autotypenumbers\":\"strict\",\"colorway\":[\"#636efa\",\"#EF553B\",\"#00cc96\",\"#ab63fa\",\"#FFA15A\",\"#19d3f3\",\"#FF6692\",\"#B6E880\",\"#FF97FF\",\"#FECB52\"],\"font\":{\"color\":\"#2a3f5f\"},\"hovermode\":\"closest\",\"hoverlabel\":{\"align\":\"left\"},\"paper_bgcolor\":\"white\",\"plot_bgcolor\":\"#E5ECF6\",\"polar\":{\"bgcolor\":\"#E5ECF6\",\"angularaxis\":{\"gridcolor\":\"white\",\"linecolor\":\"white\",\"ticks\":\"\"},\"radialaxis\":{\"gridcolor\":\"white\",\"linecolor\":\"white\",\"ticks\":\"\"}},\"ternary\":{\"bgcolor\":\"#E5ECF6\",\"aaxis\":{\"gridcolor\":\"white\",\"linecolor\":\"white\",\"ticks\":\"\"},\"baxis\":{\"gridcolor\":\"white\",\"linecolor\":\"white\",\"ticks\":\"\"},\"caxis\":{\"gridcolor\":\"white\",\"linecolor\":\"white\",\"ticks\":\"\"}},\"coloraxis\":{\"colorbar\":{\"outlinewidth\":0,\"ticks\":\"\"}},\"colorscale\":{\"sequential\":[[0.0,\"#0d0887\"],[0.1111111111111111,\"#46039f\"],[0.2222222222222222,\"#7201a8\"],[0.3333333333333333,\"#9c179e\"],[0.4444444444444444,\"#bd3786\"],[0.5555555555555556,\"#d8576b\"],[0.6666666666666666,\"#ed7953\"],[0.7777777777777778,\"#fb9f3a\"],[0.8888888888888888,\"#fdca26\"],[1.0,\"#f0f921\"]],\"sequentialminus\":[[0.0,\"#0d0887\"],[0.1111111111111111,\"#46039f\"],[0.2222222222222222,\"#7201a8\"],[0.3333333333333333,\"#9c179e\"],[0.4444444444444444,\"#bd3786\"],[0.5555555555555556,\"#d8576b\"],[0.6666666666666666,\"#ed7953\"],[0.7777777777777778,\"#fb9f3a\"],[0.8888888888888888,\"#fdca26\"],[1.0,\"#f0f921\"]],\"diverging\":[[0,\"#8e0152\"],[0.1,\"#c51b7d\"],[0.2,\"#de77ae\"],[0.3,\"#f1b6da\"],[0.4,\"#fde0ef\"],[0.5,\"#f7f7f7\"],[0.6,\"#e6f5d0\"],[0.7,\"#b8e186\"],[0.8,\"#7fbc41\"],[0.9,\"#4d9221\"],[1,\"#276419\"]]},\"xaxis\":{\"gridcolor\":\"white\",\"linecolor\":\"white\",\"ticks\":\"\",\"title\":{\"standoff\":15},\"zerolinecolor\":\"white\",\"automargin\":true,\"zerolinewidth\":2},\"yaxis\":{\"gridcolor\":\"white\",\"linecolor\":\"white\",\"ticks\":\"\",\"title\":{\"standoff\":15},\"zerolinecolor\":\"white\",\"automargin\":true,\"zerolinewidth\":2},\"scene\":{\"xaxis\":{\"backgroundcolor\":\"#E5ECF6\",\"gridcolor\":\"white\",\"linecolor\":\"white\",\"showbackground\":true,\"ticks\":\"\",\"zerolinecolor\":\"white\",\"gridwidth\":2},\"yaxis\":{\"backgroundcolor\":\"#E5ECF6\",\"gridcolor\":\"white\",\"linecolor\":\"white\",\"showbackground\":true,\"ticks\":\"\",\"zerolinecolor\":\"white\",\"gridwidth\":2},\"zaxis\":{\"backgroundcolor\":\"#E5ECF6\",\"gridcolor\":\"white\",\"linecolor\":\"white\",\"showbackground\":true,\"ticks\":\"\",\"zerolinecolor\":\"white\",\"gridwidth\":2}},\"shapedefaults\":{\"line\":{\"color\":\"#2a3f5f\"}},\"annotationdefaults\":{\"arrowcolor\":\"#2a3f5f\",\"arrowhead\":0,\"arrowwidth\":1},\"geo\":{\"bgcolor\":\"white\",\"landcolor\":\"#E5ECF6\",\"subunitcolor\":\"white\",\"showland\":true,\"showlakes\":true,\"lakecolor\":\"white\"},\"title\":{\"x\":0.05},\"mapbox\":{\"style\":\"light\"}}},\"scene\":{\"domain\":{\"x\":[0.0,1.0],\"y\":[0.0,1.0]},\"xaxis\":{\"title\":{\"text\":\"X\"}},\"yaxis\":{\"title\":{\"text\":\"Y\"}},\"zaxis\":{\"title\":{\"text\":\"Z\"}}},\"legend\":{\"tracegroupgap\":0},\"margin\":{\"t\":60},\"height\":800,\"width\":800},                        {\"responsive\": true}                    ).then(function(){\n",
              "                            \n",
              "var gd = document.getElementById('07b364b4-06ee-460f-88aa-64e6bf00d910');\n",
              "var x = new MutationObserver(function (mutations, observer) {{\n",
              "        var display = window.getComputedStyle(gd).display;\n",
              "        if (!display || display === 'none') {{\n",
              "            console.log([gd, 'removed!']);\n",
              "            Plotly.purge(gd);\n",
              "            observer.disconnect();\n",
              "        }}\n",
              "}});\n",
              "\n",
              "// Listen for the removal of the full notebook cells\n",
              "var notebookContainer = gd.closest('#notebook-container');\n",
              "if (notebookContainer) {{\n",
              "    x.observe(notebookContainer, {childList: true});\n",
              "}}\n",
              "\n",
              "// Listen for the clearing of the current output cell\n",
              "var outputEl = gd.closest('.output');\n",
              "if (outputEl) {{\n",
              "    x.observe(outputEl, {childList: true});\n",
              "}}\n",
              "\n",
              "                        })                };                            </script>        </div>\n",
              "</body>\n",
              "</html>"
            ]
          },
          "metadata": {}
        }
      ]
    },
    {
      "cell_type": "code",
      "source": [
        "# @title $Translation$ { form-width: \"20%\" }\n",
        "v = \"2,3,2\" # @param {type:\"string\"}\n",
        "\n",
        "v = v.split(',')\n",
        "v = [float(v[i]) for i in range(len(v))]\n",
        "\n",
        "T = np.eye(4)\n",
        "for i in range(3):\n",
        "    T[i,3] = v[i]\n",
        "\n",
        "display(Math(r'{T='+sp.latex(sp.Matrix(np.round(T,4))) + r' \\ \\ , \\ \\ \\hat{A}='+sp.latex(sp.Matrix(A1)) +r'}'))\n",
        "print()\n",
        "\n",
        "#Plot Original Image\n",
        "df1 = plot3D(A1,n)\n",
        "fig = px.line_3d(df1, x='X', y='Y', z='Z', line_group = 'G',width=800, height=800)\n",
        "\n",
        "#Plot Transformed Image\n",
        "TA1 = T@A1\n",
        "display(Math(r'{T \\hat{A}='+sp.latex(sp.Matrix(np.round(TA1,4)))+r'}'))\n",
        "df2 = plot3D(TA1,n)\n",
        "fig.add_scatter3d(x=df2['X'][0:n+1], y=df2['Y'][0:n+1], z=df2['Z'][0:n+1], mode='lines', line_width=6, line_color='red',showlegend=False)\n",
        "fig.add_scatter3d(x=df2['X'][n+1:2*n+2], y=df2['Y'][n+1:2*n+2], z=df2['Z'][n+1:2*n+2], mode='lines', line_width=6, line_color='red',showlegend=False)\n",
        "for i in range(n):\n",
        "    fig.add_scatter3d(x=df2['X'][2*(n+i)+2:2*(n+i)+4], y=df2['Y'][2*(n+i)+2:2*(n+i)+4], z=df2['Z'][2*(n+i)+2:2*(n+i)+4], mode='lines', line_width=6, line_color='red',showlegend=False)\n",
        "\n",
        "#fig.update_scenes(aspectmode='data')\n",
        "fig.show()"
      ],
      "metadata": {
        "colab": {
          "base_uri": "https://localhost:8080/",
          "height": 997
        },
        "cellView": "form",
        "id": "vFgoasC-Wj3V",
        "outputId": "c940dd40-384e-43a1-e96b-391e21993ca3"
      },
      "execution_count": null,
      "outputs": [
        {
          "output_type": "display_data",
          "data": {
            "text/plain": [
              "<IPython.core.display.Math object>"
            ],
            "text/latex": "$\\displaystyle {T=\\left[\\begin{matrix}1.0 & 0 & 0 & 2.0\\\\0 & 1.0 & 0 & 3.0\\\\0 & 0 & 1.0 & 2.0\\\\0 & 0 & 0 & 1.0\\end{matrix}\\right] \\ \\ , \\ \\ \\hat{A}=\\left[\\begin{matrix}0 & 0 & 0 & 0 & 1 & 1 & 1 & 1 & 0\\\\0 & 0 & 1 & 1 & 0 & 0 & 1 & 1 & 0\\\\0 & 1 & 1 & 0 & 0 & 1 & 1 & 0 & 0\\\\1 & 1 & 1 & 1 & 1 & 1 & 1 & 1 & 1\\end{matrix}\\right]}$"
          },
          "metadata": {}
        },
        {
          "output_type": "stream",
          "name": "stdout",
          "text": [
            "\n"
          ]
        },
        {
          "output_type": "display_data",
          "data": {
            "text/plain": [
              "<IPython.core.display.Math object>"
            ],
            "text/latex": "$\\displaystyle {T \\hat{A}=\\left[\\begin{matrix}2.0 & 2.0 & 2.0 & 2.0 & 3.0 & 3.0 & 3.0 & 3.0 & 2.0\\\\3.0 & 3.0 & 4.0 & 4.0 & 3.0 & 3.0 & 4.0 & 4.0 & 3.0\\\\2.0 & 3.0 & 3.0 & 2.0 & 2.0 & 3.0 & 3.0 & 2.0 & 2.0\\\\1.0 & 1.0 & 1.0 & 1.0 & 1.0 & 1.0 & 1.0 & 1.0 & 1.0\\end{matrix}\\right]}$"
          },
          "metadata": {}
        },
        {
          "output_type": "display_data",
          "data": {
            "text/html": [
              "<html>\n",
              "<head><meta charset=\"utf-8\" /></head>\n",
              "<body>\n",
              "    <div>            <script src=\"https://cdnjs.cloudflare.com/ajax/libs/mathjax/2.7.5/MathJax.js?config=TeX-AMS-MML_SVG\"></script><script type=\"text/javascript\">if (window.MathJax && window.MathJax.Hub && window.MathJax.Hub.Config) {window.MathJax.Hub.Config({SVG: {font: \"STIX-Web\"}});}</script>                <script type=\"text/javascript\">window.PlotlyConfig = {MathJaxConfig: 'local'};</script>\n",
              "        <script charset=\"utf-8\" src=\"https://cdn.plot.ly/plotly-2.24.1.min.js\"></script>                <div id=\"989b7be7-b175-49cb-b109-0b4cf8a39c65\" class=\"plotly-graph-div\" style=\"height:800px; width:800px;\"></div>            <script type=\"text/javascript\">                                    window.PLOTLYENV=window.PLOTLYENV || {};                                    if (document.getElementById(\"989b7be7-b175-49cb-b109-0b4cf8a39c65\")) {                    Plotly.newPlot(                        \"989b7be7-b175-49cb-b109-0b4cf8a39c65\",                        [{\"hovertemplate\":\"G=G0\\u003cbr\\u003eX=%{x}\\u003cbr\\u003eY=%{y}\\u003cbr\\u003eZ=%{z}\\u003cextra\\u003e\\u003c\\u002fextra\\u003e\",\"legendgroup\":\"\",\"line\":{\"color\":\"#636efa\",\"dash\":\"solid\"},\"marker\":{\"symbol\":\"circle\"},\"mode\":\"lines\",\"name\":\"\",\"scene\":\"scene\",\"showlegend\":false,\"x\":[0.0,0.0,0.0,0.0,0.0],\"y\":[0.0,0.0,1.0,1.0,0.0],\"z\":[0.0,1.0,1.0,0.0,0.0],\"type\":\"scatter3d\"},{\"hovertemplate\":\"G=G1\\u003cbr\\u003eX=%{x}\\u003cbr\\u003eY=%{y}\\u003cbr\\u003eZ=%{z}\\u003cextra\\u003e\\u003c\\u002fextra\\u003e\",\"legendgroup\":\"\",\"line\":{\"color\":\"#636efa\",\"dash\":\"solid\"},\"marker\":{\"symbol\":\"circle\"},\"mode\":\"lines\",\"name\":\"\",\"scene\":\"scene\",\"showlegend\":false,\"x\":[1.0,1.0,1.0,1.0,1.0],\"y\":[0.0,0.0,1.0,1.0,0.0],\"z\":[0.0,1.0,1.0,0.0,0.0],\"type\":\"scatter3d\"},{\"hovertemplate\":\"G=G2\\u003cbr\\u003eX=%{x}\\u003cbr\\u003eY=%{y}\\u003cbr\\u003eZ=%{z}\\u003cextra\\u003e\\u003c\\u002fextra\\u003e\",\"legendgroup\":\"\",\"line\":{\"color\":\"#636efa\",\"dash\":\"solid\"},\"marker\":{\"symbol\":\"circle\"},\"mode\":\"lines\",\"name\":\"\",\"scene\":\"scene\",\"showlegend\":false,\"x\":[0.0,1.0],\"y\":[0.0,0.0],\"z\":[0.0,0.0],\"type\":\"scatter3d\"},{\"hovertemplate\":\"G=G3\\u003cbr\\u003eX=%{x}\\u003cbr\\u003eY=%{y}\\u003cbr\\u003eZ=%{z}\\u003cextra\\u003e\\u003c\\u002fextra\\u003e\",\"legendgroup\":\"\",\"line\":{\"color\":\"#636efa\",\"dash\":\"solid\"},\"marker\":{\"symbol\":\"circle\"},\"mode\":\"lines\",\"name\":\"\",\"scene\":\"scene\",\"showlegend\":false,\"x\":[0.0,1.0],\"y\":[0.0,0.0],\"z\":[1.0,1.0],\"type\":\"scatter3d\"},{\"hovertemplate\":\"G=G4\\u003cbr\\u003eX=%{x}\\u003cbr\\u003eY=%{y}\\u003cbr\\u003eZ=%{z}\\u003cextra\\u003e\\u003c\\u002fextra\\u003e\",\"legendgroup\":\"\",\"line\":{\"color\":\"#636efa\",\"dash\":\"solid\"},\"marker\":{\"symbol\":\"circle\"},\"mode\":\"lines\",\"name\":\"\",\"scene\":\"scene\",\"showlegend\":false,\"x\":[0.0,1.0],\"y\":[1.0,1.0],\"z\":[1.0,1.0],\"type\":\"scatter3d\"},{\"hovertemplate\":\"G=G5\\u003cbr\\u003eX=%{x}\\u003cbr\\u003eY=%{y}\\u003cbr\\u003eZ=%{z}\\u003cextra\\u003e\\u003c\\u002fextra\\u003e\",\"legendgroup\":\"\",\"line\":{\"color\":\"#636efa\",\"dash\":\"solid\"},\"marker\":{\"symbol\":\"circle\"},\"mode\":\"lines\",\"name\":\"\",\"scene\":\"scene\",\"showlegend\":false,\"x\":[0.0,1.0],\"y\":[1.0,1.0],\"z\":[0.0,0.0],\"type\":\"scatter3d\"},{\"line\":{\"color\":\"red\",\"width\":6},\"mode\":\"lines\",\"showlegend\":false,\"x\":[2.0,2.0,2.0,2.0,2.0],\"y\":[3.0,3.0,4.0,4.0,3.0],\"z\":[2.0,3.0,3.0,2.0,2.0],\"type\":\"scatter3d\"},{\"line\":{\"color\":\"red\",\"width\":6},\"mode\":\"lines\",\"showlegend\":false,\"x\":[3.0,3.0,3.0,3.0,3.0],\"y\":[3.0,3.0,4.0,4.0,3.0],\"z\":[2.0,3.0,3.0,2.0,2.0],\"type\":\"scatter3d\"},{\"line\":{\"color\":\"red\",\"width\":6},\"mode\":\"lines\",\"showlegend\":false,\"x\":[2.0,3.0],\"y\":[3.0,3.0],\"z\":[2.0,2.0],\"type\":\"scatter3d\"},{\"line\":{\"color\":\"red\",\"width\":6},\"mode\":\"lines\",\"showlegend\":false,\"x\":[2.0,3.0],\"y\":[3.0,3.0],\"z\":[3.0,3.0],\"type\":\"scatter3d\"},{\"line\":{\"color\":\"red\",\"width\":6},\"mode\":\"lines\",\"showlegend\":false,\"x\":[2.0,3.0],\"y\":[4.0,4.0],\"z\":[3.0,3.0],\"type\":\"scatter3d\"},{\"line\":{\"color\":\"red\",\"width\":6},\"mode\":\"lines\",\"showlegend\":false,\"x\":[2.0,3.0],\"y\":[4.0,4.0],\"z\":[2.0,2.0],\"type\":\"scatter3d\"}],                        {\"template\":{\"data\":{\"histogram2dcontour\":[{\"type\":\"histogram2dcontour\",\"colorbar\":{\"outlinewidth\":0,\"ticks\":\"\"},\"colorscale\":[[0.0,\"#0d0887\"],[0.1111111111111111,\"#46039f\"],[0.2222222222222222,\"#7201a8\"],[0.3333333333333333,\"#9c179e\"],[0.4444444444444444,\"#bd3786\"],[0.5555555555555556,\"#d8576b\"],[0.6666666666666666,\"#ed7953\"],[0.7777777777777778,\"#fb9f3a\"],[0.8888888888888888,\"#fdca26\"],[1.0,\"#f0f921\"]]}],\"choropleth\":[{\"type\":\"choropleth\",\"colorbar\":{\"outlinewidth\":0,\"ticks\":\"\"}}],\"histogram2d\":[{\"type\":\"histogram2d\",\"colorbar\":{\"outlinewidth\":0,\"ticks\":\"\"},\"colorscale\":[[0.0,\"#0d0887\"],[0.1111111111111111,\"#46039f\"],[0.2222222222222222,\"#7201a8\"],[0.3333333333333333,\"#9c179e\"],[0.4444444444444444,\"#bd3786\"],[0.5555555555555556,\"#d8576b\"],[0.6666666666666666,\"#ed7953\"],[0.7777777777777778,\"#fb9f3a\"],[0.8888888888888888,\"#fdca26\"],[1.0,\"#f0f921\"]]}],\"heatmap\":[{\"type\":\"heatmap\",\"colorbar\":{\"outlinewidth\":0,\"ticks\":\"\"},\"colorscale\":[[0.0,\"#0d0887\"],[0.1111111111111111,\"#46039f\"],[0.2222222222222222,\"#7201a8\"],[0.3333333333333333,\"#9c179e\"],[0.4444444444444444,\"#bd3786\"],[0.5555555555555556,\"#d8576b\"],[0.6666666666666666,\"#ed7953\"],[0.7777777777777778,\"#fb9f3a\"],[0.8888888888888888,\"#fdca26\"],[1.0,\"#f0f921\"]]}],\"heatmapgl\":[{\"type\":\"heatmapgl\",\"colorbar\":{\"outlinewidth\":0,\"ticks\":\"\"},\"colorscale\":[[0.0,\"#0d0887\"],[0.1111111111111111,\"#46039f\"],[0.2222222222222222,\"#7201a8\"],[0.3333333333333333,\"#9c179e\"],[0.4444444444444444,\"#bd3786\"],[0.5555555555555556,\"#d8576b\"],[0.6666666666666666,\"#ed7953\"],[0.7777777777777778,\"#fb9f3a\"],[0.8888888888888888,\"#fdca26\"],[1.0,\"#f0f921\"]]}],\"contourcarpet\":[{\"type\":\"contourcarpet\",\"colorbar\":{\"outlinewidth\":0,\"ticks\":\"\"}}],\"contour\":[{\"type\":\"contour\",\"colorbar\":{\"outlinewidth\":0,\"ticks\":\"\"},\"colorscale\":[[0.0,\"#0d0887\"],[0.1111111111111111,\"#46039f\"],[0.2222222222222222,\"#7201a8\"],[0.3333333333333333,\"#9c179e\"],[0.4444444444444444,\"#bd3786\"],[0.5555555555555556,\"#d8576b\"],[0.6666666666666666,\"#ed7953\"],[0.7777777777777778,\"#fb9f3a\"],[0.8888888888888888,\"#fdca26\"],[1.0,\"#f0f921\"]]}],\"surface\":[{\"type\":\"surface\",\"colorbar\":{\"outlinewidth\":0,\"ticks\":\"\"},\"colorscale\":[[0.0,\"#0d0887\"],[0.1111111111111111,\"#46039f\"],[0.2222222222222222,\"#7201a8\"],[0.3333333333333333,\"#9c179e\"],[0.4444444444444444,\"#bd3786\"],[0.5555555555555556,\"#d8576b\"],[0.6666666666666666,\"#ed7953\"],[0.7777777777777778,\"#fb9f3a\"],[0.8888888888888888,\"#fdca26\"],[1.0,\"#f0f921\"]]}],\"mesh3d\":[{\"type\":\"mesh3d\",\"colorbar\":{\"outlinewidth\":0,\"ticks\":\"\"}}],\"scatter\":[{\"fillpattern\":{\"fillmode\":\"overlay\",\"size\":10,\"solidity\":0.2},\"type\":\"scatter\"}],\"parcoords\":[{\"type\":\"parcoords\",\"line\":{\"colorbar\":{\"outlinewidth\":0,\"ticks\":\"\"}}}],\"scatterpolargl\":[{\"type\":\"scatterpolargl\",\"marker\":{\"colorbar\":{\"outlinewidth\":0,\"ticks\":\"\"}}}],\"bar\":[{\"error_x\":{\"color\":\"#2a3f5f\"},\"error_y\":{\"color\":\"#2a3f5f\"},\"marker\":{\"line\":{\"color\":\"#E5ECF6\",\"width\":0.5},\"pattern\":{\"fillmode\":\"overlay\",\"size\":10,\"solidity\":0.2}},\"type\":\"bar\"}],\"scattergeo\":[{\"type\":\"scattergeo\",\"marker\":{\"colorbar\":{\"outlinewidth\":0,\"ticks\":\"\"}}}],\"scatterpolar\":[{\"type\":\"scatterpolar\",\"marker\":{\"colorbar\":{\"outlinewidth\":0,\"ticks\":\"\"}}}],\"histogram\":[{\"marker\":{\"pattern\":{\"fillmode\":\"overlay\",\"size\":10,\"solidity\":0.2}},\"type\":\"histogram\"}],\"scattergl\":[{\"type\":\"scattergl\",\"marker\":{\"colorbar\":{\"outlinewidth\":0,\"ticks\":\"\"}}}],\"scatter3d\":[{\"type\":\"scatter3d\",\"line\":{\"colorbar\":{\"outlinewidth\":0,\"ticks\":\"\"}},\"marker\":{\"colorbar\":{\"outlinewidth\":0,\"ticks\":\"\"}}}],\"scattermapbox\":[{\"type\":\"scattermapbox\",\"marker\":{\"colorbar\":{\"outlinewidth\":0,\"ticks\":\"\"}}}],\"scatterternary\":[{\"type\":\"scatterternary\",\"marker\":{\"colorbar\":{\"outlinewidth\":0,\"ticks\":\"\"}}}],\"scattercarpet\":[{\"type\":\"scattercarpet\",\"marker\":{\"colorbar\":{\"outlinewidth\":0,\"ticks\":\"\"}}}],\"carpet\":[{\"aaxis\":{\"endlinecolor\":\"#2a3f5f\",\"gridcolor\":\"white\",\"linecolor\":\"white\",\"minorgridcolor\":\"white\",\"startlinecolor\":\"#2a3f5f\"},\"baxis\":{\"endlinecolor\":\"#2a3f5f\",\"gridcolor\":\"white\",\"linecolor\":\"white\",\"minorgridcolor\":\"white\",\"startlinecolor\":\"#2a3f5f\"},\"type\":\"carpet\"}],\"table\":[{\"cells\":{\"fill\":{\"color\":\"#EBF0F8\"},\"line\":{\"color\":\"white\"}},\"header\":{\"fill\":{\"color\":\"#C8D4E3\"},\"line\":{\"color\":\"white\"}},\"type\":\"table\"}],\"barpolar\":[{\"marker\":{\"line\":{\"color\":\"#E5ECF6\",\"width\":0.5},\"pattern\":{\"fillmode\":\"overlay\",\"size\":10,\"solidity\":0.2}},\"type\":\"barpolar\"}],\"pie\":[{\"automargin\":true,\"type\":\"pie\"}]},\"layout\":{\"autotypenumbers\":\"strict\",\"colorway\":[\"#636efa\",\"#EF553B\",\"#00cc96\",\"#ab63fa\",\"#FFA15A\",\"#19d3f3\",\"#FF6692\",\"#B6E880\",\"#FF97FF\",\"#FECB52\"],\"font\":{\"color\":\"#2a3f5f\"},\"hovermode\":\"closest\",\"hoverlabel\":{\"align\":\"left\"},\"paper_bgcolor\":\"white\",\"plot_bgcolor\":\"#E5ECF6\",\"polar\":{\"bgcolor\":\"#E5ECF6\",\"angularaxis\":{\"gridcolor\":\"white\",\"linecolor\":\"white\",\"ticks\":\"\"},\"radialaxis\":{\"gridcolor\":\"white\",\"linecolor\":\"white\",\"ticks\":\"\"}},\"ternary\":{\"bgcolor\":\"#E5ECF6\",\"aaxis\":{\"gridcolor\":\"white\",\"linecolor\":\"white\",\"ticks\":\"\"},\"baxis\":{\"gridcolor\":\"white\",\"linecolor\":\"white\",\"ticks\":\"\"},\"caxis\":{\"gridcolor\":\"white\",\"linecolor\":\"white\",\"ticks\":\"\"}},\"coloraxis\":{\"colorbar\":{\"outlinewidth\":0,\"ticks\":\"\"}},\"colorscale\":{\"sequential\":[[0.0,\"#0d0887\"],[0.1111111111111111,\"#46039f\"],[0.2222222222222222,\"#7201a8\"],[0.3333333333333333,\"#9c179e\"],[0.4444444444444444,\"#bd3786\"],[0.5555555555555556,\"#d8576b\"],[0.6666666666666666,\"#ed7953\"],[0.7777777777777778,\"#fb9f3a\"],[0.8888888888888888,\"#fdca26\"],[1.0,\"#f0f921\"]],\"sequentialminus\":[[0.0,\"#0d0887\"],[0.1111111111111111,\"#46039f\"],[0.2222222222222222,\"#7201a8\"],[0.3333333333333333,\"#9c179e\"],[0.4444444444444444,\"#bd3786\"],[0.5555555555555556,\"#d8576b\"],[0.6666666666666666,\"#ed7953\"],[0.7777777777777778,\"#fb9f3a\"],[0.8888888888888888,\"#fdca26\"],[1.0,\"#f0f921\"]],\"diverging\":[[0,\"#8e0152\"],[0.1,\"#c51b7d\"],[0.2,\"#de77ae\"],[0.3,\"#f1b6da\"],[0.4,\"#fde0ef\"],[0.5,\"#f7f7f7\"],[0.6,\"#e6f5d0\"],[0.7,\"#b8e186\"],[0.8,\"#7fbc41\"],[0.9,\"#4d9221\"],[1,\"#276419\"]]},\"xaxis\":{\"gridcolor\":\"white\",\"linecolor\":\"white\",\"ticks\":\"\",\"title\":{\"standoff\":15},\"zerolinecolor\":\"white\",\"automargin\":true,\"zerolinewidth\":2},\"yaxis\":{\"gridcolor\":\"white\",\"linecolor\":\"white\",\"ticks\":\"\",\"title\":{\"standoff\":15},\"zerolinecolor\":\"white\",\"automargin\":true,\"zerolinewidth\":2},\"scene\":{\"xaxis\":{\"backgroundcolor\":\"#E5ECF6\",\"gridcolor\":\"white\",\"linecolor\":\"white\",\"showbackground\":true,\"ticks\":\"\",\"zerolinecolor\":\"white\",\"gridwidth\":2},\"yaxis\":{\"backgroundcolor\":\"#E5ECF6\",\"gridcolor\":\"white\",\"linecolor\":\"white\",\"showbackground\":true,\"ticks\":\"\",\"zerolinecolor\":\"white\",\"gridwidth\":2},\"zaxis\":{\"backgroundcolor\":\"#E5ECF6\",\"gridcolor\":\"white\",\"linecolor\":\"white\",\"showbackground\":true,\"ticks\":\"\",\"zerolinecolor\":\"white\",\"gridwidth\":2}},\"shapedefaults\":{\"line\":{\"color\":\"#2a3f5f\"}},\"annotationdefaults\":{\"arrowcolor\":\"#2a3f5f\",\"arrowhead\":0,\"arrowwidth\":1},\"geo\":{\"bgcolor\":\"white\",\"landcolor\":\"#E5ECF6\",\"subunitcolor\":\"white\",\"showland\":true,\"showlakes\":true,\"lakecolor\":\"white\"},\"title\":{\"x\":0.05},\"mapbox\":{\"style\":\"light\"}}},\"scene\":{\"domain\":{\"x\":[0.0,1.0],\"y\":[0.0,1.0]},\"xaxis\":{\"title\":{\"text\":\"X\"}},\"yaxis\":{\"title\":{\"text\":\"Y\"}},\"zaxis\":{\"title\":{\"text\":\"Z\"}}},\"legend\":{\"tracegroupgap\":0},\"margin\":{\"t\":60},\"height\":800,\"width\":800},                        {\"responsive\": true}                    ).then(function(){\n",
              "                            \n",
              "var gd = document.getElementById('989b7be7-b175-49cb-b109-0b4cf8a39c65');\n",
              "var x = new MutationObserver(function (mutations, observer) {{\n",
              "        var display = window.getComputedStyle(gd).display;\n",
              "        if (!display || display === 'none') {{\n",
              "            console.log([gd, 'removed!']);\n",
              "            Plotly.purge(gd);\n",
              "            observer.disconnect();\n",
              "        }}\n",
              "}});\n",
              "\n",
              "// Listen for the removal of the full notebook cells\n",
              "var notebookContainer = gd.closest('#notebook-container');\n",
              "if (notebookContainer) {{\n",
              "    x.observe(notebookContainer, {childList: true});\n",
              "}}\n",
              "\n",
              "// Listen for the clearing of the current output cell\n",
              "var outputEl = gd.closest('.output');\n",
              "if (outputEl) {{\n",
              "    x.observe(outputEl, {childList: true});\n",
              "}}\n",
              "\n",
              "                        })                };                            </script>        </div>\n",
              "</body>\n",
              "</html>"
            ]
          },
          "metadata": {}
        }
      ]
    },
    {
      "cell_type": "code",
      "source": [
        "# @title $Shearing$ { run: \"auto\", form-width: \"20%\" }\n",
        "direction = \"y-axis\" # @param [\"x-axis\", \"y-axis\", \"z-axis\"]\n",
        "\n",
        "SH = np.eye(4)\n",
        "if(direction == \"x-axis\"):\n",
        "    Sy = float(input('Sy = '))\n",
        "    Sz = float(input('Sz = '))\n",
        "    SH[0,1]=Sy\n",
        "    SH[0,2]=Sz\n",
        "    ext = r'{S_{x}'\n",
        "elif(direction == \"y-axis\"):\n",
        "    Sx = float(input('Sx = '))\n",
        "    Sz = float(input('Sz = '))\n",
        "    SH[1,0]=Sx\n",
        "    SH[1,2]=Sz\n",
        "    ext = r'{S_{y}'\n",
        "elif(direction == \"z-axis\"):\n",
        "    Sx = float(input('Sx = '))\n",
        "    Sy = float(input('Sy = '))\n",
        "    SH[2,0]=Sx\n",
        "    SH[2,1]=Sy\n",
        "    ext = r'{S_{z}'\n",
        "\n",
        "print()\n",
        "display(Math(ext +r'=' + sp.latex(sp.Matrix(np.round(SH,4))) + r' \\ \\ , \\ \\ \\hat{A}='+sp.latex(sp.Matrix(A1)) +r'}'))\n",
        "print()\n",
        "\n",
        "#Plot Original Image\n",
        "df1 = plot3D(A1,n)\n",
        "fig = px.line_3d(df1, x='X', y='Y', z='Z', line_group = 'G',width=800, height=800)\n",
        "\n",
        "#Plot Transformed Image\n",
        "SHA1 = SH@A1\n",
        "display(Math(ext + r'\\hat{A} = ' + sp.latex(sp.Matrix(np.round(SHA1,4)))+r'}'))\n",
        "df2 = plot3D(SHA1,n)\n",
        "fig.add_scatter3d(x=df2['X'][0:n+1], y=df2['Y'][0:n+1], z=df2['Z'][0:n+1], mode='lines', line_width=6, line_color='red',showlegend=False)\n",
        "fig.add_scatter3d(x=df2['X'][n+1:2*n+2], y=df2['Y'][n+1:2*n+2], z=df2['Z'][n+1:2*n+2], mode='lines', line_width=6, line_color='red',showlegend=False)\n",
        "for i in range(n):\n",
        "    fig.add_scatter3d(x=df2['X'][2*(n+i)+2:2*(n+i)+4], y=df2['Y'][2*(n+i)+2:2*(n+i)+4], z=df2['Z'][2*(n+i)+2:2*(n+i)+4], mode='lines', line_width=6, line_color='red',showlegend=False)\n",
        "\n",
        "#fig.update_scenes(aspectmode='data')\n",
        "fig.show()"
      ],
      "metadata": {
        "colab": {
          "base_uri": "https://localhost:8080/",
          "height": 1000
        },
        "id": "3g3vBQujZGiK",
        "outputId": "4e3aa71d-210c-40fb-e2ec-8c024258fcd3",
        "cellView": "form"
      },
      "execution_count": null,
      "outputs": [
        {
          "output_type": "stream",
          "name": "stdout",
          "text": [
            "Sx = 1\n",
            "Sz = 1\n",
            "\n"
          ]
        },
        {
          "output_type": "display_data",
          "data": {
            "text/plain": [
              "<IPython.core.display.Math object>"
            ],
            "text/latex": "$\\displaystyle {S_{y}=\\left[\\begin{matrix}1.0 & 0 & 0 & 0\\\\1.0 & 1.0 & 1.0 & 0\\\\0 & 0 & 1.0 & 0\\\\0 & 0 & 0 & 1.0\\end{matrix}\\right] \\ \\ , \\ \\ \\hat{A}=\\left[\\begin{matrix}0 & 0 & 0 & 0 & 1 & 1 & 1 & 1 & 0\\\\0 & 0 & 1 & 1 & 0 & 0 & 1 & 1 & 0\\\\0 & 1 & 1 & 0 & 0 & 1 & 1 & 0 & 0\\\\1 & 1 & 1 & 1 & 1 & 1 & 1 & 1 & 1\\end{matrix}\\right]}$"
          },
          "metadata": {}
        },
        {
          "output_type": "stream",
          "name": "stdout",
          "text": [
            "\n"
          ]
        },
        {
          "output_type": "display_data",
          "data": {
            "text/plain": [
              "<IPython.core.display.Math object>"
            ],
            "text/latex": "$\\displaystyle {S_{y}\\hat{A} = \\left[\\begin{matrix}0 & 0 & 0 & 0 & 1.0 & 1.0 & 1.0 & 1.0 & 0\\\\0 & 1.0 & 2.0 & 1.0 & 1.0 & 2.0 & 3.0 & 2.0 & 0\\\\0 & 1.0 & 1.0 & 0 & 0 & 1.0 & 1.0 & 0 & 0\\\\1.0 & 1.0 & 1.0 & 1.0 & 1.0 & 1.0 & 1.0 & 1.0 & 1.0\\end{matrix}\\right]}$"
          },
          "metadata": {}
        },
        {
          "output_type": "display_data",
          "data": {
            "text/html": [
              "<html>\n",
              "<head><meta charset=\"utf-8\" /></head>\n",
              "<body>\n",
              "    <div>            <script src=\"https://cdnjs.cloudflare.com/ajax/libs/mathjax/2.7.5/MathJax.js?config=TeX-AMS-MML_SVG\"></script><script type=\"text/javascript\">if (window.MathJax && window.MathJax.Hub && window.MathJax.Hub.Config) {window.MathJax.Hub.Config({SVG: {font: \"STIX-Web\"}});}</script>                <script type=\"text/javascript\">window.PlotlyConfig = {MathJaxConfig: 'local'};</script>\n",
              "        <script charset=\"utf-8\" src=\"https://cdn.plot.ly/plotly-2.24.1.min.js\"></script>                <div id=\"c3bec921-55a7-40fb-9528-8a783aca3b8a\" class=\"plotly-graph-div\" style=\"height:800px; width:800px;\"></div>            <script type=\"text/javascript\">                                    window.PLOTLYENV=window.PLOTLYENV || {};                                    if (document.getElementById(\"c3bec921-55a7-40fb-9528-8a783aca3b8a\")) {                    Plotly.newPlot(                        \"c3bec921-55a7-40fb-9528-8a783aca3b8a\",                        [{\"hovertemplate\":\"G=G0\\u003cbr\\u003eX=%{x}\\u003cbr\\u003eY=%{y}\\u003cbr\\u003eZ=%{z}\\u003cextra\\u003e\\u003c\\u002fextra\\u003e\",\"legendgroup\":\"\",\"line\":{\"color\":\"#636efa\",\"dash\":\"solid\"},\"marker\":{\"symbol\":\"circle\"},\"mode\":\"lines\",\"name\":\"\",\"scene\":\"scene\",\"showlegend\":false,\"x\":[0.0,0.0,0.0,0.0,0.0],\"y\":[0.0,0.0,1.0,1.0,0.0],\"z\":[0.0,1.0,1.0,0.0,0.0],\"type\":\"scatter3d\"},{\"hovertemplate\":\"G=G1\\u003cbr\\u003eX=%{x}\\u003cbr\\u003eY=%{y}\\u003cbr\\u003eZ=%{z}\\u003cextra\\u003e\\u003c\\u002fextra\\u003e\",\"legendgroup\":\"\",\"line\":{\"color\":\"#636efa\",\"dash\":\"solid\"},\"marker\":{\"symbol\":\"circle\"},\"mode\":\"lines\",\"name\":\"\",\"scene\":\"scene\",\"showlegend\":false,\"x\":[1.0,1.0,1.0,1.0,1.0],\"y\":[0.0,0.0,1.0,1.0,0.0],\"z\":[0.0,1.0,1.0,0.0,0.0],\"type\":\"scatter3d\"},{\"hovertemplate\":\"G=G2\\u003cbr\\u003eX=%{x}\\u003cbr\\u003eY=%{y}\\u003cbr\\u003eZ=%{z}\\u003cextra\\u003e\\u003c\\u002fextra\\u003e\",\"legendgroup\":\"\",\"line\":{\"color\":\"#636efa\",\"dash\":\"solid\"},\"marker\":{\"symbol\":\"circle\"},\"mode\":\"lines\",\"name\":\"\",\"scene\":\"scene\",\"showlegend\":false,\"x\":[0.0,1.0],\"y\":[0.0,0.0],\"z\":[0.0,0.0],\"type\":\"scatter3d\"},{\"hovertemplate\":\"G=G3\\u003cbr\\u003eX=%{x}\\u003cbr\\u003eY=%{y}\\u003cbr\\u003eZ=%{z}\\u003cextra\\u003e\\u003c\\u002fextra\\u003e\",\"legendgroup\":\"\",\"line\":{\"color\":\"#636efa\",\"dash\":\"solid\"},\"marker\":{\"symbol\":\"circle\"},\"mode\":\"lines\",\"name\":\"\",\"scene\":\"scene\",\"showlegend\":false,\"x\":[0.0,1.0],\"y\":[0.0,0.0],\"z\":[1.0,1.0],\"type\":\"scatter3d\"},{\"hovertemplate\":\"G=G4\\u003cbr\\u003eX=%{x}\\u003cbr\\u003eY=%{y}\\u003cbr\\u003eZ=%{z}\\u003cextra\\u003e\\u003c\\u002fextra\\u003e\",\"legendgroup\":\"\",\"line\":{\"color\":\"#636efa\",\"dash\":\"solid\"},\"marker\":{\"symbol\":\"circle\"},\"mode\":\"lines\",\"name\":\"\",\"scene\":\"scene\",\"showlegend\":false,\"x\":[0.0,1.0],\"y\":[1.0,1.0],\"z\":[1.0,1.0],\"type\":\"scatter3d\"},{\"hovertemplate\":\"G=G5\\u003cbr\\u003eX=%{x}\\u003cbr\\u003eY=%{y}\\u003cbr\\u003eZ=%{z}\\u003cextra\\u003e\\u003c\\u002fextra\\u003e\",\"legendgroup\":\"\",\"line\":{\"color\":\"#636efa\",\"dash\":\"solid\"},\"marker\":{\"symbol\":\"circle\"},\"mode\":\"lines\",\"name\":\"\",\"scene\":\"scene\",\"showlegend\":false,\"x\":[0.0,1.0],\"y\":[1.0,1.0],\"z\":[0.0,0.0],\"type\":\"scatter3d\"},{\"line\":{\"color\":\"red\",\"width\":6},\"mode\":\"lines\",\"showlegend\":false,\"x\":[0.0,0.0,0.0,0.0,0.0],\"y\":[0.0,1.0,2.0,1.0,0.0],\"z\":[0.0,1.0,1.0,0.0,0.0],\"type\":\"scatter3d\"},{\"line\":{\"color\":\"red\",\"width\":6},\"mode\":\"lines\",\"showlegend\":false,\"x\":[1.0,1.0,1.0,1.0,1.0],\"y\":[1.0,2.0,3.0,2.0,1.0],\"z\":[0.0,1.0,1.0,0.0,0.0],\"type\":\"scatter3d\"},{\"line\":{\"color\":\"red\",\"width\":6},\"mode\":\"lines\",\"showlegend\":false,\"x\":[0.0,1.0],\"y\":[0.0,1.0],\"z\":[0.0,0.0],\"type\":\"scatter3d\"},{\"line\":{\"color\":\"red\",\"width\":6},\"mode\":\"lines\",\"showlegend\":false,\"x\":[0.0,1.0],\"y\":[1.0,2.0],\"z\":[1.0,1.0],\"type\":\"scatter3d\"},{\"line\":{\"color\":\"red\",\"width\":6},\"mode\":\"lines\",\"showlegend\":false,\"x\":[0.0,1.0],\"y\":[2.0,3.0],\"z\":[1.0,1.0],\"type\":\"scatter3d\"},{\"line\":{\"color\":\"red\",\"width\":6},\"mode\":\"lines\",\"showlegend\":false,\"x\":[0.0,1.0],\"y\":[1.0,2.0],\"z\":[0.0,0.0],\"type\":\"scatter3d\"}],                        {\"template\":{\"data\":{\"histogram2dcontour\":[{\"type\":\"histogram2dcontour\",\"colorbar\":{\"outlinewidth\":0,\"ticks\":\"\"},\"colorscale\":[[0.0,\"#0d0887\"],[0.1111111111111111,\"#46039f\"],[0.2222222222222222,\"#7201a8\"],[0.3333333333333333,\"#9c179e\"],[0.4444444444444444,\"#bd3786\"],[0.5555555555555556,\"#d8576b\"],[0.6666666666666666,\"#ed7953\"],[0.7777777777777778,\"#fb9f3a\"],[0.8888888888888888,\"#fdca26\"],[1.0,\"#f0f921\"]]}],\"choropleth\":[{\"type\":\"choropleth\",\"colorbar\":{\"outlinewidth\":0,\"ticks\":\"\"}}],\"histogram2d\":[{\"type\":\"histogram2d\",\"colorbar\":{\"outlinewidth\":0,\"ticks\":\"\"},\"colorscale\":[[0.0,\"#0d0887\"],[0.1111111111111111,\"#46039f\"],[0.2222222222222222,\"#7201a8\"],[0.3333333333333333,\"#9c179e\"],[0.4444444444444444,\"#bd3786\"],[0.5555555555555556,\"#d8576b\"],[0.6666666666666666,\"#ed7953\"],[0.7777777777777778,\"#fb9f3a\"],[0.8888888888888888,\"#fdca26\"],[1.0,\"#f0f921\"]]}],\"heatmap\":[{\"type\":\"heatmap\",\"colorbar\":{\"outlinewidth\":0,\"ticks\":\"\"},\"colorscale\":[[0.0,\"#0d0887\"],[0.1111111111111111,\"#46039f\"],[0.2222222222222222,\"#7201a8\"],[0.3333333333333333,\"#9c179e\"],[0.4444444444444444,\"#bd3786\"],[0.5555555555555556,\"#d8576b\"],[0.6666666666666666,\"#ed7953\"],[0.7777777777777778,\"#fb9f3a\"],[0.8888888888888888,\"#fdca26\"],[1.0,\"#f0f921\"]]}],\"heatmapgl\":[{\"type\":\"heatmapgl\",\"colorbar\":{\"outlinewidth\":0,\"ticks\":\"\"},\"colorscale\":[[0.0,\"#0d0887\"],[0.1111111111111111,\"#46039f\"],[0.2222222222222222,\"#7201a8\"],[0.3333333333333333,\"#9c179e\"],[0.4444444444444444,\"#bd3786\"],[0.5555555555555556,\"#d8576b\"],[0.6666666666666666,\"#ed7953\"],[0.7777777777777778,\"#fb9f3a\"],[0.8888888888888888,\"#fdca26\"],[1.0,\"#f0f921\"]]}],\"contourcarpet\":[{\"type\":\"contourcarpet\",\"colorbar\":{\"outlinewidth\":0,\"ticks\":\"\"}}],\"contour\":[{\"type\":\"contour\",\"colorbar\":{\"outlinewidth\":0,\"ticks\":\"\"},\"colorscale\":[[0.0,\"#0d0887\"],[0.1111111111111111,\"#46039f\"],[0.2222222222222222,\"#7201a8\"],[0.3333333333333333,\"#9c179e\"],[0.4444444444444444,\"#bd3786\"],[0.5555555555555556,\"#d8576b\"],[0.6666666666666666,\"#ed7953\"],[0.7777777777777778,\"#fb9f3a\"],[0.8888888888888888,\"#fdca26\"],[1.0,\"#f0f921\"]]}],\"surface\":[{\"type\":\"surface\",\"colorbar\":{\"outlinewidth\":0,\"ticks\":\"\"},\"colorscale\":[[0.0,\"#0d0887\"],[0.1111111111111111,\"#46039f\"],[0.2222222222222222,\"#7201a8\"],[0.3333333333333333,\"#9c179e\"],[0.4444444444444444,\"#bd3786\"],[0.5555555555555556,\"#d8576b\"],[0.6666666666666666,\"#ed7953\"],[0.7777777777777778,\"#fb9f3a\"],[0.8888888888888888,\"#fdca26\"],[1.0,\"#f0f921\"]]}],\"mesh3d\":[{\"type\":\"mesh3d\",\"colorbar\":{\"outlinewidth\":0,\"ticks\":\"\"}}],\"scatter\":[{\"fillpattern\":{\"fillmode\":\"overlay\",\"size\":10,\"solidity\":0.2},\"type\":\"scatter\"}],\"parcoords\":[{\"type\":\"parcoords\",\"line\":{\"colorbar\":{\"outlinewidth\":0,\"ticks\":\"\"}}}],\"scatterpolargl\":[{\"type\":\"scatterpolargl\",\"marker\":{\"colorbar\":{\"outlinewidth\":0,\"ticks\":\"\"}}}],\"bar\":[{\"error_x\":{\"color\":\"#2a3f5f\"},\"error_y\":{\"color\":\"#2a3f5f\"},\"marker\":{\"line\":{\"color\":\"#E5ECF6\",\"width\":0.5},\"pattern\":{\"fillmode\":\"overlay\",\"size\":10,\"solidity\":0.2}},\"type\":\"bar\"}],\"scattergeo\":[{\"type\":\"scattergeo\",\"marker\":{\"colorbar\":{\"outlinewidth\":0,\"ticks\":\"\"}}}],\"scatterpolar\":[{\"type\":\"scatterpolar\",\"marker\":{\"colorbar\":{\"outlinewidth\":0,\"ticks\":\"\"}}}],\"histogram\":[{\"marker\":{\"pattern\":{\"fillmode\":\"overlay\",\"size\":10,\"solidity\":0.2}},\"type\":\"histogram\"}],\"scattergl\":[{\"type\":\"scattergl\",\"marker\":{\"colorbar\":{\"outlinewidth\":0,\"ticks\":\"\"}}}],\"scatter3d\":[{\"type\":\"scatter3d\",\"line\":{\"colorbar\":{\"outlinewidth\":0,\"ticks\":\"\"}},\"marker\":{\"colorbar\":{\"outlinewidth\":0,\"ticks\":\"\"}}}],\"scattermapbox\":[{\"type\":\"scattermapbox\",\"marker\":{\"colorbar\":{\"outlinewidth\":0,\"ticks\":\"\"}}}],\"scatterternary\":[{\"type\":\"scatterternary\",\"marker\":{\"colorbar\":{\"outlinewidth\":0,\"ticks\":\"\"}}}],\"scattercarpet\":[{\"type\":\"scattercarpet\",\"marker\":{\"colorbar\":{\"outlinewidth\":0,\"ticks\":\"\"}}}],\"carpet\":[{\"aaxis\":{\"endlinecolor\":\"#2a3f5f\",\"gridcolor\":\"white\",\"linecolor\":\"white\",\"minorgridcolor\":\"white\",\"startlinecolor\":\"#2a3f5f\"},\"baxis\":{\"endlinecolor\":\"#2a3f5f\",\"gridcolor\":\"white\",\"linecolor\":\"white\",\"minorgridcolor\":\"white\",\"startlinecolor\":\"#2a3f5f\"},\"type\":\"carpet\"}],\"table\":[{\"cells\":{\"fill\":{\"color\":\"#EBF0F8\"},\"line\":{\"color\":\"white\"}},\"header\":{\"fill\":{\"color\":\"#C8D4E3\"},\"line\":{\"color\":\"white\"}},\"type\":\"table\"}],\"barpolar\":[{\"marker\":{\"line\":{\"color\":\"#E5ECF6\",\"width\":0.5},\"pattern\":{\"fillmode\":\"overlay\",\"size\":10,\"solidity\":0.2}},\"type\":\"barpolar\"}],\"pie\":[{\"automargin\":true,\"type\":\"pie\"}]},\"layout\":{\"autotypenumbers\":\"strict\",\"colorway\":[\"#636efa\",\"#EF553B\",\"#00cc96\",\"#ab63fa\",\"#FFA15A\",\"#19d3f3\",\"#FF6692\",\"#B6E880\",\"#FF97FF\",\"#FECB52\"],\"font\":{\"color\":\"#2a3f5f\"},\"hovermode\":\"closest\",\"hoverlabel\":{\"align\":\"left\"},\"paper_bgcolor\":\"white\",\"plot_bgcolor\":\"#E5ECF6\",\"polar\":{\"bgcolor\":\"#E5ECF6\",\"angularaxis\":{\"gridcolor\":\"white\",\"linecolor\":\"white\",\"ticks\":\"\"},\"radialaxis\":{\"gridcolor\":\"white\",\"linecolor\":\"white\",\"ticks\":\"\"}},\"ternary\":{\"bgcolor\":\"#E5ECF6\",\"aaxis\":{\"gridcolor\":\"white\",\"linecolor\":\"white\",\"ticks\":\"\"},\"baxis\":{\"gridcolor\":\"white\",\"linecolor\":\"white\",\"ticks\":\"\"},\"caxis\":{\"gridcolor\":\"white\",\"linecolor\":\"white\",\"ticks\":\"\"}},\"coloraxis\":{\"colorbar\":{\"outlinewidth\":0,\"ticks\":\"\"}},\"colorscale\":{\"sequential\":[[0.0,\"#0d0887\"],[0.1111111111111111,\"#46039f\"],[0.2222222222222222,\"#7201a8\"],[0.3333333333333333,\"#9c179e\"],[0.4444444444444444,\"#bd3786\"],[0.5555555555555556,\"#d8576b\"],[0.6666666666666666,\"#ed7953\"],[0.7777777777777778,\"#fb9f3a\"],[0.8888888888888888,\"#fdca26\"],[1.0,\"#f0f921\"]],\"sequentialminus\":[[0.0,\"#0d0887\"],[0.1111111111111111,\"#46039f\"],[0.2222222222222222,\"#7201a8\"],[0.3333333333333333,\"#9c179e\"],[0.4444444444444444,\"#bd3786\"],[0.5555555555555556,\"#d8576b\"],[0.6666666666666666,\"#ed7953\"],[0.7777777777777778,\"#fb9f3a\"],[0.8888888888888888,\"#fdca26\"],[1.0,\"#f0f921\"]],\"diverging\":[[0,\"#8e0152\"],[0.1,\"#c51b7d\"],[0.2,\"#de77ae\"],[0.3,\"#f1b6da\"],[0.4,\"#fde0ef\"],[0.5,\"#f7f7f7\"],[0.6,\"#e6f5d0\"],[0.7,\"#b8e186\"],[0.8,\"#7fbc41\"],[0.9,\"#4d9221\"],[1,\"#276419\"]]},\"xaxis\":{\"gridcolor\":\"white\",\"linecolor\":\"white\",\"ticks\":\"\",\"title\":{\"standoff\":15},\"zerolinecolor\":\"white\",\"automargin\":true,\"zerolinewidth\":2},\"yaxis\":{\"gridcolor\":\"white\",\"linecolor\":\"white\",\"ticks\":\"\",\"title\":{\"standoff\":15},\"zerolinecolor\":\"white\",\"automargin\":true,\"zerolinewidth\":2},\"scene\":{\"xaxis\":{\"backgroundcolor\":\"#E5ECF6\",\"gridcolor\":\"white\",\"linecolor\":\"white\",\"showbackground\":true,\"ticks\":\"\",\"zerolinecolor\":\"white\",\"gridwidth\":2},\"yaxis\":{\"backgroundcolor\":\"#E5ECF6\",\"gridcolor\":\"white\",\"linecolor\":\"white\",\"showbackground\":true,\"ticks\":\"\",\"zerolinecolor\":\"white\",\"gridwidth\":2},\"zaxis\":{\"backgroundcolor\":\"#E5ECF6\",\"gridcolor\":\"white\",\"linecolor\":\"white\",\"showbackground\":true,\"ticks\":\"\",\"zerolinecolor\":\"white\",\"gridwidth\":2}},\"shapedefaults\":{\"line\":{\"color\":\"#2a3f5f\"}},\"annotationdefaults\":{\"arrowcolor\":\"#2a3f5f\",\"arrowhead\":0,\"arrowwidth\":1},\"geo\":{\"bgcolor\":\"white\",\"landcolor\":\"#E5ECF6\",\"subunitcolor\":\"white\",\"showland\":true,\"showlakes\":true,\"lakecolor\":\"white\"},\"title\":{\"x\":0.05},\"mapbox\":{\"style\":\"light\"}}},\"scene\":{\"domain\":{\"x\":[0.0,1.0],\"y\":[0.0,1.0]},\"xaxis\":{\"title\":{\"text\":\"X\"}},\"yaxis\":{\"title\":{\"text\":\"Y\"}},\"zaxis\":{\"title\":{\"text\":\"Z\"}}},\"legend\":{\"tracegroupgap\":0},\"margin\":{\"t\":60},\"height\":800,\"width\":800},                        {\"responsive\": true}                    ).then(function(){\n",
              "                            \n",
              "var gd = document.getElementById('c3bec921-55a7-40fb-9528-8a783aca3b8a');\n",
              "var x = new MutationObserver(function (mutations, observer) {{\n",
              "        var display = window.getComputedStyle(gd).display;\n",
              "        if (!display || display === 'none') {{\n",
              "            console.log([gd, 'removed!']);\n",
              "            Plotly.purge(gd);\n",
              "            observer.disconnect();\n",
              "        }}\n",
              "}});\n",
              "\n",
              "// Listen for the removal of the full notebook cells\n",
              "var notebookContainer = gd.closest('#notebook-container');\n",
              "if (notebookContainer) {{\n",
              "    x.observe(notebookContainer, {childList: true});\n",
              "}}\n",
              "\n",
              "// Listen for the clearing of the current output cell\n",
              "var outputEl = gd.closest('.output');\n",
              "if (outputEl) {{\n",
              "    x.observe(outputEl, {childList: true});\n",
              "}}\n",
              "\n",
              "                        })                };                            </script>        </div>\n",
              "</body>\n",
              "</html>"
            ]
          },
          "metadata": {}
        }
      ]
    },
    {
      "cell_type": "code",
      "source": [
        "# @title $Reflection$ { form-width: \"20%\" }\n",
        "About = \"yz-plane\" # @param [\"xy-plane\", \"yz-plane\", \"xz-plane\"]\n",
        "\n",
        "Rf = np.eye(4)\n",
        "if(About == 'xy-plane'):\n",
        "    Rf[2,2] = -1\n",
        "    display(Math(r'{R_{xy} = '+sp.latex(sp.Matrix(np.round(Rf,4))) + r' \\ \\ , \\ \\ \\hat{A}='+sp.latex(sp.Matrix(A1)) +r'}'))\n",
        "    ext = r'{R_{xy}'\n",
        "elif(About == 'yz-plane'):\n",
        "    Rf[0,0] = -1\n",
        "    display(Math(r'{R_{yz} = '+sp.latex(sp.Matrix(np.round(Rf,4))) + r' \\ \\ , \\ \\ \\hat{A}='+sp.latex(sp.Matrix(A1)) +r'}'))\n",
        "    ext = r'{R_{yz}'\n",
        "elif(About == 'xz-plane'):\n",
        "    Rf[1,1] = -1\n",
        "    display(Math(r'{R_{xz} = '+sp.latex(sp.Matrix(np.round(Rf,4))) + r' \\ \\ , \\ \\ \\hat{A}='+sp.latex(sp.Matrix(A1)) +r'}'))\n",
        "    ext = r'{R_{xz}'\n",
        "print()\n",
        "\n",
        "#Plot Original Image\n",
        "df1 = plot3D(A1,n)\n",
        "fig = px.line_3d(df1, x='X', y='Y', z='Z', line_group = 'G',width=800, height=800)\n",
        "\n",
        "#Plot Transformed Image\n",
        "RfA1 = Rf@A1\n",
        "display(Math(ext +r'\\hat{A}=' + sp.latex(sp.Matrix(np.round(RfA1,4)))+r'}'))\n",
        "df2 = plot3D(RfA1,n)\n",
        "fig.add_scatter3d(x=df2['X'][0:n+1], y=df2['Y'][0:n+1], z=df2['Z'][0:n+1], mode='lines', line_width=6, line_color='red',showlegend=False)\n",
        "fig.add_scatter3d(x=df2['X'][n+1:2*n+2], y=df2['Y'][n+1:2*n+2], z=df2['Z'][n+1:2*n+2], mode='lines', line_width=6, line_color='red',showlegend=False)\n",
        "for i in range(n):\n",
        "    fig.add_scatter3d(x=df2['X'][2*(n+i)+2:2*(n+i)+4], y=df2['Y'][2*(n+i)+2:2*(n+i)+4], z=df2['Z'][2*(n+i)+2:2*(n+i)+4], mode='lines', line_width=6, line_color='red',showlegend=False)\n",
        "\n",
        "#fig.update_scenes(aspectmode='data')\n",
        "fig.show()"
      ],
      "metadata": {
        "colab": {
          "base_uri": "https://localhost:8080/",
          "height": 997
        },
        "cellView": "form",
        "id": "96LEtq4dZbS-",
        "outputId": "eaa4eb39-08e1-4849-c226-6c83c2658473"
      },
      "execution_count": null,
      "outputs": [
        {
          "output_type": "display_data",
          "data": {
            "text/plain": [
              "<IPython.core.display.Math object>"
            ],
            "text/latex": "$\\displaystyle {R_{yz} = \\left[\\begin{matrix}-1.0 & 0 & 0 & 0\\\\0 & 1.0 & 0 & 0\\\\0 & 0 & 1.0 & 0\\\\0 & 0 & 0 & 1.0\\end{matrix}\\right] \\ \\ , \\ \\ \\hat{A}=\\left[\\begin{matrix}0 & 0 & 0 & 0 & 1 & 1 & 1 & 1 & 0\\\\0 & 0 & 1 & 1 & 0 & 0 & 1 & 1 & 0\\\\0 & 1 & 1 & 0 & 0 & 1 & 1 & 0 & 0\\\\1 & 1 & 1 & 1 & 1 & 1 & 1 & 1 & 1\\end{matrix}\\right]}$"
          },
          "metadata": {}
        },
        {
          "output_type": "stream",
          "name": "stdout",
          "text": [
            "\n"
          ]
        },
        {
          "output_type": "display_data",
          "data": {
            "text/plain": [
              "<IPython.core.display.Math object>"
            ],
            "text/latex": "$\\displaystyle {R_{yz}\\hat{A}=\\left[\\begin{matrix}0 & 0 & 0 & 0 & -1.0 & -1.0 & -1.0 & -1.0 & 0\\\\0 & 0 & 1.0 & 1.0 & 0 & 0 & 1.0 & 1.0 & 0\\\\0 & 1.0 & 1.0 & 0 & 0 & 1.0 & 1.0 & 0 & 0\\\\1.0 & 1.0 & 1.0 & 1.0 & 1.0 & 1.0 & 1.0 & 1.0 & 1.0\\end{matrix}\\right]}$"
          },
          "metadata": {}
        },
        {
          "output_type": "display_data",
          "data": {
            "text/html": [
              "<html>\n",
              "<head><meta charset=\"utf-8\" /></head>\n",
              "<body>\n",
              "    <div>            <script src=\"https://cdnjs.cloudflare.com/ajax/libs/mathjax/2.7.5/MathJax.js?config=TeX-AMS-MML_SVG\"></script><script type=\"text/javascript\">if (window.MathJax && window.MathJax.Hub && window.MathJax.Hub.Config) {window.MathJax.Hub.Config({SVG: {font: \"STIX-Web\"}});}</script>                <script type=\"text/javascript\">window.PlotlyConfig = {MathJaxConfig: 'local'};</script>\n",
              "        <script charset=\"utf-8\" src=\"https://cdn.plot.ly/plotly-2.24.1.min.js\"></script>                <div id=\"cd210109-fb67-4ab8-ade0-1d26b6120a22\" class=\"plotly-graph-div\" style=\"height:800px; width:800px;\"></div>            <script type=\"text/javascript\">                                    window.PLOTLYENV=window.PLOTLYENV || {};                                    if (document.getElementById(\"cd210109-fb67-4ab8-ade0-1d26b6120a22\")) {                    Plotly.newPlot(                        \"cd210109-fb67-4ab8-ade0-1d26b6120a22\",                        [{\"hovertemplate\":\"G=G0\\u003cbr\\u003eX=%{x}\\u003cbr\\u003eY=%{y}\\u003cbr\\u003eZ=%{z}\\u003cextra\\u003e\\u003c\\u002fextra\\u003e\",\"legendgroup\":\"\",\"line\":{\"color\":\"#636efa\",\"dash\":\"solid\"},\"marker\":{\"symbol\":\"circle\"},\"mode\":\"lines\",\"name\":\"\",\"scene\":\"scene\",\"showlegend\":false,\"x\":[0.0,0.0,0.0,0.0,0.0],\"y\":[0.0,0.0,1.0,1.0,0.0],\"z\":[0.0,1.0,1.0,0.0,0.0],\"type\":\"scatter3d\"},{\"hovertemplate\":\"G=G1\\u003cbr\\u003eX=%{x}\\u003cbr\\u003eY=%{y}\\u003cbr\\u003eZ=%{z}\\u003cextra\\u003e\\u003c\\u002fextra\\u003e\",\"legendgroup\":\"\",\"line\":{\"color\":\"#636efa\",\"dash\":\"solid\"},\"marker\":{\"symbol\":\"circle\"},\"mode\":\"lines\",\"name\":\"\",\"scene\":\"scene\",\"showlegend\":false,\"x\":[1.0,1.0,1.0,1.0,1.0],\"y\":[0.0,0.0,1.0,1.0,0.0],\"z\":[0.0,1.0,1.0,0.0,0.0],\"type\":\"scatter3d\"},{\"hovertemplate\":\"G=G2\\u003cbr\\u003eX=%{x}\\u003cbr\\u003eY=%{y}\\u003cbr\\u003eZ=%{z}\\u003cextra\\u003e\\u003c\\u002fextra\\u003e\",\"legendgroup\":\"\",\"line\":{\"color\":\"#636efa\",\"dash\":\"solid\"},\"marker\":{\"symbol\":\"circle\"},\"mode\":\"lines\",\"name\":\"\",\"scene\":\"scene\",\"showlegend\":false,\"x\":[0.0,1.0],\"y\":[0.0,0.0],\"z\":[0.0,0.0],\"type\":\"scatter3d\"},{\"hovertemplate\":\"G=G3\\u003cbr\\u003eX=%{x}\\u003cbr\\u003eY=%{y}\\u003cbr\\u003eZ=%{z}\\u003cextra\\u003e\\u003c\\u002fextra\\u003e\",\"legendgroup\":\"\",\"line\":{\"color\":\"#636efa\",\"dash\":\"solid\"},\"marker\":{\"symbol\":\"circle\"},\"mode\":\"lines\",\"name\":\"\",\"scene\":\"scene\",\"showlegend\":false,\"x\":[0.0,1.0],\"y\":[0.0,0.0],\"z\":[1.0,1.0],\"type\":\"scatter3d\"},{\"hovertemplate\":\"G=G4\\u003cbr\\u003eX=%{x}\\u003cbr\\u003eY=%{y}\\u003cbr\\u003eZ=%{z}\\u003cextra\\u003e\\u003c\\u002fextra\\u003e\",\"legendgroup\":\"\",\"line\":{\"color\":\"#636efa\",\"dash\":\"solid\"},\"marker\":{\"symbol\":\"circle\"},\"mode\":\"lines\",\"name\":\"\",\"scene\":\"scene\",\"showlegend\":false,\"x\":[0.0,1.0],\"y\":[1.0,1.0],\"z\":[1.0,1.0],\"type\":\"scatter3d\"},{\"hovertemplate\":\"G=G5\\u003cbr\\u003eX=%{x}\\u003cbr\\u003eY=%{y}\\u003cbr\\u003eZ=%{z}\\u003cextra\\u003e\\u003c\\u002fextra\\u003e\",\"legendgroup\":\"\",\"line\":{\"color\":\"#636efa\",\"dash\":\"solid\"},\"marker\":{\"symbol\":\"circle\"},\"mode\":\"lines\",\"name\":\"\",\"scene\":\"scene\",\"showlegend\":false,\"x\":[0.0,1.0],\"y\":[1.0,1.0],\"z\":[0.0,0.0],\"type\":\"scatter3d\"},{\"line\":{\"color\":\"red\",\"width\":6},\"mode\":\"lines\",\"showlegend\":false,\"x\":[0.0,0.0,0.0,0.0,0.0],\"y\":[0.0,0.0,1.0,1.0,0.0],\"z\":[0.0,1.0,1.0,0.0,0.0],\"type\":\"scatter3d\"},{\"line\":{\"color\":\"red\",\"width\":6},\"mode\":\"lines\",\"showlegend\":false,\"x\":[-1.0,-1.0,-1.0,-1.0,-1.0],\"y\":[0.0,0.0,1.0,1.0,0.0],\"z\":[0.0,1.0,1.0,0.0,0.0],\"type\":\"scatter3d\"},{\"line\":{\"color\":\"red\",\"width\":6},\"mode\":\"lines\",\"showlegend\":false,\"x\":[0.0,-1.0],\"y\":[0.0,0.0],\"z\":[0.0,0.0],\"type\":\"scatter3d\"},{\"line\":{\"color\":\"red\",\"width\":6},\"mode\":\"lines\",\"showlegend\":false,\"x\":[0.0,-1.0],\"y\":[0.0,0.0],\"z\":[1.0,1.0],\"type\":\"scatter3d\"},{\"line\":{\"color\":\"red\",\"width\":6},\"mode\":\"lines\",\"showlegend\":false,\"x\":[0.0,-1.0],\"y\":[1.0,1.0],\"z\":[1.0,1.0],\"type\":\"scatter3d\"},{\"line\":{\"color\":\"red\",\"width\":6},\"mode\":\"lines\",\"showlegend\":false,\"x\":[0.0,-1.0],\"y\":[1.0,1.0],\"z\":[0.0,0.0],\"type\":\"scatter3d\"}],                        {\"template\":{\"data\":{\"histogram2dcontour\":[{\"type\":\"histogram2dcontour\",\"colorbar\":{\"outlinewidth\":0,\"ticks\":\"\"},\"colorscale\":[[0.0,\"#0d0887\"],[0.1111111111111111,\"#46039f\"],[0.2222222222222222,\"#7201a8\"],[0.3333333333333333,\"#9c179e\"],[0.4444444444444444,\"#bd3786\"],[0.5555555555555556,\"#d8576b\"],[0.6666666666666666,\"#ed7953\"],[0.7777777777777778,\"#fb9f3a\"],[0.8888888888888888,\"#fdca26\"],[1.0,\"#f0f921\"]]}],\"choropleth\":[{\"type\":\"choropleth\",\"colorbar\":{\"outlinewidth\":0,\"ticks\":\"\"}}],\"histogram2d\":[{\"type\":\"histogram2d\",\"colorbar\":{\"outlinewidth\":0,\"ticks\":\"\"},\"colorscale\":[[0.0,\"#0d0887\"],[0.1111111111111111,\"#46039f\"],[0.2222222222222222,\"#7201a8\"],[0.3333333333333333,\"#9c179e\"],[0.4444444444444444,\"#bd3786\"],[0.5555555555555556,\"#d8576b\"],[0.6666666666666666,\"#ed7953\"],[0.7777777777777778,\"#fb9f3a\"],[0.8888888888888888,\"#fdca26\"],[1.0,\"#f0f921\"]]}],\"heatmap\":[{\"type\":\"heatmap\",\"colorbar\":{\"outlinewidth\":0,\"ticks\":\"\"},\"colorscale\":[[0.0,\"#0d0887\"],[0.1111111111111111,\"#46039f\"],[0.2222222222222222,\"#7201a8\"],[0.3333333333333333,\"#9c179e\"],[0.4444444444444444,\"#bd3786\"],[0.5555555555555556,\"#d8576b\"],[0.6666666666666666,\"#ed7953\"],[0.7777777777777778,\"#fb9f3a\"],[0.8888888888888888,\"#fdca26\"],[1.0,\"#f0f921\"]]}],\"heatmapgl\":[{\"type\":\"heatmapgl\",\"colorbar\":{\"outlinewidth\":0,\"ticks\":\"\"},\"colorscale\":[[0.0,\"#0d0887\"],[0.1111111111111111,\"#46039f\"],[0.2222222222222222,\"#7201a8\"],[0.3333333333333333,\"#9c179e\"],[0.4444444444444444,\"#bd3786\"],[0.5555555555555556,\"#d8576b\"],[0.6666666666666666,\"#ed7953\"],[0.7777777777777778,\"#fb9f3a\"],[0.8888888888888888,\"#fdca26\"],[1.0,\"#f0f921\"]]}],\"contourcarpet\":[{\"type\":\"contourcarpet\",\"colorbar\":{\"outlinewidth\":0,\"ticks\":\"\"}}],\"contour\":[{\"type\":\"contour\",\"colorbar\":{\"outlinewidth\":0,\"ticks\":\"\"},\"colorscale\":[[0.0,\"#0d0887\"],[0.1111111111111111,\"#46039f\"],[0.2222222222222222,\"#7201a8\"],[0.3333333333333333,\"#9c179e\"],[0.4444444444444444,\"#bd3786\"],[0.5555555555555556,\"#d8576b\"],[0.6666666666666666,\"#ed7953\"],[0.7777777777777778,\"#fb9f3a\"],[0.8888888888888888,\"#fdca26\"],[1.0,\"#f0f921\"]]}],\"surface\":[{\"type\":\"surface\",\"colorbar\":{\"outlinewidth\":0,\"ticks\":\"\"},\"colorscale\":[[0.0,\"#0d0887\"],[0.1111111111111111,\"#46039f\"],[0.2222222222222222,\"#7201a8\"],[0.3333333333333333,\"#9c179e\"],[0.4444444444444444,\"#bd3786\"],[0.5555555555555556,\"#d8576b\"],[0.6666666666666666,\"#ed7953\"],[0.7777777777777778,\"#fb9f3a\"],[0.8888888888888888,\"#fdca26\"],[1.0,\"#f0f921\"]]}],\"mesh3d\":[{\"type\":\"mesh3d\",\"colorbar\":{\"outlinewidth\":0,\"ticks\":\"\"}}],\"scatter\":[{\"fillpattern\":{\"fillmode\":\"overlay\",\"size\":10,\"solidity\":0.2},\"type\":\"scatter\"}],\"parcoords\":[{\"type\":\"parcoords\",\"line\":{\"colorbar\":{\"outlinewidth\":0,\"ticks\":\"\"}}}],\"scatterpolargl\":[{\"type\":\"scatterpolargl\",\"marker\":{\"colorbar\":{\"outlinewidth\":0,\"ticks\":\"\"}}}],\"bar\":[{\"error_x\":{\"color\":\"#2a3f5f\"},\"error_y\":{\"color\":\"#2a3f5f\"},\"marker\":{\"line\":{\"color\":\"#E5ECF6\",\"width\":0.5},\"pattern\":{\"fillmode\":\"overlay\",\"size\":10,\"solidity\":0.2}},\"type\":\"bar\"}],\"scattergeo\":[{\"type\":\"scattergeo\",\"marker\":{\"colorbar\":{\"outlinewidth\":0,\"ticks\":\"\"}}}],\"scatterpolar\":[{\"type\":\"scatterpolar\",\"marker\":{\"colorbar\":{\"outlinewidth\":0,\"ticks\":\"\"}}}],\"histogram\":[{\"marker\":{\"pattern\":{\"fillmode\":\"overlay\",\"size\":10,\"solidity\":0.2}},\"type\":\"histogram\"}],\"scattergl\":[{\"type\":\"scattergl\",\"marker\":{\"colorbar\":{\"outlinewidth\":0,\"ticks\":\"\"}}}],\"scatter3d\":[{\"type\":\"scatter3d\",\"line\":{\"colorbar\":{\"outlinewidth\":0,\"ticks\":\"\"}},\"marker\":{\"colorbar\":{\"outlinewidth\":0,\"ticks\":\"\"}}}],\"scattermapbox\":[{\"type\":\"scattermapbox\",\"marker\":{\"colorbar\":{\"outlinewidth\":0,\"ticks\":\"\"}}}],\"scatterternary\":[{\"type\":\"scatterternary\",\"marker\":{\"colorbar\":{\"outlinewidth\":0,\"ticks\":\"\"}}}],\"scattercarpet\":[{\"type\":\"scattercarpet\",\"marker\":{\"colorbar\":{\"outlinewidth\":0,\"ticks\":\"\"}}}],\"carpet\":[{\"aaxis\":{\"endlinecolor\":\"#2a3f5f\",\"gridcolor\":\"white\",\"linecolor\":\"white\",\"minorgridcolor\":\"white\",\"startlinecolor\":\"#2a3f5f\"},\"baxis\":{\"endlinecolor\":\"#2a3f5f\",\"gridcolor\":\"white\",\"linecolor\":\"white\",\"minorgridcolor\":\"white\",\"startlinecolor\":\"#2a3f5f\"},\"type\":\"carpet\"}],\"table\":[{\"cells\":{\"fill\":{\"color\":\"#EBF0F8\"},\"line\":{\"color\":\"white\"}},\"header\":{\"fill\":{\"color\":\"#C8D4E3\"},\"line\":{\"color\":\"white\"}},\"type\":\"table\"}],\"barpolar\":[{\"marker\":{\"line\":{\"color\":\"#E5ECF6\",\"width\":0.5},\"pattern\":{\"fillmode\":\"overlay\",\"size\":10,\"solidity\":0.2}},\"type\":\"barpolar\"}],\"pie\":[{\"automargin\":true,\"type\":\"pie\"}]},\"layout\":{\"autotypenumbers\":\"strict\",\"colorway\":[\"#636efa\",\"#EF553B\",\"#00cc96\",\"#ab63fa\",\"#FFA15A\",\"#19d3f3\",\"#FF6692\",\"#B6E880\",\"#FF97FF\",\"#FECB52\"],\"font\":{\"color\":\"#2a3f5f\"},\"hovermode\":\"closest\",\"hoverlabel\":{\"align\":\"left\"},\"paper_bgcolor\":\"white\",\"plot_bgcolor\":\"#E5ECF6\",\"polar\":{\"bgcolor\":\"#E5ECF6\",\"angularaxis\":{\"gridcolor\":\"white\",\"linecolor\":\"white\",\"ticks\":\"\"},\"radialaxis\":{\"gridcolor\":\"white\",\"linecolor\":\"white\",\"ticks\":\"\"}},\"ternary\":{\"bgcolor\":\"#E5ECF6\",\"aaxis\":{\"gridcolor\":\"white\",\"linecolor\":\"white\",\"ticks\":\"\"},\"baxis\":{\"gridcolor\":\"white\",\"linecolor\":\"white\",\"ticks\":\"\"},\"caxis\":{\"gridcolor\":\"white\",\"linecolor\":\"white\",\"ticks\":\"\"}},\"coloraxis\":{\"colorbar\":{\"outlinewidth\":0,\"ticks\":\"\"}},\"colorscale\":{\"sequential\":[[0.0,\"#0d0887\"],[0.1111111111111111,\"#46039f\"],[0.2222222222222222,\"#7201a8\"],[0.3333333333333333,\"#9c179e\"],[0.4444444444444444,\"#bd3786\"],[0.5555555555555556,\"#d8576b\"],[0.6666666666666666,\"#ed7953\"],[0.7777777777777778,\"#fb9f3a\"],[0.8888888888888888,\"#fdca26\"],[1.0,\"#f0f921\"]],\"sequentialminus\":[[0.0,\"#0d0887\"],[0.1111111111111111,\"#46039f\"],[0.2222222222222222,\"#7201a8\"],[0.3333333333333333,\"#9c179e\"],[0.4444444444444444,\"#bd3786\"],[0.5555555555555556,\"#d8576b\"],[0.6666666666666666,\"#ed7953\"],[0.7777777777777778,\"#fb9f3a\"],[0.8888888888888888,\"#fdca26\"],[1.0,\"#f0f921\"]],\"diverging\":[[0,\"#8e0152\"],[0.1,\"#c51b7d\"],[0.2,\"#de77ae\"],[0.3,\"#f1b6da\"],[0.4,\"#fde0ef\"],[0.5,\"#f7f7f7\"],[0.6,\"#e6f5d0\"],[0.7,\"#b8e186\"],[0.8,\"#7fbc41\"],[0.9,\"#4d9221\"],[1,\"#276419\"]]},\"xaxis\":{\"gridcolor\":\"white\",\"linecolor\":\"white\",\"ticks\":\"\",\"title\":{\"standoff\":15},\"zerolinecolor\":\"white\",\"automargin\":true,\"zerolinewidth\":2},\"yaxis\":{\"gridcolor\":\"white\",\"linecolor\":\"white\",\"ticks\":\"\",\"title\":{\"standoff\":15},\"zerolinecolor\":\"white\",\"automargin\":true,\"zerolinewidth\":2},\"scene\":{\"xaxis\":{\"backgroundcolor\":\"#E5ECF6\",\"gridcolor\":\"white\",\"linecolor\":\"white\",\"showbackground\":true,\"ticks\":\"\",\"zerolinecolor\":\"white\",\"gridwidth\":2},\"yaxis\":{\"backgroundcolor\":\"#E5ECF6\",\"gridcolor\":\"white\",\"linecolor\":\"white\",\"showbackground\":true,\"ticks\":\"\",\"zerolinecolor\":\"white\",\"gridwidth\":2},\"zaxis\":{\"backgroundcolor\":\"#E5ECF6\",\"gridcolor\":\"white\",\"linecolor\":\"white\",\"showbackground\":true,\"ticks\":\"\",\"zerolinecolor\":\"white\",\"gridwidth\":2}},\"shapedefaults\":{\"line\":{\"color\":\"#2a3f5f\"}},\"annotationdefaults\":{\"arrowcolor\":\"#2a3f5f\",\"arrowhead\":0,\"arrowwidth\":1},\"geo\":{\"bgcolor\":\"white\",\"landcolor\":\"#E5ECF6\",\"subunitcolor\":\"white\",\"showland\":true,\"showlakes\":true,\"lakecolor\":\"white\"},\"title\":{\"x\":0.05},\"mapbox\":{\"style\":\"light\"}}},\"scene\":{\"domain\":{\"x\":[0.0,1.0],\"y\":[0.0,1.0]},\"xaxis\":{\"title\":{\"text\":\"X\"}},\"yaxis\":{\"title\":{\"text\":\"Y\"}},\"zaxis\":{\"title\":{\"text\":\"Z\"}}},\"legend\":{\"tracegroupgap\":0},\"margin\":{\"t\":60},\"height\":800,\"width\":800},                        {\"responsive\": true}                    ).then(function(){\n",
              "                            \n",
              "var gd = document.getElementById('cd210109-fb67-4ab8-ade0-1d26b6120a22');\n",
              "var x = new MutationObserver(function (mutations, observer) {{\n",
              "        var display = window.getComputedStyle(gd).display;\n",
              "        if (!display || display === 'none') {{\n",
              "            console.log([gd, 'removed!']);\n",
              "            Plotly.purge(gd);\n",
              "            observer.disconnect();\n",
              "        }}\n",
              "}});\n",
              "\n",
              "// Listen for the removal of the full notebook cells\n",
              "var notebookContainer = gd.closest('#notebook-container');\n",
              "if (notebookContainer) {{\n",
              "    x.observe(notebookContainer, {childList: true});\n",
              "}}\n",
              "\n",
              "// Listen for the clearing of the current output cell\n",
              "var outputEl = gd.closest('.output');\n",
              "if (outputEl) {{\n",
              "    x.observe(outputEl, {childList: true});\n",
              "}}\n",
              "\n",
              "                        })                };                            </script>        </div>\n",
              "</body>\n",
              "</html>"
            ]
          },
          "metadata": {}
        }
      ]
    },
    {
      "cell_type": "code",
      "source": [
        "# @title $Oblique \\ \\ Projection$ { form-width: \"20%\" }\n",
        "theta = 60 # @param {type:\"number\"}\n",
        "\n",
        "theta = theta*np.pi/180\n",
        "\n",
        "P = np.array([[1,0,(1/2)*np.cos(theta),0],[0,1,(1/2)*np.sin(theta),0],[0,0,0,0],[0,0,0,1]])\n",
        "PA1 = P@A1\n",
        "\n",
        "display(Math(r'{P='+sp.latex(sp.Matrix(np.round(P,4))) + r' \\ \\ , \\ \\ \\hat{A}='+sp.latex(sp.Matrix(A1)) +r'}'))\n",
        "print()\n",
        "\n",
        "#Plot Original Image\n",
        "df1 = plot3D(A1,n)\n",
        "fig = px.line_3d(df1, x='X', y='Y', z='Z', line_group = 'G',width=800, height=800)\n",
        "\n",
        "#Plot Transformed Image\n",
        "PA1 = P@A1\n",
        "display(Math(r'{P \\hat{A}='+sp.latex(sp.Matrix(np.round(PA1,4)))+r'}'))\n",
        "df2 = plot3D(PA1,n)\n",
        "fig.add_scatter3d(x=df2['X'][0:n+1], y=df2['Y'][0:n+1], z=df2['Z'][0:n+1], mode='lines', line_width=6, line_color='red',showlegend=False)\n",
        "fig.add_scatter3d(x=df2['X'][n+1:2*n+2], y=df2['Y'][n+1:2*n+2], z=df2['Z'][n+1:2*n+2], mode='lines', line_width=6, line_color='red',showlegend=False)\n",
        "for i in range(n):\n",
        "    fig.add_scatter3d(x=df2['X'][2*(n+i)+2:2*(n+i)+4], y=df2['Y'][2*(n+i)+2:2*(n+i)+4], z=df2['Z'][2*(n+i)+2:2*(n+i)+4], mode='lines', line_width=6, line_color='red',showlegend=False)\n",
        "\n",
        "#fig.update_scenes(aspectmode='data')\n",
        "fig.show()"
      ],
      "metadata": {
        "colab": {
          "base_uri": "https://localhost:8080/",
          "height": 997
        },
        "cellView": "form",
        "id": "aOxFYEXI6UWS",
        "outputId": "8576d956-23f2-468a-9416-d740dbfc9748"
      },
      "execution_count": null,
      "outputs": [
        {
          "output_type": "display_data",
          "data": {
            "text/plain": [
              "<IPython.core.display.Math object>"
            ],
            "text/latex": "$\\displaystyle {P=\\left[\\begin{matrix}1.0 & 0 & 0.25 & 0\\\\0 & 1.0 & 0.433 & 0\\\\0 & 0 & 0 & 0\\\\0 & 0 & 0 & 1.0\\end{matrix}\\right] \\ \\ , \\ \\ \\hat{A}=\\left[\\begin{matrix}0 & 0 & 0 & 0 & 1 & 1 & 1 & 1 & 0\\\\0 & 0 & 1 & 1 & 0 & 0 & 1 & 1 & 0\\\\0 & 1 & 1 & 0 & 0 & 1 & 1 & 0 & 0\\\\1 & 1 & 1 & 1 & 1 & 1 & 1 & 1 & 1\\end{matrix}\\right]}$"
          },
          "metadata": {}
        },
        {
          "output_type": "stream",
          "name": "stdout",
          "text": [
            "\n"
          ]
        },
        {
          "output_type": "display_data",
          "data": {
            "text/plain": [
              "<IPython.core.display.Math object>"
            ],
            "text/latex": "$\\displaystyle {P \\hat{A}=\\left[\\begin{matrix}0 & 0.25 & 0.25 & 0 & 1.0 & 1.25 & 1.25 & 1.0 & 0\\\\0 & 0.433 & 1.433 & 1.0 & 0 & 0.433 & 1.433 & 1.0 & 0\\\\0 & 0 & 0 & 0 & 0 & 0 & 0 & 0 & 0\\\\1.0 & 1.0 & 1.0 & 1.0 & 1.0 & 1.0 & 1.0 & 1.0 & 1.0\\end{matrix}\\right]}$"
          },
          "metadata": {}
        },
        {
          "output_type": "display_data",
          "data": {
            "text/html": [
              "<html>\n",
              "<head><meta charset=\"utf-8\" /></head>\n",
              "<body>\n",
              "    <div>            <script src=\"https://cdnjs.cloudflare.com/ajax/libs/mathjax/2.7.5/MathJax.js?config=TeX-AMS-MML_SVG\"></script><script type=\"text/javascript\">if (window.MathJax && window.MathJax.Hub && window.MathJax.Hub.Config) {window.MathJax.Hub.Config({SVG: {font: \"STIX-Web\"}});}</script>                <script type=\"text/javascript\">window.PlotlyConfig = {MathJaxConfig: 'local'};</script>\n",
              "        <script charset=\"utf-8\" src=\"https://cdn.plot.ly/plotly-2.24.1.min.js\"></script>                <div id=\"c1d2f7bd-cc09-42cc-8982-a77e7f8cafd2\" class=\"plotly-graph-div\" style=\"height:800px; width:800px;\"></div>            <script type=\"text/javascript\">                                    window.PLOTLYENV=window.PLOTLYENV || {};                                    if (document.getElementById(\"c1d2f7bd-cc09-42cc-8982-a77e7f8cafd2\")) {                    Plotly.newPlot(                        \"c1d2f7bd-cc09-42cc-8982-a77e7f8cafd2\",                        [{\"hovertemplate\":\"G=G0\\u003cbr\\u003eX=%{x}\\u003cbr\\u003eY=%{y}\\u003cbr\\u003eZ=%{z}\\u003cextra\\u003e\\u003c\\u002fextra\\u003e\",\"legendgroup\":\"\",\"line\":{\"color\":\"#636efa\",\"dash\":\"solid\"},\"marker\":{\"symbol\":\"circle\"},\"mode\":\"lines\",\"name\":\"\",\"scene\":\"scene\",\"showlegend\":false,\"x\":[0.0,0.0,0.0,0.0,0.0],\"y\":[0.0,0.0,1.0,1.0,0.0],\"z\":[0.0,1.0,1.0,0.0,0.0],\"type\":\"scatter3d\"},{\"hovertemplate\":\"G=G1\\u003cbr\\u003eX=%{x}\\u003cbr\\u003eY=%{y}\\u003cbr\\u003eZ=%{z}\\u003cextra\\u003e\\u003c\\u002fextra\\u003e\",\"legendgroup\":\"\",\"line\":{\"color\":\"#636efa\",\"dash\":\"solid\"},\"marker\":{\"symbol\":\"circle\"},\"mode\":\"lines\",\"name\":\"\",\"scene\":\"scene\",\"showlegend\":false,\"x\":[1.0,1.0,1.0,1.0,1.0],\"y\":[0.0,0.0,1.0,1.0,0.0],\"z\":[0.0,1.0,1.0,0.0,0.0],\"type\":\"scatter3d\"},{\"hovertemplate\":\"G=G2\\u003cbr\\u003eX=%{x}\\u003cbr\\u003eY=%{y}\\u003cbr\\u003eZ=%{z}\\u003cextra\\u003e\\u003c\\u002fextra\\u003e\",\"legendgroup\":\"\",\"line\":{\"color\":\"#636efa\",\"dash\":\"solid\"},\"marker\":{\"symbol\":\"circle\"},\"mode\":\"lines\",\"name\":\"\",\"scene\":\"scene\",\"showlegend\":false,\"x\":[0.0,1.0],\"y\":[0.0,0.0],\"z\":[0.0,0.0],\"type\":\"scatter3d\"},{\"hovertemplate\":\"G=G3\\u003cbr\\u003eX=%{x}\\u003cbr\\u003eY=%{y}\\u003cbr\\u003eZ=%{z}\\u003cextra\\u003e\\u003c\\u002fextra\\u003e\",\"legendgroup\":\"\",\"line\":{\"color\":\"#636efa\",\"dash\":\"solid\"},\"marker\":{\"symbol\":\"circle\"},\"mode\":\"lines\",\"name\":\"\",\"scene\":\"scene\",\"showlegend\":false,\"x\":[0.0,1.0],\"y\":[0.0,0.0],\"z\":[1.0,1.0],\"type\":\"scatter3d\"},{\"hovertemplate\":\"G=G4\\u003cbr\\u003eX=%{x}\\u003cbr\\u003eY=%{y}\\u003cbr\\u003eZ=%{z}\\u003cextra\\u003e\\u003c\\u002fextra\\u003e\",\"legendgroup\":\"\",\"line\":{\"color\":\"#636efa\",\"dash\":\"solid\"},\"marker\":{\"symbol\":\"circle\"},\"mode\":\"lines\",\"name\":\"\",\"scene\":\"scene\",\"showlegend\":false,\"x\":[0.0,1.0],\"y\":[1.0,1.0],\"z\":[1.0,1.0],\"type\":\"scatter3d\"},{\"hovertemplate\":\"G=G5\\u003cbr\\u003eX=%{x}\\u003cbr\\u003eY=%{y}\\u003cbr\\u003eZ=%{z}\\u003cextra\\u003e\\u003c\\u002fextra\\u003e\",\"legendgroup\":\"\",\"line\":{\"color\":\"#636efa\",\"dash\":\"solid\"},\"marker\":{\"symbol\":\"circle\"},\"mode\":\"lines\",\"name\":\"\",\"scene\":\"scene\",\"showlegend\":false,\"x\":[0.0,1.0],\"y\":[1.0,1.0],\"z\":[0.0,0.0],\"type\":\"scatter3d\"},{\"line\":{\"color\":\"red\",\"width\":6},\"mode\":\"lines\",\"showlegend\":false,\"x\":[0.0,0.25000000000000006,0.25000000000000006,0.0,0.0],\"y\":[0.0,0.4330127018922193,1.4330127018922192,1.0,0.0],\"z\":[0.0,0.0,0.0,0.0,0.0],\"type\":\"scatter3d\"},{\"line\":{\"color\":\"red\",\"width\":6},\"mode\":\"lines\",\"showlegend\":false,\"x\":[1.0,1.25,1.25,1.0,1.0],\"y\":[0.0,0.4330127018922193,1.4330127018922192,1.0,0.0],\"z\":[0.0,0.0,0.0,0.0,0.0],\"type\":\"scatter3d\"},{\"line\":{\"color\":\"red\",\"width\":6},\"mode\":\"lines\",\"showlegend\":false,\"x\":[0.0,1.0],\"y\":[0.0,0.0],\"z\":[0.0,0.0],\"type\":\"scatter3d\"},{\"line\":{\"color\":\"red\",\"width\":6},\"mode\":\"lines\",\"showlegend\":false,\"x\":[0.25000000000000006,1.25],\"y\":[0.4330127018922193,0.4330127018922193],\"z\":[0.0,0.0],\"type\":\"scatter3d\"},{\"line\":{\"color\":\"red\",\"width\":6},\"mode\":\"lines\",\"showlegend\":false,\"x\":[0.25000000000000006,1.25],\"y\":[1.4330127018922192,1.4330127018922192],\"z\":[0.0,0.0],\"type\":\"scatter3d\"},{\"line\":{\"color\":\"red\",\"width\":6},\"mode\":\"lines\",\"showlegend\":false,\"x\":[0.0,1.0],\"y\":[1.0,1.0],\"z\":[0.0,0.0],\"type\":\"scatter3d\"}],                        {\"template\":{\"data\":{\"histogram2dcontour\":[{\"type\":\"histogram2dcontour\",\"colorbar\":{\"outlinewidth\":0,\"ticks\":\"\"},\"colorscale\":[[0.0,\"#0d0887\"],[0.1111111111111111,\"#46039f\"],[0.2222222222222222,\"#7201a8\"],[0.3333333333333333,\"#9c179e\"],[0.4444444444444444,\"#bd3786\"],[0.5555555555555556,\"#d8576b\"],[0.6666666666666666,\"#ed7953\"],[0.7777777777777778,\"#fb9f3a\"],[0.8888888888888888,\"#fdca26\"],[1.0,\"#f0f921\"]]}],\"choropleth\":[{\"type\":\"choropleth\",\"colorbar\":{\"outlinewidth\":0,\"ticks\":\"\"}}],\"histogram2d\":[{\"type\":\"histogram2d\",\"colorbar\":{\"outlinewidth\":0,\"ticks\":\"\"},\"colorscale\":[[0.0,\"#0d0887\"],[0.1111111111111111,\"#46039f\"],[0.2222222222222222,\"#7201a8\"],[0.3333333333333333,\"#9c179e\"],[0.4444444444444444,\"#bd3786\"],[0.5555555555555556,\"#d8576b\"],[0.6666666666666666,\"#ed7953\"],[0.7777777777777778,\"#fb9f3a\"],[0.8888888888888888,\"#fdca26\"],[1.0,\"#f0f921\"]]}],\"heatmap\":[{\"type\":\"heatmap\",\"colorbar\":{\"outlinewidth\":0,\"ticks\":\"\"},\"colorscale\":[[0.0,\"#0d0887\"],[0.1111111111111111,\"#46039f\"],[0.2222222222222222,\"#7201a8\"],[0.3333333333333333,\"#9c179e\"],[0.4444444444444444,\"#bd3786\"],[0.5555555555555556,\"#d8576b\"],[0.6666666666666666,\"#ed7953\"],[0.7777777777777778,\"#fb9f3a\"],[0.8888888888888888,\"#fdca26\"],[1.0,\"#f0f921\"]]}],\"heatmapgl\":[{\"type\":\"heatmapgl\",\"colorbar\":{\"outlinewidth\":0,\"ticks\":\"\"},\"colorscale\":[[0.0,\"#0d0887\"],[0.1111111111111111,\"#46039f\"],[0.2222222222222222,\"#7201a8\"],[0.3333333333333333,\"#9c179e\"],[0.4444444444444444,\"#bd3786\"],[0.5555555555555556,\"#d8576b\"],[0.6666666666666666,\"#ed7953\"],[0.7777777777777778,\"#fb9f3a\"],[0.8888888888888888,\"#fdca26\"],[1.0,\"#f0f921\"]]}],\"contourcarpet\":[{\"type\":\"contourcarpet\",\"colorbar\":{\"outlinewidth\":0,\"ticks\":\"\"}}],\"contour\":[{\"type\":\"contour\",\"colorbar\":{\"outlinewidth\":0,\"ticks\":\"\"},\"colorscale\":[[0.0,\"#0d0887\"],[0.1111111111111111,\"#46039f\"],[0.2222222222222222,\"#7201a8\"],[0.3333333333333333,\"#9c179e\"],[0.4444444444444444,\"#bd3786\"],[0.5555555555555556,\"#d8576b\"],[0.6666666666666666,\"#ed7953\"],[0.7777777777777778,\"#fb9f3a\"],[0.8888888888888888,\"#fdca26\"],[1.0,\"#f0f921\"]]}],\"surface\":[{\"type\":\"surface\",\"colorbar\":{\"outlinewidth\":0,\"ticks\":\"\"},\"colorscale\":[[0.0,\"#0d0887\"],[0.1111111111111111,\"#46039f\"],[0.2222222222222222,\"#7201a8\"],[0.3333333333333333,\"#9c179e\"],[0.4444444444444444,\"#bd3786\"],[0.5555555555555556,\"#d8576b\"],[0.6666666666666666,\"#ed7953\"],[0.7777777777777778,\"#fb9f3a\"],[0.8888888888888888,\"#fdca26\"],[1.0,\"#f0f921\"]]}],\"mesh3d\":[{\"type\":\"mesh3d\",\"colorbar\":{\"outlinewidth\":0,\"ticks\":\"\"}}],\"scatter\":[{\"fillpattern\":{\"fillmode\":\"overlay\",\"size\":10,\"solidity\":0.2},\"type\":\"scatter\"}],\"parcoords\":[{\"type\":\"parcoords\",\"line\":{\"colorbar\":{\"outlinewidth\":0,\"ticks\":\"\"}}}],\"scatterpolargl\":[{\"type\":\"scatterpolargl\",\"marker\":{\"colorbar\":{\"outlinewidth\":0,\"ticks\":\"\"}}}],\"bar\":[{\"error_x\":{\"color\":\"#2a3f5f\"},\"error_y\":{\"color\":\"#2a3f5f\"},\"marker\":{\"line\":{\"color\":\"#E5ECF6\",\"width\":0.5},\"pattern\":{\"fillmode\":\"overlay\",\"size\":10,\"solidity\":0.2}},\"type\":\"bar\"}],\"scattergeo\":[{\"type\":\"scattergeo\",\"marker\":{\"colorbar\":{\"outlinewidth\":0,\"ticks\":\"\"}}}],\"scatterpolar\":[{\"type\":\"scatterpolar\",\"marker\":{\"colorbar\":{\"outlinewidth\":0,\"ticks\":\"\"}}}],\"histogram\":[{\"marker\":{\"pattern\":{\"fillmode\":\"overlay\",\"size\":10,\"solidity\":0.2}},\"type\":\"histogram\"}],\"scattergl\":[{\"type\":\"scattergl\",\"marker\":{\"colorbar\":{\"outlinewidth\":0,\"ticks\":\"\"}}}],\"scatter3d\":[{\"type\":\"scatter3d\",\"line\":{\"colorbar\":{\"outlinewidth\":0,\"ticks\":\"\"}},\"marker\":{\"colorbar\":{\"outlinewidth\":0,\"ticks\":\"\"}}}],\"scattermapbox\":[{\"type\":\"scattermapbox\",\"marker\":{\"colorbar\":{\"outlinewidth\":0,\"ticks\":\"\"}}}],\"scatterternary\":[{\"type\":\"scatterternary\",\"marker\":{\"colorbar\":{\"outlinewidth\":0,\"ticks\":\"\"}}}],\"scattercarpet\":[{\"type\":\"scattercarpet\",\"marker\":{\"colorbar\":{\"outlinewidth\":0,\"ticks\":\"\"}}}],\"carpet\":[{\"aaxis\":{\"endlinecolor\":\"#2a3f5f\",\"gridcolor\":\"white\",\"linecolor\":\"white\",\"minorgridcolor\":\"white\",\"startlinecolor\":\"#2a3f5f\"},\"baxis\":{\"endlinecolor\":\"#2a3f5f\",\"gridcolor\":\"white\",\"linecolor\":\"white\",\"minorgridcolor\":\"white\",\"startlinecolor\":\"#2a3f5f\"},\"type\":\"carpet\"}],\"table\":[{\"cells\":{\"fill\":{\"color\":\"#EBF0F8\"},\"line\":{\"color\":\"white\"}},\"header\":{\"fill\":{\"color\":\"#C8D4E3\"},\"line\":{\"color\":\"white\"}},\"type\":\"table\"}],\"barpolar\":[{\"marker\":{\"line\":{\"color\":\"#E5ECF6\",\"width\":0.5},\"pattern\":{\"fillmode\":\"overlay\",\"size\":10,\"solidity\":0.2}},\"type\":\"barpolar\"}],\"pie\":[{\"automargin\":true,\"type\":\"pie\"}]},\"layout\":{\"autotypenumbers\":\"strict\",\"colorway\":[\"#636efa\",\"#EF553B\",\"#00cc96\",\"#ab63fa\",\"#FFA15A\",\"#19d3f3\",\"#FF6692\",\"#B6E880\",\"#FF97FF\",\"#FECB52\"],\"font\":{\"color\":\"#2a3f5f\"},\"hovermode\":\"closest\",\"hoverlabel\":{\"align\":\"left\"},\"paper_bgcolor\":\"white\",\"plot_bgcolor\":\"#E5ECF6\",\"polar\":{\"bgcolor\":\"#E5ECF6\",\"angularaxis\":{\"gridcolor\":\"white\",\"linecolor\":\"white\",\"ticks\":\"\"},\"radialaxis\":{\"gridcolor\":\"white\",\"linecolor\":\"white\",\"ticks\":\"\"}},\"ternary\":{\"bgcolor\":\"#E5ECF6\",\"aaxis\":{\"gridcolor\":\"white\",\"linecolor\":\"white\",\"ticks\":\"\"},\"baxis\":{\"gridcolor\":\"white\",\"linecolor\":\"white\",\"ticks\":\"\"},\"caxis\":{\"gridcolor\":\"white\",\"linecolor\":\"white\",\"ticks\":\"\"}},\"coloraxis\":{\"colorbar\":{\"outlinewidth\":0,\"ticks\":\"\"}},\"colorscale\":{\"sequential\":[[0.0,\"#0d0887\"],[0.1111111111111111,\"#46039f\"],[0.2222222222222222,\"#7201a8\"],[0.3333333333333333,\"#9c179e\"],[0.4444444444444444,\"#bd3786\"],[0.5555555555555556,\"#d8576b\"],[0.6666666666666666,\"#ed7953\"],[0.7777777777777778,\"#fb9f3a\"],[0.8888888888888888,\"#fdca26\"],[1.0,\"#f0f921\"]],\"sequentialminus\":[[0.0,\"#0d0887\"],[0.1111111111111111,\"#46039f\"],[0.2222222222222222,\"#7201a8\"],[0.3333333333333333,\"#9c179e\"],[0.4444444444444444,\"#bd3786\"],[0.5555555555555556,\"#d8576b\"],[0.6666666666666666,\"#ed7953\"],[0.7777777777777778,\"#fb9f3a\"],[0.8888888888888888,\"#fdca26\"],[1.0,\"#f0f921\"]],\"diverging\":[[0,\"#8e0152\"],[0.1,\"#c51b7d\"],[0.2,\"#de77ae\"],[0.3,\"#f1b6da\"],[0.4,\"#fde0ef\"],[0.5,\"#f7f7f7\"],[0.6,\"#e6f5d0\"],[0.7,\"#b8e186\"],[0.8,\"#7fbc41\"],[0.9,\"#4d9221\"],[1,\"#276419\"]]},\"xaxis\":{\"gridcolor\":\"white\",\"linecolor\":\"white\",\"ticks\":\"\",\"title\":{\"standoff\":15},\"zerolinecolor\":\"white\",\"automargin\":true,\"zerolinewidth\":2},\"yaxis\":{\"gridcolor\":\"white\",\"linecolor\":\"white\",\"ticks\":\"\",\"title\":{\"standoff\":15},\"zerolinecolor\":\"white\",\"automargin\":true,\"zerolinewidth\":2},\"scene\":{\"xaxis\":{\"backgroundcolor\":\"#E5ECF6\",\"gridcolor\":\"white\",\"linecolor\":\"white\",\"showbackground\":true,\"ticks\":\"\",\"zerolinecolor\":\"white\",\"gridwidth\":2},\"yaxis\":{\"backgroundcolor\":\"#E5ECF6\",\"gridcolor\":\"white\",\"linecolor\":\"white\",\"showbackground\":true,\"ticks\":\"\",\"zerolinecolor\":\"white\",\"gridwidth\":2},\"zaxis\":{\"backgroundcolor\":\"#E5ECF6\",\"gridcolor\":\"white\",\"linecolor\":\"white\",\"showbackground\":true,\"ticks\":\"\",\"zerolinecolor\":\"white\",\"gridwidth\":2}},\"shapedefaults\":{\"line\":{\"color\":\"#2a3f5f\"}},\"annotationdefaults\":{\"arrowcolor\":\"#2a3f5f\",\"arrowhead\":0,\"arrowwidth\":1},\"geo\":{\"bgcolor\":\"white\",\"landcolor\":\"#E5ECF6\",\"subunitcolor\":\"white\",\"showland\":true,\"showlakes\":true,\"lakecolor\":\"white\"},\"title\":{\"x\":0.05},\"mapbox\":{\"style\":\"light\"}}},\"scene\":{\"domain\":{\"x\":[0.0,1.0],\"y\":[0.0,1.0]},\"xaxis\":{\"title\":{\"text\":\"X\"}},\"yaxis\":{\"title\":{\"text\":\"Y\"}},\"zaxis\":{\"title\":{\"text\":\"Z\"}}},\"legend\":{\"tracegroupgap\":0},\"margin\":{\"t\":60},\"height\":800,\"width\":800},                        {\"responsive\": true}                    ).then(function(){\n",
              "                            \n",
              "var gd = document.getElementById('c1d2f7bd-cc09-42cc-8982-a77e7f8cafd2');\n",
              "var x = new MutationObserver(function (mutations, observer) {{\n",
              "        var display = window.getComputedStyle(gd).display;\n",
              "        if (!display || display === 'none') {{\n",
              "            console.log([gd, 'removed!']);\n",
              "            Plotly.purge(gd);\n",
              "            observer.disconnect();\n",
              "        }}\n",
              "}});\n",
              "\n",
              "// Listen for the removal of the full notebook cells\n",
              "var notebookContainer = gd.closest('#notebook-container');\n",
              "if (notebookContainer) {{\n",
              "    x.observe(notebookContainer, {childList: true});\n",
              "}}\n",
              "\n",
              "// Listen for the clearing of the current output cell\n",
              "var outputEl = gd.closest('.output');\n",
              "if (outputEl) {{\n",
              "    x.observe(outputEl, {childList: true});\n",
              "}}\n",
              "\n",
              "                        })                };                            </script>        </div>\n",
              "</body>\n",
              "</html>"
            ]
          },
          "metadata": {}
        }
      ]
    },
    {
      "cell_type": "code",
      "source": [
        "# @title $Isometric \\ \\ Projection$ { form-width: \"20%\" }\n",
        "theta = 60 # @param {type:\"number\"}\n",
        "\n",
        "theta = theta*np.pi/180\n",
        "\n",
        "P = np.array([[2/3,-1/3,-1/3,0],[-1/3,2/3,-1/3,0],[-1/3,-1/3,2/3,0],[0,0,0,1]])\n",
        "#P = np.array([[1/np.sqrt(2),-1/np.sqrt(2),0,0],[1/np.sqrt(6),1/np.sqrt(6),(-1*np.sqrt(2)/np.sqrt(3)),0],[0,0,0,0],[0,0,0,1]])\n",
        "PA1 = P@A1\n",
        "\n",
        "display(Math(r'{P='+sp.latex(sp.Matrix(np.round(P,4))) + r' \\ \\ , \\ \\ \\hat{A}='+sp.latex(sp.Matrix(A1)) +r'}'))\n",
        "print()\n",
        "\n",
        "#Plot Original Image\n",
        "df1 = plot3D(A1,n)\n",
        "fig = px.line_3d(df1, x='X', y='Y', z='Z', line_group = 'G',width=800, height=800)\n",
        "\n",
        "#Plot Transformed Image\n",
        "PA1 = P@A1\n",
        "display(Math(r'{P \\hat{A}='+sp.latex(sp.Matrix(np.round(PA1,4)))+r'}'))\n",
        "df2 = plot3D(PA1,n)\n",
        "fig.add_scatter3d(x=df2['X'][0:n+1], y=df2['Y'][0:n+1], z=df2['Z'][0:n+1], mode='lines', line_width=6, line_color='red',showlegend=False)\n",
        "fig.add_scatter3d(x=df2['X'][n+1:2*n+2], y=df2['Y'][n+1:2*n+2], z=df2['Z'][n+1:2*n+2], mode='lines', line_width=6, line_color='red',showlegend=False)\n",
        "for i in range(n):\n",
        "    fig.add_scatter3d(x=df2['X'][2*(n+i)+2:2*(n+i)+4], y=df2['Y'][2*(n+i)+2:2*(n+i)+4], z=df2['Z'][2*(n+i)+2:2*(n+i)+4], mode='lines', line_width=6, line_color='red',showlegend=False)\n",
        "\n",
        "#fig.update_scenes(aspectmode='data')\n",
        "fig.show()"
      ],
      "metadata": {
        "colab": {
          "base_uri": "https://localhost:8080/",
          "height": 997
        },
        "cellView": "form",
        "outputId": "8aa60f53-ec05-4cf5-9bc4-da660624ac72",
        "id": "lU3g5mjBCOdk"
      },
      "execution_count": null,
      "outputs": [
        {
          "output_type": "display_data",
          "data": {
            "text/plain": [
              "<IPython.core.display.Math object>"
            ],
            "text/latex": "$\\displaystyle {P=\\left[\\begin{matrix}0.6667 & -0.3333 & -0.3333 & 0\\\\-0.3333 & 0.6667 & -0.3333 & 0\\\\-0.3333 & -0.3333 & 0.6667 & 0\\\\0 & 0 & 0 & 1.0\\end{matrix}\\right] \\ \\ , \\ \\ \\hat{A}=\\left[\\begin{matrix}0 & 0 & 0 & 0 & 1 & 1 & 1 & 1 & 0\\\\0 & 0 & 1 & 1 & 0 & 0 & 1 & 1 & 0\\\\0 & 1 & 1 & 0 & 0 & 1 & 1 & 0 & 0\\\\1 & 1 & 1 & 1 & 1 & 1 & 1 & 1 & 1\\end{matrix}\\right]}$"
          },
          "metadata": {}
        },
        {
          "output_type": "stream",
          "name": "stdout",
          "text": [
            "\n"
          ]
        },
        {
          "output_type": "display_data",
          "data": {
            "text/plain": [
              "<IPython.core.display.Math object>"
            ],
            "text/latex": "$\\displaystyle {P \\hat{A}=\\left[\\begin{matrix}0 & -0.3333 & -0.6667 & -0.3333 & 0.6667 & 0.3333 & 0 & 0.3333 & 0\\\\0 & -0.3333 & 0.3333 & 0.6667 & -0.3333 & -0.6667 & 0 & 0.3333 & 0\\\\0 & 0.6667 & 0.3333 & -0.3333 & -0.3333 & 0.3333 & 0 & -0.6667 & 0\\\\1.0 & 1.0 & 1.0 & 1.0 & 1.0 & 1.0 & 1.0 & 1.0 & 1.0\\end{matrix}\\right]}$"
          },
          "metadata": {}
        },
        {
          "output_type": "display_data",
          "data": {
            "text/html": [
              "<html>\n",
              "<head><meta charset=\"utf-8\" /></head>\n",
              "<body>\n",
              "    <div>            <script src=\"https://cdnjs.cloudflare.com/ajax/libs/mathjax/2.7.5/MathJax.js?config=TeX-AMS-MML_SVG\"></script><script type=\"text/javascript\">if (window.MathJax && window.MathJax.Hub && window.MathJax.Hub.Config) {window.MathJax.Hub.Config({SVG: {font: \"STIX-Web\"}});}</script>                <script type=\"text/javascript\">window.PlotlyConfig = {MathJaxConfig: 'local'};</script>\n",
              "        <script charset=\"utf-8\" src=\"https://cdn.plot.ly/plotly-2.24.1.min.js\"></script>                <div id=\"7e9c081f-240e-4d12-9b55-67a289745c7c\" class=\"plotly-graph-div\" style=\"height:800px; width:800px;\"></div>            <script type=\"text/javascript\">                                    window.PLOTLYENV=window.PLOTLYENV || {};                                    if (document.getElementById(\"7e9c081f-240e-4d12-9b55-67a289745c7c\")) {                    Plotly.newPlot(                        \"7e9c081f-240e-4d12-9b55-67a289745c7c\",                        [{\"hovertemplate\":\"G=G0\\u003cbr\\u003eX=%{x}\\u003cbr\\u003eY=%{y}\\u003cbr\\u003eZ=%{z}\\u003cextra\\u003e\\u003c\\u002fextra\\u003e\",\"legendgroup\":\"\",\"line\":{\"color\":\"#636efa\",\"dash\":\"solid\"},\"marker\":{\"symbol\":\"circle\"},\"mode\":\"lines\",\"name\":\"\",\"scene\":\"scene\",\"showlegend\":false,\"x\":[0.0,0.0,0.0,0.0,0.0],\"y\":[0.0,0.0,1.0,1.0,0.0],\"z\":[0.0,1.0,1.0,0.0,0.0],\"type\":\"scatter3d\"},{\"hovertemplate\":\"G=G1\\u003cbr\\u003eX=%{x}\\u003cbr\\u003eY=%{y}\\u003cbr\\u003eZ=%{z}\\u003cextra\\u003e\\u003c\\u002fextra\\u003e\",\"legendgroup\":\"\",\"line\":{\"color\":\"#636efa\",\"dash\":\"solid\"},\"marker\":{\"symbol\":\"circle\"},\"mode\":\"lines\",\"name\":\"\",\"scene\":\"scene\",\"showlegend\":false,\"x\":[1.0,1.0,1.0,1.0,1.0],\"y\":[0.0,0.0,1.0,1.0,0.0],\"z\":[0.0,1.0,1.0,0.0,0.0],\"type\":\"scatter3d\"},{\"hovertemplate\":\"G=G2\\u003cbr\\u003eX=%{x}\\u003cbr\\u003eY=%{y}\\u003cbr\\u003eZ=%{z}\\u003cextra\\u003e\\u003c\\u002fextra\\u003e\",\"legendgroup\":\"\",\"line\":{\"color\":\"#636efa\",\"dash\":\"solid\"},\"marker\":{\"symbol\":\"circle\"},\"mode\":\"lines\",\"name\":\"\",\"scene\":\"scene\",\"showlegend\":false,\"x\":[0.0,1.0],\"y\":[0.0,0.0],\"z\":[0.0,0.0],\"type\":\"scatter3d\"},{\"hovertemplate\":\"G=G3\\u003cbr\\u003eX=%{x}\\u003cbr\\u003eY=%{y}\\u003cbr\\u003eZ=%{z}\\u003cextra\\u003e\\u003c\\u002fextra\\u003e\",\"legendgroup\":\"\",\"line\":{\"color\":\"#636efa\",\"dash\":\"solid\"},\"marker\":{\"symbol\":\"circle\"},\"mode\":\"lines\",\"name\":\"\",\"scene\":\"scene\",\"showlegend\":false,\"x\":[0.0,1.0],\"y\":[0.0,0.0],\"z\":[1.0,1.0],\"type\":\"scatter3d\"},{\"hovertemplate\":\"G=G4\\u003cbr\\u003eX=%{x}\\u003cbr\\u003eY=%{y}\\u003cbr\\u003eZ=%{z}\\u003cextra\\u003e\\u003c\\u002fextra\\u003e\",\"legendgroup\":\"\",\"line\":{\"color\":\"#636efa\",\"dash\":\"solid\"},\"marker\":{\"symbol\":\"circle\"},\"mode\":\"lines\",\"name\":\"\",\"scene\":\"scene\",\"showlegend\":false,\"x\":[0.0,1.0],\"y\":[1.0,1.0],\"z\":[1.0,1.0],\"type\":\"scatter3d\"},{\"hovertemplate\":\"G=G5\\u003cbr\\u003eX=%{x}\\u003cbr\\u003eY=%{y}\\u003cbr\\u003eZ=%{z}\\u003cextra\\u003e\\u003c\\u002fextra\\u003e\",\"legendgroup\":\"\",\"line\":{\"color\":\"#636efa\",\"dash\":\"solid\"},\"marker\":{\"symbol\":\"circle\"},\"mode\":\"lines\",\"name\":\"\",\"scene\":\"scene\",\"showlegend\":false,\"x\":[0.0,1.0],\"y\":[1.0,1.0],\"z\":[0.0,0.0],\"type\":\"scatter3d\"},{\"line\":{\"color\":\"red\",\"width\":6},\"mode\":\"lines\",\"showlegend\":false,\"x\":[0.0,-0.3333333333333333,-0.6666666666666666,-0.3333333333333333,0.0],\"y\":[0.0,-0.3333333333333333,0.3333333333333333,0.6666666666666666,0.0],\"z\":[0.0,0.6666666666666666,0.3333333333333333,-0.3333333333333333,0.0],\"type\":\"scatter3d\"},{\"line\":{\"color\":\"red\",\"width\":6},\"mode\":\"lines\",\"showlegend\":false,\"x\":[0.6666666666666666,0.3333333333333333,0.0,0.3333333333333333,0.6666666666666666],\"y\":[-0.3333333333333333,-0.6666666666666666,0.0,0.3333333333333333,-0.3333333333333333],\"z\":[-0.3333333333333333,0.3333333333333333,0.0,-0.6666666666666666,-0.3333333333333333],\"type\":\"scatter3d\"},{\"line\":{\"color\":\"red\",\"width\":6},\"mode\":\"lines\",\"showlegend\":false,\"x\":[0.0,0.6666666666666666],\"y\":[0.0,-0.3333333333333333],\"z\":[0.0,-0.3333333333333333],\"type\":\"scatter3d\"},{\"line\":{\"color\":\"red\",\"width\":6},\"mode\":\"lines\",\"showlegend\":false,\"x\":[-0.3333333333333333,0.3333333333333333],\"y\":[-0.3333333333333333,-0.6666666666666666],\"z\":[0.6666666666666666,0.3333333333333333],\"type\":\"scatter3d\"},{\"line\":{\"color\":\"red\",\"width\":6},\"mode\":\"lines\",\"showlegend\":false,\"x\":[-0.6666666666666666,0.0],\"y\":[0.3333333333333333,0.0],\"z\":[0.3333333333333333,0.0],\"type\":\"scatter3d\"},{\"line\":{\"color\":\"red\",\"width\":6},\"mode\":\"lines\",\"showlegend\":false,\"x\":[-0.3333333333333333,0.3333333333333333],\"y\":[0.6666666666666666,0.3333333333333333],\"z\":[-0.3333333333333333,-0.6666666666666666],\"type\":\"scatter3d\"}],                        {\"template\":{\"data\":{\"histogram2dcontour\":[{\"type\":\"histogram2dcontour\",\"colorbar\":{\"outlinewidth\":0,\"ticks\":\"\"},\"colorscale\":[[0.0,\"#0d0887\"],[0.1111111111111111,\"#46039f\"],[0.2222222222222222,\"#7201a8\"],[0.3333333333333333,\"#9c179e\"],[0.4444444444444444,\"#bd3786\"],[0.5555555555555556,\"#d8576b\"],[0.6666666666666666,\"#ed7953\"],[0.7777777777777778,\"#fb9f3a\"],[0.8888888888888888,\"#fdca26\"],[1.0,\"#f0f921\"]]}],\"choropleth\":[{\"type\":\"choropleth\",\"colorbar\":{\"outlinewidth\":0,\"ticks\":\"\"}}],\"histogram2d\":[{\"type\":\"histogram2d\",\"colorbar\":{\"outlinewidth\":0,\"ticks\":\"\"},\"colorscale\":[[0.0,\"#0d0887\"],[0.1111111111111111,\"#46039f\"],[0.2222222222222222,\"#7201a8\"],[0.3333333333333333,\"#9c179e\"],[0.4444444444444444,\"#bd3786\"],[0.5555555555555556,\"#d8576b\"],[0.6666666666666666,\"#ed7953\"],[0.7777777777777778,\"#fb9f3a\"],[0.8888888888888888,\"#fdca26\"],[1.0,\"#f0f921\"]]}],\"heatmap\":[{\"type\":\"heatmap\",\"colorbar\":{\"outlinewidth\":0,\"ticks\":\"\"},\"colorscale\":[[0.0,\"#0d0887\"],[0.1111111111111111,\"#46039f\"],[0.2222222222222222,\"#7201a8\"],[0.3333333333333333,\"#9c179e\"],[0.4444444444444444,\"#bd3786\"],[0.5555555555555556,\"#d8576b\"],[0.6666666666666666,\"#ed7953\"],[0.7777777777777778,\"#fb9f3a\"],[0.8888888888888888,\"#fdca26\"],[1.0,\"#f0f921\"]]}],\"heatmapgl\":[{\"type\":\"heatmapgl\",\"colorbar\":{\"outlinewidth\":0,\"ticks\":\"\"},\"colorscale\":[[0.0,\"#0d0887\"],[0.1111111111111111,\"#46039f\"],[0.2222222222222222,\"#7201a8\"],[0.3333333333333333,\"#9c179e\"],[0.4444444444444444,\"#bd3786\"],[0.5555555555555556,\"#d8576b\"],[0.6666666666666666,\"#ed7953\"],[0.7777777777777778,\"#fb9f3a\"],[0.8888888888888888,\"#fdca26\"],[1.0,\"#f0f921\"]]}],\"contourcarpet\":[{\"type\":\"contourcarpet\",\"colorbar\":{\"outlinewidth\":0,\"ticks\":\"\"}}],\"contour\":[{\"type\":\"contour\",\"colorbar\":{\"outlinewidth\":0,\"ticks\":\"\"},\"colorscale\":[[0.0,\"#0d0887\"],[0.1111111111111111,\"#46039f\"],[0.2222222222222222,\"#7201a8\"],[0.3333333333333333,\"#9c179e\"],[0.4444444444444444,\"#bd3786\"],[0.5555555555555556,\"#d8576b\"],[0.6666666666666666,\"#ed7953\"],[0.7777777777777778,\"#fb9f3a\"],[0.8888888888888888,\"#fdca26\"],[1.0,\"#f0f921\"]]}],\"surface\":[{\"type\":\"surface\",\"colorbar\":{\"outlinewidth\":0,\"ticks\":\"\"},\"colorscale\":[[0.0,\"#0d0887\"],[0.1111111111111111,\"#46039f\"],[0.2222222222222222,\"#7201a8\"],[0.3333333333333333,\"#9c179e\"],[0.4444444444444444,\"#bd3786\"],[0.5555555555555556,\"#d8576b\"],[0.6666666666666666,\"#ed7953\"],[0.7777777777777778,\"#fb9f3a\"],[0.8888888888888888,\"#fdca26\"],[1.0,\"#f0f921\"]]}],\"mesh3d\":[{\"type\":\"mesh3d\",\"colorbar\":{\"outlinewidth\":0,\"ticks\":\"\"}}],\"scatter\":[{\"fillpattern\":{\"fillmode\":\"overlay\",\"size\":10,\"solidity\":0.2},\"type\":\"scatter\"}],\"parcoords\":[{\"type\":\"parcoords\",\"line\":{\"colorbar\":{\"outlinewidth\":0,\"ticks\":\"\"}}}],\"scatterpolargl\":[{\"type\":\"scatterpolargl\",\"marker\":{\"colorbar\":{\"outlinewidth\":0,\"ticks\":\"\"}}}],\"bar\":[{\"error_x\":{\"color\":\"#2a3f5f\"},\"error_y\":{\"color\":\"#2a3f5f\"},\"marker\":{\"line\":{\"color\":\"#E5ECF6\",\"width\":0.5},\"pattern\":{\"fillmode\":\"overlay\",\"size\":10,\"solidity\":0.2}},\"type\":\"bar\"}],\"scattergeo\":[{\"type\":\"scattergeo\",\"marker\":{\"colorbar\":{\"outlinewidth\":0,\"ticks\":\"\"}}}],\"scatterpolar\":[{\"type\":\"scatterpolar\",\"marker\":{\"colorbar\":{\"outlinewidth\":0,\"ticks\":\"\"}}}],\"histogram\":[{\"marker\":{\"pattern\":{\"fillmode\":\"overlay\",\"size\":10,\"solidity\":0.2}},\"type\":\"histogram\"}],\"scattergl\":[{\"type\":\"scattergl\",\"marker\":{\"colorbar\":{\"outlinewidth\":0,\"ticks\":\"\"}}}],\"scatter3d\":[{\"type\":\"scatter3d\",\"line\":{\"colorbar\":{\"outlinewidth\":0,\"ticks\":\"\"}},\"marker\":{\"colorbar\":{\"outlinewidth\":0,\"ticks\":\"\"}}}],\"scattermapbox\":[{\"type\":\"scattermapbox\",\"marker\":{\"colorbar\":{\"outlinewidth\":0,\"ticks\":\"\"}}}],\"scatterternary\":[{\"type\":\"scatterternary\",\"marker\":{\"colorbar\":{\"outlinewidth\":0,\"ticks\":\"\"}}}],\"scattercarpet\":[{\"type\":\"scattercarpet\",\"marker\":{\"colorbar\":{\"outlinewidth\":0,\"ticks\":\"\"}}}],\"carpet\":[{\"aaxis\":{\"endlinecolor\":\"#2a3f5f\",\"gridcolor\":\"white\",\"linecolor\":\"white\",\"minorgridcolor\":\"white\",\"startlinecolor\":\"#2a3f5f\"},\"baxis\":{\"endlinecolor\":\"#2a3f5f\",\"gridcolor\":\"white\",\"linecolor\":\"white\",\"minorgridcolor\":\"white\",\"startlinecolor\":\"#2a3f5f\"},\"type\":\"carpet\"}],\"table\":[{\"cells\":{\"fill\":{\"color\":\"#EBF0F8\"},\"line\":{\"color\":\"white\"}},\"header\":{\"fill\":{\"color\":\"#C8D4E3\"},\"line\":{\"color\":\"white\"}},\"type\":\"table\"}],\"barpolar\":[{\"marker\":{\"line\":{\"color\":\"#E5ECF6\",\"width\":0.5},\"pattern\":{\"fillmode\":\"overlay\",\"size\":10,\"solidity\":0.2}},\"type\":\"barpolar\"}],\"pie\":[{\"automargin\":true,\"type\":\"pie\"}]},\"layout\":{\"autotypenumbers\":\"strict\",\"colorway\":[\"#636efa\",\"#EF553B\",\"#00cc96\",\"#ab63fa\",\"#FFA15A\",\"#19d3f3\",\"#FF6692\",\"#B6E880\",\"#FF97FF\",\"#FECB52\"],\"font\":{\"color\":\"#2a3f5f\"},\"hovermode\":\"closest\",\"hoverlabel\":{\"align\":\"left\"},\"paper_bgcolor\":\"white\",\"plot_bgcolor\":\"#E5ECF6\",\"polar\":{\"bgcolor\":\"#E5ECF6\",\"angularaxis\":{\"gridcolor\":\"white\",\"linecolor\":\"white\",\"ticks\":\"\"},\"radialaxis\":{\"gridcolor\":\"white\",\"linecolor\":\"white\",\"ticks\":\"\"}},\"ternary\":{\"bgcolor\":\"#E5ECF6\",\"aaxis\":{\"gridcolor\":\"white\",\"linecolor\":\"white\",\"ticks\":\"\"},\"baxis\":{\"gridcolor\":\"white\",\"linecolor\":\"white\",\"ticks\":\"\"},\"caxis\":{\"gridcolor\":\"white\",\"linecolor\":\"white\",\"ticks\":\"\"}},\"coloraxis\":{\"colorbar\":{\"outlinewidth\":0,\"ticks\":\"\"}},\"colorscale\":{\"sequential\":[[0.0,\"#0d0887\"],[0.1111111111111111,\"#46039f\"],[0.2222222222222222,\"#7201a8\"],[0.3333333333333333,\"#9c179e\"],[0.4444444444444444,\"#bd3786\"],[0.5555555555555556,\"#d8576b\"],[0.6666666666666666,\"#ed7953\"],[0.7777777777777778,\"#fb9f3a\"],[0.8888888888888888,\"#fdca26\"],[1.0,\"#f0f921\"]],\"sequentialminus\":[[0.0,\"#0d0887\"],[0.1111111111111111,\"#46039f\"],[0.2222222222222222,\"#7201a8\"],[0.3333333333333333,\"#9c179e\"],[0.4444444444444444,\"#bd3786\"],[0.5555555555555556,\"#d8576b\"],[0.6666666666666666,\"#ed7953\"],[0.7777777777777778,\"#fb9f3a\"],[0.8888888888888888,\"#fdca26\"],[1.0,\"#f0f921\"]],\"diverging\":[[0,\"#8e0152\"],[0.1,\"#c51b7d\"],[0.2,\"#de77ae\"],[0.3,\"#f1b6da\"],[0.4,\"#fde0ef\"],[0.5,\"#f7f7f7\"],[0.6,\"#e6f5d0\"],[0.7,\"#b8e186\"],[0.8,\"#7fbc41\"],[0.9,\"#4d9221\"],[1,\"#276419\"]]},\"xaxis\":{\"gridcolor\":\"white\",\"linecolor\":\"white\",\"ticks\":\"\",\"title\":{\"standoff\":15},\"zerolinecolor\":\"white\",\"automargin\":true,\"zerolinewidth\":2},\"yaxis\":{\"gridcolor\":\"white\",\"linecolor\":\"white\",\"ticks\":\"\",\"title\":{\"standoff\":15},\"zerolinecolor\":\"white\",\"automargin\":true,\"zerolinewidth\":2},\"scene\":{\"xaxis\":{\"backgroundcolor\":\"#E5ECF6\",\"gridcolor\":\"white\",\"linecolor\":\"white\",\"showbackground\":true,\"ticks\":\"\",\"zerolinecolor\":\"white\",\"gridwidth\":2},\"yaxis\":{\"backgroundcolor\":\"#E5ECF6\",\"gridcolor\":\"white\",\"linecolor\":\"white\",\"showbackground\":true,\"ticks\":\"\",\"zerolinecolor\":\"white\",\"gridwidth\":2},\"zaxis\":{\"backgroundcolor\":\"#E5ECF6\",\"gridcolor\":\"white\",\"linecolor\":\"white\",\"showbackground\":true,\"ticks\":\"\",\"zerolinecolor\":\"white\",\"gridwidth\":2}},\"shapedefaults\":{\"line\":{\"color\":\"#2a3f5f\"}},\"annotationdefaults\":{\"arrowcolor\":\"#2a3f5f\",\"arrowhead\":0,\"arrowwidth\":1},\"geo\":{\"bgcolor\":\"white\",\"landcolor\":\"#E5ECF6\",\"subunitcolor\":\"white\",\"showland\":true,\"showlakes\":true,\"lakecolor\":\"white\"},\"title\":{\"x\":0.05},\"mapbox\":{\"style\":\"light\"}}},\"scene\":{\"domain\":{\"x\":[0.0,1.0],\"y\":[0.0,1.0]},\"xaxis\":{\"title\":{\"text\":\"X\"}},\"yaxis\":{\"title\":{\"text\":\"Y\"}},\"zaxis\":{\"title\":{\"text\":\"Z\"}}},\"legend\":{\"tracegroupgap\":0},\"margin\":{\"t\":60},\"height\":800,\"width\":800},                        {\"responsive\": true}                    ).then(function(){\n",
              "                            \n",
              "var gd = document.getElementById('7e9c081f-240e-4d12-9b55-67a289745c7c');\n",
              "var x = new MutationObserver(function (mutations, observer) {{\n",
              "        var display = window.getComputedStyle(gd).display;\n",
              "        if (!display || display === 'none') {{\n",
              "            console.log([gd, 'removed!']);\n",
              "            Plotly.purge(gd);\n",
              "            observer.disconnect();\n",
              "        }}\n",
              "}});\n",
              "\n",
              "// Listen for the removal of the full notebook cells\n",
              "var notebookContainer = gd.closest('#notebook-container');\n",
              "if (notebookContainer) {{\n",
              "    x.observe(notebookContainer, {childList: true});\n",
              "}}\n",
              "\n",
              "// Listen for the clearing of the current output cell\n",
              "var outputEl = gd.closest('.output');\n",
              "if (outputEl) {{\n",
              "    x.observe(outputEl, {childList: true});\n",
              "}}\n",
              "\n",
              "                        })                };                            </script>        </div>\n",
              "</body>\n",
              "</html>"
            ]
          },
          "metadata": {}
        }
      ]
    }
  ]
}