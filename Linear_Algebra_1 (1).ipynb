{
  "nbformat": 4,
  "nbformat_minor": 0,
  "metadata": {
    "colab": {
      "provenance": []
    },
    "kernelspec": {
      "name": "python3",
      "display_name": "Python 3"
    },
    "language_info": {
      "name": "python"
    }
  },
  "cells": [
    {
      "cell_type": "markdown",
      "source": [
        "##Vector"
      ],
      "metadata": {
        "id": "eKVcS8sIMr9a"
      }
    },
    {
      "cell_type": "code",
      "source": [
        "import numpy as np # numpy library for linear algebra"
      ],
      "metadata": {
        "id": "iT7ys8E6MiLz"
      },
      "execution_count": 60,
      "outputs": []
    },
    {
      "cell_type": "markdown",
      "source": [
        "###How to create a vector?"
      ],
      "metadata": {
        "id": "eR1Thn3x9ggP"
      }
    },
    {
      "cell_type": "code",
      "execution_count": 61,
      "metadata": {
        "id": "AtVuuNzuIKFq",
        "colab": {
          "base_uri": "https://localhost:8080/"
        },
        "outputId": "2864ed4d-b77d-48db-b3ea-60bffb4588ea"
      },
      "outputs": [
        {
          "output_type": "execute_result",
          "data": {
            "text/plain": [
              "array([1, 2, 3])"
            ]
          },
          "metadata": {},
          "execution_count": 61
        }
      ],
      "source": [
        "asArray = np.array([1,2,3]) # 1D array\n",
        "asArray"
      ]
    },
    {
      "cell_type": "code",
      "source": [
        "# .shape is a method to find dimensions of matrix\n",
        "asArray.shape"
      ],
      "metadata": {
        "id": "GtacqlDNHJJW",
        "colab": {
          "base_uri": "https://localhost:8080/"
        },
        "outputId": "6a5d6aa0-ad28-498b-ed25-9db96f5ce060"
      },
      "execution_count": 62,
      "outputs": [
        {
          "output_type": "execute_result",
          "data": {
            "text/plain": [
              "(3,)"
            ]
          },
          "metadata": {},
          "execution_count": 62
        }
      ]
    },
    {
      "cell_type": "markdown",
      "source": [
        "### Row Vector"
      ],
      "metadata": {
        "id": "zoKZzVZG9qqH"
      }
    },
    {
      "cell_type": "code",
      "source": [
        "rowVec = np.array([ [1,2,3] ]) # row vector\n",
        "rowVec"
      ],
      "metadata": {
        "id": "yX5H0gVgMcjF",
        "colab": {
          "base_uri": "https://localhost:8080/"
        },
        "outputId": "62f788aa-ac3b-41c6-a873-28dbbdb994c4"
      },
      "execution_count": 63,
      "outputs": [
        {
          "output_type": "execute_result",
          "data": {
            "text/plain": [
              "array([[1, 2, 3]])"
            ]
          },
          "metadata": {},
          "execution_count": 63
        }
      ]
    },
    {
      "cell_type": "code",
      "source": [
        "rowVec.shape"
      ],
      "metadata": {
        "id": "PYeJUYIiHDB-",
        "colab": {
          "base_uri": "https://localhost:8080/"
        },
        "outputId": "635f6c06-843d-4d2d-b3d4-5d4c4a41f089"
      },
      "execution_count": 64,
      "outputs": [
        {
          "output_type": "execute_result",
          "data": {
            "text/plain": [
              "(1, 3)"
            ]
          },
          "metadata": {},
          "execution_count": 64
        }
      ]
    },
    {
      "cell_type": "markdown",
      "source": [
        "### Column Vector"
      ],
      "metadata": {
        "id": "R41Zezbe9teH"
      }
    },
    {
      "cell_type": "code",
      "source": [
        "colVec = np.array([ [1],[2],[3] ]) # column vector\n",
        "colVec"
      ],
      "metadata": {
        "id": "O6yFPej-Mnal",
        "colab": {
          "base_uri": "https://localhost:8080/"
        },
        "outputId": "0d842263-5077-4ae3-c76d-915881c3747e"
      },
      "execution_count": 65,
      "outputs": [
        {
          "output_type": "execute_result",
          "data": {
            "text/plain": [
              "array([[1],\n",
              "       [2],\n",
              "       [3]])"
            ]
          },
          "metadata": {},
          "execution_count": 65
        }
      ]
    },
    {
      "cell_type": "code",
      "source": [
        "colVec.shape"
      ],
      "metadata": {
        "id": "0kObenuWHGvu",
        "colab": {
          "base_uri": "https://localhost:8080/"
        },
        "outputId": "1dc9da01-763c-4ab2-d62d-a12deab466bb"
      },
      "execution_count": 66,
      "outputs": [
        {
          "output_type": "execute_result",
          "data": {
            "text/plain": [
              "(3, 1)"
            ]
          },
          "metadata": {},
          "execution_count": 66
        }
      ]
    },
    {
      "cell_type": "markdown",
      "source": [
        "##Vector Arithemtic"
      ],
      "metadata": {
        "id": "ETMy-Q_IOexA"
      }
    },
    {
      "cell_type": "code",
      "source": [
        "v1 = np.array([1,2,3])\n",
        "v2 = np.array([4,5,6])"
      ],
      "metadata": {
        "id": "-DOiUu4uMyRR"
      },
      "execution_count": 67,
      "outputs": []
    },
    {
      "cell_type": "markdown",
      "source": [
        "###Vector Addition"
      ],
      "metadata": {
        "id": "v6HLMWPQ929x"
      }
    },
    {
      "cell_type": "code",
      "source": [
        "v1+v2"
      ],
      "metadata": {
        "id": "NXzGtK6d90Gg",
        "colab": {
          "base_uri": "https://localhost:8080/"
        },
        "outputId": "c1274e28-6c4c-44a5-d95f-ddc7ec145408"
      },
      "execution_count": 68,
      "outputs": [
        {
          "output_type": "execute_result",
          "data": {
            "text/plain": [
              "array([5, 7, 9])"
            ]
          },
          "metadata": {},
          "execution_count": 68
        }
      ]
    },
    {
      "cell_type": "markdown",
      "source": [
        "###Vector Multiplication"
      ],
      "metadata": {
        "id": "xJDaeyMk98Jy"
      }
    },
    {
      "cell_type": "code",
      "source": [
        "v1*v2       # componentwise multiplication"
      ],
      "metadata": {
        "id": "LDH3VUnVNgQ4",
        "colab": {
          "base_uri": "https://localhost:8080/"
        },
        "outputId": "296f7fd8-e331-4cc2-da00-481631a1af2d"
      },
      "execution_count": 69,
      "outputs": [
        {
          "output_type": "execute_result",
          "data": {
            "text/plain": [
              "array([ 4, 10, 18])"
            ]
          },
          "metadata": {},
          "execution_count": 69
        }
      ]
    },
    {
      "cell_type": "code",
      "source": [
        "v1@v2       # scalar product"
      ],
      "metadata": {
        "id": "vGSxOCLANiwe",
        "colab": {
          "base_uri": "https://localhost:8080/"
        },
        "outputId": "64c7bb99-0684-4919-9869-a9eb29ca43f4"
      },
      "execution_count": 70,
      "outputs": [
        {
          "output_type": "execute_result",
          "data": {
            "text/plain": [
              "32"
            ]
          },
          "metadata": {},
          "execution_count": 70
        }
      ]
    },
    {
      "cell_type": "code",
      "source": [
        "np.cross(v1,v2)         # vector product"
      ],
      "metadata": {
        "id": "T0MAvHeTUD5n",
        "colab": {
          "base_uri": "https://localhost:8080/"
        },
        "outputId": "d846998a-d6f5-4cd2-df83-c2420a8502a8"
      },
      "execution_count": 71,
      "outputs": [
        {
          "output_type": "execute_result",
          "data": {
            "text/plain": [
              "array([-3,  6, -3])"
            ]
          },
          "metadata": {},
          "execution_count": 71
        }
      ]
    },
    {
      "cell_type": "markdown",
      "source": [
        "###Vector Division"
      ],
      "metadata": {
        "id": "80jTrO9k-FpJ"
      }
    },
    {
      "cell_type": "code",
      "source": [
        "v1/v2       # componentwise division"
      ],
      "metadata": {
        "id": "JbgoQrmbNpOB",
        "colab": {
          "base_uri": "https://localhost:8080/"
        },
        "outputId": "72925eee-5d12-44a0-9623-cf28fffb1ff9"
      },
      "execution_count": 72,
      "outputs": [
        {
          "output_type": "execute_result",
          "data": {
            "text/plain": [
              "array([0.25, 0.4 , 0.5 ])"
            ]
          },
          "metadata": {},
          "execution_count": 72
        }
      ]
    },
    {
      "cell_type": "code",
      "source": [
        "v2//v1      # quotient of componentwise division"
      ],
      "metadata": {
        "id": "UErVbOWMNsaB",
        "colab": {
          "base_uri": "https://localhost:8080/"
        },
        "outputId": "e670abe2-95d7-4f3b-fd0d-2bd39ffcd3dd"
      },
      "execution_count": 73,
      "outputs": [
        {
          "output_type": "execute_result",
          "data": {
            "text/plain": [
              "array([4, 2, 2])"
            ]
          },
          "metadata": {},
          "execution_count": 73
        }
      ]
    },
    {
      "cell_type": "code",
      "source": [
        "v2%v1       # remainder of componentwise division"
      ],
      "metadata": {
        "id": "ajFzME-UNxcW",
        "colab": {
          "base_uri": "https://localhost:8080/"
        },
        "outputId": "f24b2025-d0ed-4e92-ea10-03b832f9da75"
      },
      "execution_count": 74,
      "outputs": [
        {
          "output_type": "execute_result",
          "data": {
            "text/plain": [
              "array([0, 1, 0])"
            ]
          },
          "metadata": {},
          "execution_count": 74
        }
      ]
    },
    {
      "cell_type": "markdown",
      "source": [
        "###Scalar Multiplication"
      ],
      "metadata": {
        "id": "Kb0hXTKX-KW6"
      }
    },
    {
      "cell_type": "code",
      "source": [
        "2*v1"
      ],
      "metadata": {
        "id": "dG8im8odN2AQ",
        "colab": {
          "base_uri": "https://localhost:8080/"
        },
        "outputId": "f3dc0023-196b-4789-a11b-e0dc3574da94"
      },
      "execution_count": 75,
      "outputs": [
        {
          "output_type": "execute_result",
          "data": {
            "text/plain": [
              "array([2, 4, 6])"
            ]
          },
          "metadata": {},
          "execution_count": 75
        }
      ]
    },
    {
      "cell_type": "code",
      "source": [
        "v1/2"
      ],
      "metadata": {
        "id": "uO5vLIVaN7SM",
        "colab": {
          "base_uri": "https://localhost:8080/"
        },
        "outputId": "ef49650c-7935-4fda-8d19-a86c9991433e"
      },
      "execution_count": 76,
      "outputs": [
        {
          "output_type": "execute_result",
          "data": {
            "text/plain": [
              "array([0.5, 1. , 1.5])"
            ]
          },
          "metadata": {},
          "execution_count": 76
        }
      ]
    },
    {
      "cell_type": "markdown",
      "source": [
        "### Some more operations on vectors"
      ],
      "metadata": {
        "id": "qvcagOb8-PIA"
      }
    },
    {
      "cell_type": "code",
      "source": [
        "2 + v1      # add 2 into every component of v1"
      ],
      "metadata": {
        "id": "ozPeP_zSN4ts",
        "colab": {
          "base_uri": "https://localhost:8080/"
        },
        "outputId": "42bb9bab-9ffa-4dd5-b4e9-4df4e43fda51"
      },
      "execution_count": 77,
      "outputs": [
        {
          "output_type": "execute_result",
          "data": {
            "text/plain": [
              "array([3, 4, 5])"
            ]
          },
          "metadata": {},
          "execution_count": 77
        }
      ]
    },
    {
      "cell_type": "code",
      "source": [
        "v1 = np.array([[1,2,3]])\n",
        "v2 = np.array([[4,5,6]])\n",
        "v1+v2"
      ],
      "metadata": {
        "id": "85gX55NENJm_",
        "colab": {
          "base_uri": "https://localhost:8080/"
        },
        "outputId": "056329de-e61b-40e4-fa5d-a86eb9b036d3"
      },
      "execution_count": 78,
      "outputs": [
        {
          "output_type": "execute_result",
          "data": {
            "text/plain": [
              "array([[5, 7, 9]])"
            ]
          },
          "metadata": {},
          "execution_count": 78
        }
      ]
    },
    {
      "cell_type": "code",
      "source": [
        "v1*v2"
      ],
      "metadata": {
        "id": "59xMeetwOBZV",
        "colab": {
          "base_uri": "https://localhost:8080/"
        },
        "outputId": "98b809a1-a808-48f1-8872-402551030066"
      },
      "execution_count": 79,
      "outputs": [
        {
          "output_type": "execute_result",
          "data": {
            "text/plain": [
              "array([[ 4, 10, 18]])"
            ]
          },
          "metadata": {},
          "execution_count": 79
        }
      ]
    },
    {
      "cell_type": "code",
      "source": [
        "v1@v2"
      ],
      "metadata": {
        "id": "qvj99pGEOGOl",
        "colab": {
          "base_uri": "https://localhost:8080/",
          "height": 159
        },
        "outputId": "e2eb0ecb-b894-480b-d35b-104fbff4718b"
      },
      "execution_count": 80,
      "outputs": [
        {
          "output_type": "error",
          "ename": "ValueError",
          "evalue": "matmul: Input operand 1 has a mismatch in its core dimension 0, with gufunc signature (n?,k),(k,m?)->(n?,m?) (size 1 is different from 3)",
          "traceback": [
            "\u001b[0;31m---------------------------------------------------------------------------\u001b[0m",
            "\u001b[0;31mValueError\u001b[0m                                Traceback (most recent call last)",
            "\u001b[0;32m<ipython-input-80-0ccfdf0ed413>\u001b[0m in \u001b[0;36m<cell line: 1>\u001b[0;34m()\u001b[0m\n\u001b[0;32m----> 1\u001b[0;31m \u001b[0mv1\u001b[0m\u001b[0;34m@\u001b[0m\u001b[0mv2\u001b[0m\u001b[0;34m\u001b[0m\u001b[0;34m\u001b[0m\u001b[0m\n\u001b[0m",
            "\u001b[0;31mValueError\u001b[0m: matmul: Input operand 1 has a mismatch in its core dimension 0, with gufunc signature (n?,k),(k,m?)->(n?,m?) (size 1 is different from 3)"
          ]
        }
      ]
    },
    {
      "cell_type": "code",
      "source": [
        "v1.shape"
      ],
      "metadata": {
        "id": "kWQ5keU5QMwI",
        "colab": {
          "base_uri": "https://localhost:8080/"
        },
        "outputId": "e7be4439-9ea1-42f1-ebc0-7de558452d2a"
      },
      "execution_count": 81,
      "outputs": [
        {
          "output_type": "execute_result",
          "data": {
            "text/plain": [
              "(1, 3)"
            ]
          },
          "metadata": {},
          "execution_count": 81
        }
      ]
    },
    {
      "cell_type": "code",
      "source": [
        "3 + v2"
      ],
      "metadata": {
        "id": "jDjN6ay8OJ_h",
        "colab": {
          "base_uri": "https://localhost:8080/"
        },
        "outputId": "c308da3e-5e20-46b7-beb6-9d17583006f3"
      },
      "execution_count": 82,
      "outputs": [
        {
          "output_type": "execute_result",
          "data": {
            "text/plain": [
              "array([[7, 8, 9]])"
            ]
          },
          "metadata": {},
          "execution_count": 82
        }
      ]
    },
    {
      "cell_type": "code",
      "source": [
        "v1 = np.array([[1],[2],[3]])\n",
        "v2 = np.array([[4],[5],[6]])\n",
        "v1+v2"
      ],
      "metadata": {
        "id": "-605N0CsNXaJ",
        "colab": {
          "base_uri": "https://localhost:8080/"
        },
        "outputId": "aa207d90-38ca-4e61-b5dd-39c5e6f804fa"
      },
      "execution_count": 83,
      "outputs": [
        {
          "output_type": "execute_result",
          "data": {
            "text/plain": [
              "array([[5],\n",
              "       [7],\n",
              "       [9]])"
            ]
          },
          "metadata": {},
          "execution_count": 83
        }
      ]
    },
    {
      "cell_type": "code",
      "source": [
        "v1*v2"
      ],
      "metadata": {
        "id": "XJJIYNdnNcuv",
        "colab": {
          "base_uri": "https://localhost:8080/"
        },
        "outputId": "9da82283-c4c9-465a-8b8c-ed820184d105"
      },
      "execution_count": 84,
      "outputs": [
        {
          "output_type": "execute_result",
          "data": {
            "text/plain": [
              "array([[ 4],\n",
              "       [10],\n",
              "       [18]])"
            ]
          },
          "metadata": {},
          "execution_count": 84
        }
      ]
    },
    {
      "cell_type": "code",
      "source": [
        "2 - v1"
      ],
      "metadata": {
        "id": "jjCKeT4tOSo4",
        "colab": {
          "base_uri": "https://localhost:8080/"
        },
        "outputId": "fc8f758a-8ae1-42eb-e0e8-1f535ef9c6a7"
      },
      "execution_count": 85,
      "outputs": [
        {
          "output_type": "execute_result",
          "data": {
            "text/plain": [
              "array([[ 1],\n",
              "       [ 0],\n",
              "       [-1]])"
            ]
          },
          "metadata": {},
          "execution_count": 85
        }
      ]
    },
    {
      "cell_type": "code",
      "source": [
        "v1@v2"
      ],
      "metadata": {
        "id": "2tW7c7LZOVhq",
        "colab": {
          "base_uri": "https://localhost:8080/",
          "height": 159
        },
        "outputId": "cc778534-be52-4958-fffa-0b7dcd8ca121"
      },
      "execution_count": 86,
      "outputs": [
        {
          "output_type": "error",
          "ename": "ValueError",
          "evalue": "matmul: Input operand 1 has a mismatch in its core dimension 0, with gufunc signature (n?,k),(k,m?)->(n?,m?) (size 3 is different from 1)",
          "traceback": [
            "\u001b[0;31m---------------------------------------------------------------------------\u001b[0m",
            "\u001b[0;31mValueError\u001b[0m                                Traceback (most recent call last)",
            "\u001b[0;32m<ipython-input-86-0ccfdf0ed413>\u001b[0m in \u001b[0;36m<cell line: 1>\u001b[0;34m()\u001b[0m\n\u001b[0;32m----> 1\u001b[0;31m \u001b[0mv1\u001b[0m\u001b[0;34m@\u001b[0m\u001b[0mv2\u001b[0m\u001b[0;34m\u001b[0m\u001b[0;34m\u001b[0m\u001b[0m\n\u001b[0m",
            "\u001b[0;31mValueError\u001b[0m: matmul: Input operand 1 has a mismatch in its core dimension 0, with gufunc signature (n?,k),(k,m?)->(n?,m?) (size 3 is different from 1)"
          ]
        }
      ]
    },
    {
      "cell_type": "code",
      "source": [
        "v2-3*v1"
      ],
      "metadata": {
        "id": "rxx0AdrZObH9",
        "colab": {
          "base_uri": "https://localhost:8080/"
        },
        "outputId": "77625fc1-2cf9-4610-eb46-38f038948c14"
      },
      "execution_count": 87,
      "outputs": [
        {
          "output_type": "execute_result",
          "data": {
            "text/plain": [
              "array([[ 1],\n",
              "       [-1],\n",
              "       [-3]])"
            ]
          },
          "metadata": {},
          "execution_count": 87
        }
      ]
    },
    {
      "cell_type": "markdown",
      "source": [
        "### Check if two vectors are equal"
      ],
      "metadata": {
        "id": "KG7HA17--kKq"
      }
    },
    {
      "cell_type": "code",
      "source": [
        "v1 == v1  # componentwise check"
      ],
      "metadata": {
        "id": "p3zUKPGrOmsL",
        "colab": {
          "base_uri": "https://localhost:8080/"
        },
        "outputId": "1649915e-56e0-4540-950c-07f950d109a5"
      },
      "execution_count": 88,
      "outputs": [
        {
          "output_type": "execute_result",
          "data": {
            "text/plain": [
              "array([[ True],\n",
              "       [ True],\n",
              "       [ True]])"
            ]
          },
          "metadata": {},
          "execution_count": 88
        }
      ]
    },
    {
      "cell_type": "code",
      "source": [
        "(v1==v2).all() #check if v1 = v2"
      ],
      "metadata": {
        "id": "hyWjC47NPsvt",
        "colab": {
          "base_uri": "https://localhost:8080/"
        },
        "outputId": "26a7d644-2958-4569-c174-a784ffbd6284"
      },
      "execution_count": 89,
      "outputs": [
        {
          "output_type": "execute_result",
          "data": {
            "text/plain": [
              "False"
            ]
          },
          "metadata": {},
          "execution_count": 89
        }
      ]
    },
    {
      "cell_type": "code",
      "source": [
        "v3 = np.array([[1],[2],[3]])\n",
        "(v1==v3).all()"
      ],
      "metadata": {
        "id": "XhF283wkP1XL",
        "colab": {
          "base_uri": "https://localhost:8080/"
        },
        "outputId": "2e7347c2-b091-45bc-eee0-8e0407a86c37"
      },
      "execution_count": 90,
      "outputs": [
        {
          "output_type": "execute_result",
          "data": {
            "text/plain": [
              "True"
            ]
          },
          "metadata": {},
          "execution_count": 90
        }
      ]
    },
    {
      "cell_type": "code",
      "source": [
        "v4 = np.array([[1],[1],[3]])\n",
        "(v1==v4).all()"
      ],
      "metadata": {
        "id": "Dm5Cr9QBP-Hg",
        "colab": {
          "base_uri": "https://localhost:8080/"
        },
        "outputId": "a163da6a-2b7a-40b3-a434-29169e494c1d"
      },
      "execution_count": 91,
      "outputs": [
        {
          "output_type": "execute_result",
          "data": {
            "text/plain": [
              "False"
            ]
          },
          "metadata": {},
          "execution_count": 91
        }
      ]
    },
    {
      "cell_type": "code",
      "source": [
        "(v1==v4).any()"
      ],
      "metadata": {
        "id": "xPtPglXpQEIW",
        "colab": {
          "base_uri": "https://localhost:8080/"
        },
        "outputId": "7ba40d37-cb3a-4c67-cbb1-0e0037fc3c9c"
      },
      "execution_count": 92,
      "outputs": [
        {
          "output_type": "execute_result",
          "data": {
            "text/plain": [
              "True"
            ]
          },
          "metadata": {},
          "execution_count": 92
        }
      ]
    },
    {
      "cell_type": "code",
      "source": [
        "v1 = np.array([[1,1,3]])\n",
        "v2 = np.array([[-1],[2],[4]])"
      ],
      "metadata": {
        "id": "aoTitNoAQeqG"
      },
      "execution_count": 93,
      "outputs": []
    },
    {
      "cell_type": "code",
      "source": [
        "v1@v2"
      ],
      "metadata": {
        "id": "7jf-6iYzQurH",
        "colab": {
          "base_uri": "https://localhost:8080/"
        },
        "outputId": "361e5b6d-f460-4d15-b491-02d8eae5572e"
      },
      "execution_count": 94,
      "outputs": [
        {
          "output_type": "execute_result",
          "data": {
            "text/plain": [
              "array([[13]])"
            ]
          },
          "metadata": {},
          "execution_count": 94
        }
      ]
    },
    {
      "cell_type": "code",
      "source": [
        "np.dot(v1,v2)"
      ],
      "metadata": {
        "id": "7pNPoDvDQWyQ",
        "colab": {
          "base_uri": "https://localhost:8080/"
        },
        "outputId": "b0562a22-3f4c-482c-82d0-895fc61cc2c3"
      },
      "execution_count": 95,
      "outputs": [
        {
          "output_type": "execute_result",
          "data": {
            "text/plain": [
              "array([[13]])"
            ]
          },
          "metadata": {},
          "execution_count": 95
        }
      ]
    },
    {
      "cell_type": "code",
      "source": [
        "v1"
      ],
      "metadata": {
        "id": "g-aKI1rkQ2yx",
        "colab": {
          "base_uri": "https://localhost:8080/"
        },
        "outputId": "d19f924b-3d94-4bea-b9d0-df3165f154aa"
      },
      "execution_count": 96,
      "outputs": [
        {
          "output_type": "execute_result",
          "data": {
            "text/plain": [
              "array([[1, 1, 3]])"
            ]
          },
          "metadata": {},
          "execution_count": 96
        }
      ]
    },
    {
      "cell_type": "markdown",
      "source": [
        "###Functions on Vectors"
      ],
      "metadata": {
        "id": "T8e0NvQSQ8ee"
      }
    },
    {
      "cell_type": "code",
      "source": [
        "np.sin(v1)"
      ],
      "metadata": {
        "id": "UmLtUBMTQ4Bu",
        "colab": {
          "base_uri": "https://localhost:8080/"
        },
        "outputId": "381a5775-0787-45d0-dc0a-5da32323e711"
      },
      "execution_count": 97,
      "outputs": [
        {
          "output_type": "execute_result",
          "data": {
            "text/plain": [
              "array([[0.84147098, 0.84147098, 0.14112001]])"
            ]
          },
          "metadata": {},
          "execution_count": 97
        }
      ]
    },
    {
      "cell_type": "code",
      "source": [
        "np.sqrt(v1)"
      ],
      "metadata": {
        "id": "M6lZFQjdRbCn",
        "colab": {
          "base_uri": "https://localhost:8080/"
        },
        "outputId": "5da3d92b-3495-4e79-d5bc-fb4ee350aa92"
      },
      "execution_count": 98,
      "outputs": [
        {
          "output_type": "execute_result",
          "data": {
            "text/plain": [
              "array([[1.        , 1.        , 1.73205081]])"
            ]
          },
          "metadata": {},
          "execution_count": 98
        }
      ]
    },
    {
      "cell_type": "code",
      "source": [
        "np.exp(v1)"
      ],
      "metadata": {
        "id": "Q-2SipppReL1",
        "colab": {
          "base_uri": "https://localhost:8080/"
        },
        "outputId": "7c4f6d23-0607-4274-f2ff-9299bdb74557"
      },
      "execution_count": 99,
      "outputs": [
        {
          "output_type": "execute_result",
          "data": {
            "text/plain": [
              "array([[ 2.71828183,  2.71828183, 20.08553692]])"
            ]
          },
          "metadata": {},
          "execution_count": 99
        }
      ]
    },
    {
      "cell_type": "markdown",
      "source": [
        "###Unit Vector"
      ],
      "metadata": {
        "id": "Kw_z8lot-tS7"
      }
    },
    {
      "cell_type": "code",
      "source": [
        "np.linalg.norm(v1)"
      ],
      "metadata": {
        "id": "7c2Jube5RlOM",
        "colab": {
          "base_uri": "https://localhost:8080/"
        },
        "outputId": "562c4249-1a33-4d5d-ddb8-86376eadfc1c"
      },
      "execution_count": 100,
      "outputs": [
        {
          "output_type": "execute_result",
          "data": {
            "text/plain": [
              "3.3166247903554"
            ]
          },
          "metadata": {},
          "execution_count": 100
        }
      ]
    },
    {
      "cell_type": "code",
      "source": [
        "unit_v1 = v1/np.linalg.norm(v1)"
      ],
      "metadata": {
        "id": "h0szgC08SCZO"
      },
      "execution_count": 101,
      "outputs": []
    },
    {
      "cell_type": "code",
      "source": [
        "unit_v1"
      ],
      "metadata": {
        "id": "AhR9dQHlSIci",
        "colab": {
          "base_uri": "https://localhost:8080/"
        },
        "outputId": "a5ae3c1e-3f8f-429a-8448-674fa1e95fae"
      },
      "execution_count": 102,
      "outputs": [
        {
          "output_type": "execute_result",
          "data": {
            "text/plain": [
              "array([[0.30151134, 0.30151134, 0.90453403]])"
            ]
          },
          "metadata": {},
          "execution_count": 102
        }
      ]
    },
    {
      "cell_type": "markdown",
      "source": [
        "##Matrix"
      ],
      "metadata": {
        "id": "fleluhVXU8PG"
      }
    },
    {
      "cell_type": "code",
      "source": [
        "M = np.array([[1,2,3],[4,5,6]])\n",
        "M"
      ],
      "metadata": {
        "id": "h4vN8Jf2U-E3",
        "colab": {
          "base_uri": "https://localhost:8080/"
        },
        "outputId": "977f552d-fc0d-49ab-9d65-ce184195c078"
      },
      "execution_count": 103,
      "outputs": [
        {
          "output_type": "execute_result",
          "data": {
            "text/plain": [
              "array([[1, 2, 3],\n",
              "       [4, 5, 6]])"
            ]
          },
          "metadata": {},
          "execution_count": 103
        }
      ]
    },
    {
      "cell_type": "code",
      "source": [
        "A = np.ones((2,3))\n",
        "A"
      ],
      "metadata": {
        "id": "mgzWfT32VHiv",
        "colab": {
          "base_uri": "https://localhost:8080/"
        },
        "outputId": "792c744e-9482-4e23-e742-972ec4c0ae34"
      },
      "execution_count": 104,
      "outputs": [
        {
          "output_type": "execute_result",
          "data": {
            "text/plain": [
              "array([[1., 1., 1.],\n",
              "       [1., 1., 1.]])"
            ]
          },
          "metadata": {},
          "execution_count": 104
        }
      ]
    },
    {
      "cell_type": "code",
      "source": [
        "B = np.zeros((3,2))\n",
        "B"
      ],
      "metadata": {
        "id": "gqRMEyPLVWL5",
        "colab": {
          "base_uri": "https://localhost:8080/"
        },
        "outputId": "56ed4c42-80ba-45db-b583-9ddb4ea79c02"
      },
      "execution_count": 105,
      "outputs": [
        {
          "output_type": "execute_result",
          "data": {
            "text/plain": [
              "array([[0., 0.],\n",
              "       [0., 0.],\n",
              "       [0., 0.]])"
            ]
          },
          "metadata": {},
          "execution_count": 105
        }
      ]
    },
    {
      "cell_type": "markdown",
      "source": [
        "### Create a random matrix"
      ],
      "metadata": {
        "id": "LUaOKpbb_Qys"
      }
    },
    {
      "cell_type": "code",
      "source": [
        "C = np.random.rand(2,3)\n",
        "C"
      ],
      "metadata": {
        "id": "Z_7WmlJYVtIp",
        "colab": {
          "base_uri": "https://localhost:8080/"
        },
        "outputId": "9807d445-52d9-4a70-ea03-1ca908d73a99"
      },
      "execution_count": 106,
      "outputs": [
        {
          "output_type": "execute_result",
          "data": {
            "text/plain": [
              "array([[0.23300212, 0.95649188, 0.01285084],\n",
              "       [0.35718074, 0.90785346, 0.31964725]])"
            ]
          },
          "metadata": {},
          "execution_count": 106
        }
      ]
    },
    {
      "cell_type": "code",
      "source": [
        "D = np.random.randn(2,3)\n",
        "D"
      ],
      "metadata": {
        "id": "YeHcNF__V_IH",
        "colab": {
          "base_uri": "https://localhost:8080/"
        },
        "outputId": "5e459f79-c9b5-42b1-8140-6b8d65fddc9e"
      },
      "execution_count": 107,
      "outputs": [
        {
          "output_type": "execute_result",
          "data": {
            "text/plain": [
              "array([[-2.57735358, -0.71913094, -1.17747891],\n",
              "       [ 0.12569809, -0.27480706, -0.33829192]])"
            ]
          },
          "metadata": {},
          "execution_count": 107
        }
      ]
    },
    {
      "cell_type": "code",
      "source": [
        "I = np.eye(2)\n",
        "I"
      ],
      "metadata": {
        "id": "IJdBhVqlWCwg",
        "colab": {
          "base_uri": "https://localhost:8080/"
        },
        "outputId": "787f99fe-1249-492d-a3a2-15122bc4d5b3"
      },
      "execution_count": 108,
      "outputs": [
        {
          "output_type": "execute_result",
          "data": {
            "text/plain": [
              "array([[1., 0.],\n",
              "       [0., 1.]])"
            ]
          },
          "metadata": {},
          "execution_count": 108
        }
      ]
    },
    {
      "cell_type": "code",
      "source": [
        "np.random.seed(10) # this will always give fixed set of random numbers\n",
        "A = np.random.randint(0,10,(3,3))  #(min, max*, (m,n))\n",
        "A"
      ],
      "metadata": {
        "id": "3sbEWaZi_Fg9",
        "colab": {
          "base_uri": "https://localhost:8080/"
        },
        "outputId": "54857a33-9608-478c-ee77-ff5d2eb191ea"
      },
      "execution_count": 109,
      "outputs": [
        {
          "output_type": "execute_result",
          "data": {
            "text/plain": [
              "array([[9, 4, 0],\n",
              "       [1, 9, 0],\n",
              "       [1, 8, 9]])"
            ]
          },
          "metadata": {},
          "execution_count": 109
        }
      ]
    },
    {
      "cell_type": "markdown",
      "source": [
        "###Matrix Arithmetic"
      ],
      "metadata": {
        "id": "zHVxPAjMWwPy"
      }
    },
    {
      "cell_type": "code",
      "source": [
        "A = np.array([[1,2,3],[4,5,6]])\n",
        "B = np.array([[1,2],[3,4],[5,6]])"
      ],
      "metadata": {
        "id": "VgAFuZlQWOqS"
      },
      "execution_count": 110,
      "outputs": []
    },
    {
      "cell_type": "code",
      "source": [
        "A.shape"
      ],
      "metadata": {
        "id": "_xc20gJPWdiR",
        "colab": {
          "base_uri": "https://localhost:8080/"
        },
        "outputId": "318f69ca-45da-4718-d747-d1b0367cccae"
      },
      "execution_count": 111,
      "outputs": [
        {
          "output_type": "execute_result",
          "data": {
            "text/plain": [
              "(2, 3)"
            ]
          },
          "metadata": {},
          "execution_count": 111
        }
      ]
    },
    {
      "cell_type": "code",
      "source": [
        "B.shape"
      ],
      "metadata": {
        "id": "-1m7qkyrWfKI",
        "colab": {
          "base_uri": "https://localhost:8080/"
        },
        "outputId": "f75db642-768c-40c2-8e4b-2f70c24a17f9"
      },
      "execution_count": 112,
      "outputs": [
        {
          "output_type": "execute_result",
          "data": {
            "text/plain": [
              "(3, 2)"
            ]
          },
          "metadata": {},
          "execution_count": 112
        }
      ]
    },
    {
      "cell_type": "code",
      "source": [
        "AB = A@B\n",
        "AB"
      ],
      "metadata": {
        "id": "xnK1i40DWgUV",
        "colab": {
          "base_uri": "https://localhost:8080/"
        },
        "outputId": "06511a75-a716-47ba-d0a0-9f84def0ee56"
      },
      "execution_count": 113,
      "outputs": [
        {
          "output_type": "execute_result",
          "data": {
            "text/plain": [
              "array([[22, 28],\n",
              "       [49, 64]])"
            ]
          },
          "metadata": {},
          "execution_count": 113
        }
      ]
    },
    {
      "cell_type": "code",
      "source": [
        "A*B"
      ],
      "metadata": {
        "id": "8iDRyuF4WnZo",
        "colab": {
          "base_uri": "https://localhost:8080/",
          "height": 141
        },
        "outputId": "699aaded-bbf5-4d25-9810-ab1ac4d05a79"
      },
      "execution_count": 114,
      "outputs": [
        {
          "output_type": "error",
          "ename": "ValueError",
          "evalue": "operands could not be broadcast together with shapes (2,3) (3,2) ",
          "traceback": [
            "\u001b[0;31m---------------------------------------------------------------------------\u001b[0m",
            "\u001b[0;31mValueError\u001b[0m                                Traceback (most recent call last)",
            "\u001b[0;32m<ipython-input-114-47896efed660>\u001b[0m in \u001b[0;36m<cell line: 1>\u001b[0;34m()\u001b[0m\n\u001b[0;32m----> 1\u001b[0;31m \u001b[0mA\u001b[0m\u001b[0;34m*\u001b[0m\u001b[0mB\u001b[0m\u001b[0;34m\u001b[0m\u001b[0;34m\u001b[0m\u001b[0m\n\u001b[0m",
            "\u001b[0;31mValueError\u001b[0m: operands could not be broadcast together with shapes (2,3) (3,2) "
          ]
        }
      ]
    },
    {
      "cell_type": "code",
      "source": [
        "v1 = np.array([1,2,3])\n",
        "v1"
      ],
      "metadata": {
        "id": "GHTyGtWeWs2j",
        "colab": {
          "base_uri": "https://localhost:8080/"
        },
        "outputId": "b4de6dd1-938f-4081-d499-2af86aa42ee1"
      },
      "execution_count": 115,
      "outputs": [
        {
          "output_type": "execute_result",
          "data": {
            "text/plain": [
              "array([1, 2, 3])"
            ]
          },
          "metadata": {},
          "execution_count": 115
        }
      ]
    },
    {
      "cell_type": "code",
      "source": [
        "A@v1"
      ],
      "metadata": {
        "id": "zINoFru8W6a3",
        "colab": {
          "base_uri": "https://localhost:8080/"
        },
        "outputId": "1ee78229-8198-4d88-fc8b-5b4587f15ffe"
      },
      "execution_count": 116,
      "outputs": [
        {
          "output_type": "execute_result",
          "data": {
            "text/plain": [
              "array([14, 32])"
            ]
          },
          "metadata": {},
          "execution_count": 116
        }
      ]
    },
    {
      "cell_type": "code",
      "source": [
        "v2 = np.array([[3],[4],[5]])\n",
        "v2"
      ],
      "metadata": {
        "id": "zFvBxqijXDEY",
        "colab": {
          "base_uri": "https://localhost:8080/"
        },
        "outputId": "414c6fbf-0351-4408-ea5a-665a1a5d9d5a"
      },
      "execution_count": 117,
      "outputs": [
        {
          "output_type": "execute_result",
          "data": {
            "text/plain": [
              "array([[3],\n",
              "       [4],\n",
              "       [5]])"
            ]
          },
          "metadata": {},
          "execution_count": 117
        }
      ]
    },
    {
      "cell_type": "code",
      "source": [
        "A@v2"
      ],
      "metadata": {
        "id": "-TW04nJGXM-d",
        "colab": {
          "base_uri": "https://localhost:8080/"
        },
        "outputId": "0e81a5ff-99e0-4b6e-d29e-6c3643ac3a5e"
      },
      "execution_count": 118,
      "outputs": [
        {
          "output_type": "execute_result",
          "data": {
            "text/plain": [
              "array([[26],\n",
              "       [62]])"
            ]
          },
          "metadata": {},
          "execution_count": 118
        }
      ]
    },
    {
      "cell_type": "code",
      "source": [
        "B@v2"
      ],
      "metadata": {
        "id": "kWCtdPo0XRRt",
        "colab": {
          "base_uri": "https://localhost:8080/",
          "height": 159
        },
        "outputId": "f2ed059b-e62c-4cbc-a67f-271aac8b2fa5"
      },
      "execution_count": 119,
      "outputs": [
        {
          "output_type": "error",
          "ename": "ValueError",
          "evalue": "matmul: Input operand 1 has a mismatch in its core dimension 0, with gufunc signature (n?,k),(k,m?)->(n?,m?) (size 3 is different from 2)",
          "traceback": [
            "\u001b[0;31m---------------------------------------------------------------------------\u001b[0m",
            "\u001b[0;31mValueError\u001b[0m                                Traceback (most recent call last)",
            "\u001b[0;32m<ipython-input-119-6852c3ce2a38>\u001b[0m in \u001b[0;36m<cell line: 1>\u001b[0;34m()\u001b[0m\n\u001b[0;32m----> 1\u001b[0;31m \u001b[0mB\u001b[0m\u001b[0;34m@\u001b[0m\u001b[0mv2\u001b[0m\u001b[0;34m\u001b[0m\u001b[0;34m\u001b[0m\u001b[0m\n\u001b[0m",
            "\u001b[0;31mValueError\u001b[0m: matmul: Input operand 1 has a mismatch in its core dimension 0, with gufunc signature (n?,k),(k,m?)->(n?,m?) (size 3 is different from 2)"
          ]
        }
      ]
    },
    {
      "cell_type": "markdown",
      "source": [
        "###Transpose of a Matrix"
      ],
      "metadata": {
        "id": "E3CHOrqj_Yhl"
      }
    },
    {
      "cell_type": "code",
      "source": [
        "AT = A.T\n",
        "AT"
      ],
      "metadata": {
        "id": "SFniXPmCXUQQ",
        "colab": {
          "base_uri": "https://localhost:8080/"
        },
        "outputId": "895ac4b4-9fd4-4994-fd64-24c6ef63d1a5"
      },
      "execution_count": 120,
      "outputs": [
        {
          "output_type": "execute_result",
          "data": {
            "text/plain": [
              "array([[1, 4],\n",
              "       [2, 5],\n",
              "       [3, 6]])"
            ]
          },
          "metadata": {},
          "execution_count": 120
        }
      ]
    },
    {
      "cell_type": "code",
      "source": [
        "np.transpose(A)"
      ],
      "metadata": {
        "id": "-BJfTOyyXhGk",
        "colab": {
          "base_uri": "https://localhost:8080/"
        },
        "outputId": "3c48363b-8bdc-4bdd-f8d7-40087942eecb"
      },
      "execution_count": 121,
      "outputs": [
        {
          "output_type": "execute_result",
          "data": {
            "text/plain": [
              "array([[1, 4],\n",
              "       [2, 5],\n",
              "       [3, 6]])"
            ]
          },
          "metadata": {},
          "execution_count": 121
        }
      ]
    },
    {
      "cell_type": "code",
      "source": [
        "A"
      ],
      "metadata": {
        "id": "nyl8FCy_X6D6",
        "colab": {
          "base_uri": "https://localhost:8080/"
        },
        "outputId": "cd2b7331-71b1-4e04-c45b-7051dc31a4f1"
      },
      "execution_count": 122,
      "outputs": [
        {
          "output_type": "execute_result",
          "data": {
            "text/plain": [
              "array([[1, 2, 3],\n",
              "       [4, 5, 6]])"
            ]
          },
          "metadata": {},
          "execution_count": 122
        }
      ]
    },
    {
      "cell_type": "markdown",
      "source": [
        "###Determinant"
      ],
      "metadata": {
        "id": "CmMTNyKzhBhC"
      }
    },
    {
      "cell_type": "code",
      "source": [
        "A = np.array([[1,2,3],[4,5,6],[7,8,9]])\n",
        "np.linalg.det(A)"
      ],
      "metadata": {
        "id": "4eHoYMCGg5KT",
        "colab": {
          "base_uri": "https://localhost:8080/"
        },
        "outputId": "4d960cd6-b9b8-476e-9d79-b807390467d4"
      },
      "execution_count": 123,
      "outputs": [
        {
          "output_type": "execute_result",
          "data": {
            "text/plain": [
              "0.0"
            ]
          },
          "metadata": {},
          "execution_count": 123
        }
      ]
    },
    {
      "cell_type": "markdown",
      "source": [
        "###Rank"
      ],
      "metadata": {
        "id": "CchgPVwoGFIW"
      }
    },
    {
      "cell_type": "code",
      "source": [
        "np.linalg.matrix_rank(A)"
      ],
      "metadata": {
        "id": "j1GKDjJiGHOU",
        "colab": {
          "base_uri": "https://localhost:8080/"
        },
        "outputId": "05b1bd6b-c7e3-4c4a-d4eb-fe7324316d43"
      },
      "execution_count": 124,
      "outputs": [
        {
          "output_type": "execute_result",
          "data": {
            "text/plain": [
              "2"
            ]
          },
          "metadata": {},
          "execution_count": 124
        }
      ]
    },
    {
      "cell_type": "markdown",
      "source": [
        "###Inverse"
      ],
      "metadata": {
        "id": "8lityCIHl4-v"
      }
    },
    {
      "cell_type": "code",
      "source": [
        "A = np.array([[1,2],[3,4]])"
      ],
      "metadata": {
        "id": "OwlD8GiblxbR"
      },
      "execution_count": 125,
      "outputs": []
    },
    {
      "cell_type": "code",
      "source": [
        "Ainv = np.linalg.inv(A)\n",
        "Ainv"
      ],
      "metadata": {
        "id": "vMxKijrmluPI",
        "colab": {
          "base_uri": "https://localhost:8080/"
        },
        "outputId": "62dff246-7777-4e0c-c6a8-2d557834eff0"
      },
      "execution_count": 126,
      "outputs": [
        {
          "output_type": "execute_result",
          "data": {
            "text/plain": [
              "array([[-2. ,  1. ],\n",
              "       [ 1.5, -0.5]])"
            ]
          },
          "metadata": {},
          "execution_count": 126
        }
      ]
    },
    {
      "cell_type": "markdown",
      "source": [
        "## Elementary Operations on Matrix"
      ],
      "metadata": {
        "id": "UUMth26TYB8S"
      }
    },
    {
      "cell_type": "code",
      "source": [
        "A = np.array([[1,2,3],[4,5,6],[7,8,9],[10,11,12]])"
      ],
      "metadata": {
        "id": "1ddWyaqMYYmV"
      },
      "execution_count": 127,
      "outputs": []
    },
    {
      "cell_type": "code",
      "source": [
        "A[0] #1st row of matrix"
      ],
      "metadata": {
        "id": "OEiSnS4HX7kG",
        "colab": {
          "base_uri": "https://localhost:8080/"
        },
        "outputId": "55fbde4e-f2fb-41ad-d54f-697474289cf4"
      },
      "execution_count": 128,
      "outputs": [
        {
          "output_type": "execute_result",
          "data": {
            "text/plain": [
              "array([1, 2, 3])"
            ]
          },
          "metadata": {},
          "execution_count": 128
        }
      ]
    },
    {
      "cell_type": "code",
      "source": [
        "A[1]-4*A[0]"
      ],
      "metadata": {
        "id": "UXeaCJPhYJ0o",
        "colab": {
          "base_uri": "https://localhost:8080/"
        },
        "outputId": "fe69e43b-c4eb-4562-ccc1-3f73d27602b6"
      },
      "execution_count": 129,
      "outputs": [
        {
          "output_type": "execute_result",
          "data": {
            "text/plain": [
              "array([ 0, -3, -6])"
            ]
          },
          "metadata": {},
          "execution_count": 129
        }
      ]
    },
    {
      "cell_type": "code",
      "source": [
        "A"
      ],
      "metadata": {
        "id": "QFFTw9j5YXlA",
        "colab": {
          "base_uri": "https://localhost:8080/"
        },
        "outputId": "d2bc35cf-2432-42eb-fa4e-0be99e23d314"
      },
      "execution_count": 130,
      "outputs": [
        {
          "output_type": "execute_result",
          "data": {
            "text/plain": [
              "array([[ 1,  2,  3],\n",
              "       [ 4,  5,  6],\n",
              "       [ 7,  8,  9],\n",
              "       [10, 11, 12]])"
            ]
          },
          "metadata": {},
          "execution_count": 130
        }
      ]
    },
    {
      "cell_type": "code",
      "source": [
        "A[1] = A[1]-4*A[0]\n",
        "A"
      ],
      "metadata": {
        "id": "-68isv_fYPPo",
        "colab": {
          "base_uri": "https://localhost:8080/"
        },
        "outputId": "e2037d50-c3f8-4a07-e600-a2919c02f1bd"
      },
      "execution_count": 131,
      "outputs": [
        {
          "output_type": "execute_result",
          "data": {
            "text/plain": [
              "array([[ 1,  2,  3],\n",
              "       [ 0, -3, -6],\n",
              "       [ 7,  8,  9],\n",
              "       [10, 11, 12]])"
            ]
          },
          "metadata": {},
          "execution_count": 131
        }
      ]
    },
    {
      "cell_type": "code",
      "source": [
        "A[2] = A[2] - 7*A[0]\n",
        "A[3] = A[3] - 10*A[0]\n",
        "A"
      ],
      "metadata": {
        "id": "qrftpFNRYr3a",
        "colab": {
          "base_uri": "https://localhost:8080/"
        },
        "outputId": "fb5f15a6-ef31-4a7a-c927-c9eff3d17f24"
      },
      "execution_count": 132,
      "outputs": [
        {
          "output_type": "execute_result",
          "data": {
            "text/plain": [
              "array([[  1,   2,   3],\n",
              "       [  0,  -3,  -6],\n",
              "       [  0,  -6, -12],\n",
              "       [  0,  -9, -18]])"
            ]
          },
          "metadata": {},
          "execution_count": 132
        }
      ]
    },
    {
      "cell_type": "markdown",
      "source": [
        "## Convert A to its Row Echelon Form"
      ],
      "metadata": {
        "id": "NUXiBEZHY7hy"
      }
    },
    {
      "cell_type": "code",
      "source": [
        "A[2] = A[2]-2*A[1]\n",
        "A[3] = A[3]-3*A[1]\n",
        "A"
      ],
      "metadata": {
        "id": "_KwXujmBY7Eb",
        "colab": {
          "base_uri": "https://localhost:8080/"
        },
        "outputId": "771cc18f-5dfb-49c3-e83c-f4f18ffe0a1d"
      },
      "execution_count": 133,
      "outputs": [
        {
          "output_type": "execute_result",
          "data": {
            "text/plain": [
              "array([[ 1,  2,  3],\n",
              "       [ 0, -3, -6],\n",
              "       [ 0,  0,  0],\n",
              "       [ 0,  0,  0]])"
            ]
          },
          "metadata": {},
          "execution_count": 133
        }
      ]
    },
    {
      "cell_type": "code",
      "source": [
        "A = np.array([[1,2,3],[4,5,6],[7,8,9],[10,11,12]])\n",
        "A"
      ],
      "metadata": {
        "id": "aj-dDBJXZVuV",
        "colab": {
          "base_uri": "https://localhost:8080/"
        },
        "outputId": "10f6459a-dfd3-4f47-ec0c-14cad8fd7797"
      },
      "execution_count": 134,
      "outputs": [
        {
          "output_type": "execute_result",
          "data": {
            "text/plain": [
              "array([[ 1,  2,  3],\n",
              "       [ 4,  5,  6],\n",
              "       [ 7,  8,  9],\n",
              "       [10, 11, 12]])"
            ]
          },
          "metadata": {},
          "execution_count": 134
        }
      ]
    },
    {
      "cell_type": "code",
      "source": [
        "import sympy as sp\n",
        "A = sp.Matrix(A)\n",
        "A"
      ],
      "metadata": {
        "id": "ELqYeLVBfVHG",
        "colab": {
          "base_uri": "https://localhost:8080/",
          "height": 98
        },
        "outputId": "04349d13-07d0-4dfe-d634-7cdf1a6ed699"
      },
      "execution_count": 135,
      "outputs": [
        {
          "output_type": "execute_result",
          "data": {
            "text/plain": [
              "Matrix([\n",
              "[ 1,  2,  3],\n",
              "[ 4,  5,  6],\n",
              "[ 7,  8,  9],\n",
              "[10, 11, 12]])"
            ],
            "text/latex": "$\\displaystyle \\left[\\begin{matrix}1 & 2 & 3\\\\4 & 5 & 6\\\\7 & 8 & 9\\\\10 & 11 & 12\\end{matrix}\\right]$"
          },
          "metadata": {},
          "execution_count": 135
        }
      ]
    },
    {
      "cell_type": "code",
      "source": [
        "rref_A = A.rref()\n",
        "rref_A"
      ],
      "metadata": {
        "id": "wnKR1Nlkfx-v",
        "colab": {
          "base_uri": "https://localhost:8080/"
        },
        "outputId": "31b5136a-ae4b-416c-c16b-e726a0133d99"
      },
      "execution_count": 136,
      "outputs": [
        {
          "output_type": "execute_result",
          "data": {
            "text/plain": [
              "(Matrix([\n",
              " [1, 0, -1],\n",
              " [0, 1,  2],\n",
              " [0, 0,  0],\n",
              " [0, 0,  0]]),\n",
              " (0, 1))"
            ]
          },
          "metadata": {},
          "execution_count": 136
        }
      ]
    },
    {
      "cell_type": "code",
      "source": [
        "rref_A[0]"
      ],
      "metadata": {
        "id": "9EDIGQ62Z6s6",
        "colab": {
          "base_uri": "https://localhost:8080/",
          "height": 98
        },
        "outputId": "1394dca7-c1bc-4dd6-d214-cb04492ec249"
      },
      "execution_count": 137,
      "outputs": [
        {
          "output_type": "execute_result",
          "data": {
            "text/plain": [
              "Matrix([\n",
              "[1, 0, -1],\n",
              "[0, 1,  2],\n",
              "[0, 0,  0],\n",
              "[0, 0,  0]])"
            ],
            "text/latex": "$\\displaystyle \\left[\\begin{matrix}1 & 0 & -1\\\\0 & 1 & 2\\\\0 & 0 & 0\\\\0 & 0 & 0\\end{matrix}\\right]$"
          },
          "metadata": {},
          "execution_count": 137
        }
      ]
    },
    {
      "cell_type": "code",
      "source": [
        "rref_A[1]"
      ],
      "metadata": {
        "id": "dm7ZmPiDgy7V",
        "colab": {
          "base_uri": "https://localhost:8080/"
        },
        "outputId": "7efcfa5e-b751-46a5-a487-4488fff775a4"
      },
      "execution_count": 138,
      "outputs": [
        {
          "output_type": "execute_result",
          "data": {
            "text/plain": [
              "(0, 1)"
            ]
          },
          "metadata": {},
          "execution_count": 138
        }
      ]
    },
    {
      "cell_type": "markdown",
      "source": [
        "###Rank"
      ],
      "metadata": {
        "id": "a6JGloXqjd27"
      }
    },
    {
      "cell_type": "code",
      "source": [
        "A = np.array([[1,2,3],[4,5,6],[7,8,9],[10,11,12]])"
      ],
      "metadata": {
        "id": "7Yv2Cpz1jEwQ"
      },
      "execution_count": 139,
      "outputs": []
    },
    {
      "cell_type": "code",
      "source": [
        "np.linalg.matrix_rank(A)"
      ],
      "metadata": {
        "id": "77fw4skvjXfS",
        "colab": {
          "base_uri": "https://localhost:8080/"
        },
        "outputId": "1f82e6ff-c77a-474d-ec4d-a4d30c7e99be"
      },
      "execution_count": 140,
      "outputs": [
        {
          "output_type": "execute_result",
          "data": {
            "text/plain": [
              "2"
            ]
          },
          "metadata": {},
          "execution_count": 140
        }
      ]
    },
    {
      "cell_type": "code",
      "source": [
        "import scipy\n",
        "scipy.linalg.null_space(A)"
      ],
      "metadata": {
        "id": "BRgH4lnFi01z",
        "colab": {
          "base_uri": "https://localhost:8080/"
        },
        "outputId": "d8f35d76-4038-4d6d-dedb-d3f1cbc4973c"
      },
      "execution_count": 141,
      "outputs": [
        {
          "output_type": "execute_result",
          "data": {
            "text/plain": [
              "array([[-0.40824829],\n",
              "       [ 0.81649658],\n",
              "       [-0.40824829]])"
            ]
          },
          "metadata": {},
          "execution_count": 141
        }
      ]
    }
  ]
}